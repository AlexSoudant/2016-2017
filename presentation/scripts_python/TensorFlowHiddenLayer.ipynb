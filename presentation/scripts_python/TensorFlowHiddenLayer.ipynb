{
 "cells": [
  {
   "cell_type": "code",
   "execution_count": 2,
   "metadata": {
    "collapsed": false
   },
   "outputs": [
    {
     "name": "stdout",
     "output_type": "stream",
     "text": [
      "('Training set', (1882, 56, 56), (1882, 1), (1882, 1), (1882, 1), (1882, 1), (1882, 1))\n",
      "('Validation set', (764, 56, 56), (764, 1), (764, 1), (764, 1), (764, 1), (764, 1))\n"
     ]
    }
   ],
   "source": [
    "# Now with tensorflow\n",
    "\n",
    "import numpy as np\n",
    "import tensorflow as tf\n",
    "from six.moves import cPickle as pickle\n",
    "from six.moves import range\n",
    "\n",
    "pickle_file = 'housingNantesAllInfoFullImages.pickle'\n",
    "\n",
    "with open(pickle_file, 'rb') as f:\n",
    "  save = pickle.load(f)\n",
    "  train_dataset = save['train_dataset']\n",
    "  train_prices_labels = save['train_prices_labels']\n",
    "  train_nbRooms_labels = save['train_nbRooms_labels']\n",
    "  train_surfaceHouse_labels = save['train_surfaceHouse_labels']\n",
    "  train_surfaceLand_labels = save['train_surfaceLand_labels']\n",
    "  train_nbPictures_labels = save['train_nbPictures_labels']\n",
    "  valid_dataset = save['valid_dataset']\n",
    "  valid_prices_labels = save['valid_prices_labels']\n",
    "  valid_nbRooms_labels = save['valid_nbRooms_labels']\n",
    "  valid_surfaceHouse_labels = save['valid_surfaceHouse_labels']\n",
    "  valid_surfaceLand_labels = save['valid_surfaceLand_labels']\n",
    "  valid_nbPictures_labels = save['valid_nbPictures_labels']\n",
    "\n",
    "\n",
    "\n",
    "  del save  # hint to help gc free up memory\n",
    "  print('Training set', train_dataset.shape, train_prices_labels.shape,train_nbRooms_labels.shape,train_surfaceHouse_labels.shape,train_surfaceLand_labels.shape,train_nbPictures_labels.shape)\n",
    "  print('Validation set', valid_dataset.shape, valid_prices_labels.shape,valid_nbRooms_labels.shape,valid_surfaceHouse_labels.shape,valid_surfaceLand_labels.shape,valid_nbPictures_labels.shape)\n",
    "\n",
    "image_size = 56"
   ]
  },
  {
   "cell_type": "code",
   "execution_count": 3,
   "metadata": {
    "collapsed": false
   },
   "outputs": [
    {
     "name": "stdout",
     "output_type": "stream",
     "text": [
      "16\n",
      "18\n"
     ]
    }
   ],
   "source": [
    "# clean prices == 0\n",
    "\n",
    "price_equals_zero_list = []\n",
    "\n",
    "for i,price in enumerate(train_prices_labels):\n",
    "    if price == 0:\n",
    "        price_equals_zero_list.append(i)  \n",
    "\n",
    "print len(price_equals_zero_list)   \n",
    "\n",
    "new_dim = train_prices_labels.shape[0]-len(price_equals_zero_list)\n",
    "\n",
    "train_labels_prices_no_zeros = np.zeros((new_dim, 1))\n",
    "\n",
    "train_labels_nbRooms_no_zeros = np.zeros((new_dim, 1))\n",
    "train_labels_surfaceHouse_no_zeros = np.zeros((new_dim, 1))\n",
    "train_labels_surfaceLand_no_zeros = np.zeros((new_dim, 1))\n",
    "train_labels_nbPictures_no_zeros = np.zeros((new_dim, 1))\n",
    "\n",
    "train_images_no_zeros = np.zeros((new_dim, image_size,image_size))\n",
    "\n",
    "j = 0\n",
    "for i,price in enumerate(train_prices_labels):\n",
    "    if price != 0:\n",
    "        train_labels_prices_no_zeros[j][0] = price  \n",
    "        j += 1\n",
    "\n",
    "j = 0\n",
    "for i,image in enumerate(train_dataset):\n",
    "    if i not in price_equals_zero_list:\n",
    "        train_images_no_zeros[j,:,:] = image  \n",
    "        j += 1\n",
    "\n",
    "j = 0\n",
    "for i,nbRooms in enumerate(train_nbRooms_labels):\n",
    "    if i not in price_equals_zero_list:\n",
    "        train_labels_nbRooms_no_zeros[j][0] = nbRooms  \n",
    "        j += 1\n",
    "\n",
    "j = 0\n",
    "for i,surfaceHouse in enumerate(train_surfaceHouse_labels):\n",
    "    if i not in price_equals_zero_list:\n",
    "        train_labels_surfaceHouse_no_zeros[j][0] = surfaceHouse  \n",
    "        j += 1\n",
    "\n",
    "j = 0\n",
    "for i,surfaceLand in enumerate(train_surfaceLand_labels):\n",
    "    if i not in price_equals_zero_list:\n",
    "        train_labels_surfaceLand_no_zeros[j][0] = surfaceLand  \n",
    "        j += 1\n",
    "\n",
    "j = 0\n",
    "for i,nbPictures in enumerate(train_nbPictures_labels):\n",
    "    if i not in price_equals_zero_list:\n",
    "        train_labels_nbPictures_no_zeros[j][0] = nbPictures  \n",
    "        j += 1\n",
    "        \n",
    "# for validation:\n",
    "\n",
    "price_equals_zero_list = []\n",
    "\n",
    "for i,price in enumerate(valid_prices_labels):\n",
    "    if price == 0:\n",
    "        price_equals_zero_list.append(i)  \n",
    "\n",
    "print len(price_equals_zero_list)   \n",
    "\n",
    "new_dim = valid_prices_labels.shape[0]-len(price_equals_zero_list) \n",
    "\n",
    "valid_labels_prices_no_zeros = np.zeros((new_dim, 1))\n",
    "valid_labels_nbRooms_no_zeros = np.zeros((new_dim, 1))\n",
    "valid_labels_surfaceHouse_no_zeros = np.zeros((new_dim, 1))\n",
    "valid_labels_surfaceLand_no_zeros = np.zeros((new_dim, 1))\n",
    "valid_labels_nbPictures_no_zeros = np.zeros((new_dim, 1))\n",
    "\n",
    "valid_images_no_zeros = np.zeros((new_dim, image_size,image_size))\n",
    "\n",
    "j = 0\n",
    "for i,price in enumerate(valid_prices_labels):\n",
    "    if price != 0:\n",
    "        valid_labels_prices_no_zeros[j][0] = price  \n",
    "        j += 1\n",
    "\n",
    "j = 0\n",
    "for i,image in enumerate(valid_dataset):\n",
    "    if i not in price_equals_zero_list:\n",
    "        valid_images_no_zeros[j,:,:] = image  \n",
    "        j += 1    \n",
    "\n",
    "j = 0        \n",
    "for i,nbRooms in enumerate(valid_nbRooms_labels):\n",
    "    if i not in price_equals_zero_list:\n",
    "        valid_labels_nbRooms_no_zeros[j][0] = nbRooms  \n",
    "        j += 1\n",
    "\n",
    "j = 0\n",
    "for i,surfaceHouse in enumerate(valid_surfaceHouse_labels):\n",
    "    if i not in price_equals_zero_list:\n",
    "        valid_labels_surfaceHouse_no_zeros[j][0] = surfaceHouse  \n",
    "        j += 1\n",
    "\n",
    "j = 0\n",
    "for i,surfaceLand in enumerate(valid_surfaceLand_labels):\n",
    "    if i not in price_equals_zero_list:\n",
    "        valid_labels_surfaceLand_no_zeros[j][0] = surfaceLand  \n",
    "        j += 1\n",
    "\n",
    "j = 0\n",
    "for i,nbPictures in enumerate(valid_nbPictures_labels):\n",
    "    if i not in price_equals_zero_list:\n",
    "        valid_labels_nbPictures_no_zeros[j][0] = nbPictures  \n",
    "        j += 1"
   ]
  },
  {
   "cell_type": "code",
   "execution_count": 4,
   "metadata": {
    "collapsed": false
   },
   "outputs": [
    {
     "name": "stdout",
     "output_type": "stream",
     "text": [
      "79\n",
      "39\n"
     ]
    }
   ],
   "source": [
    "# clean surfaceHouse == 0\n",
    "\n",
    "surface_equals_zero_list = []\n",
    "\n",
    "for i,surface in enumerate(train_labels_surfaceHouse_no_zeros):\n",
    "    if surface == float(0):\n",
    "        surface_equals_zero_list.append(i)  \n",
    "\n",
    "print len(surface_equals_zero_list)   \n",
    "\n",
    "new_dim = train_labels_prices_no_zeros.shape[0]-len(surface_equals_zero_list) \n",
    "\n",
    "train_labels_prices_surface_clean = np.zeros((new_dim, 1))\n",
    "\n",
    "train_labels_nbRooms_surface_clean = np.zeros((new_dim, 1))\n",
    "train_labels_surfaceHouse_surface_clean = np.zeros((new_dim, 1))\n",
    "train_labels_surfaceLand_surface_clean = np.zeros((new_dim, 1))\n",
    "train_labels_nbPictures_surface_clean = np.zeros((new_dim, 1))\n",
    "\n",
    "train_images_surface_clean = np.zeros((new_dim, image_size,image_size))\n",
    "\n",
    "j = 0\n",
    "for i,price in enumerate(train_labels_prices_no_zeros):\n",
    "    if i not in surface_equals_zero_list:\n",
    "        train_labels_prices_surface_clean[j][0] = price  \n",
    "        j += 1\n",
    "        \n",
    "j = 0\n",
    "for i,image in enumerate(train_images_no_zeros):\n",
    "    if i not in surface_equals_zero_list:\n",
    "        train_images_surface_clean[j,:,:] = image  \n",
    "        j += 1    \n",
    "        \n",
    "j = 0\n",
    "for i,nbRooms in enumerate(train_labels_nbRooms_no_zeros):\n",
    "    if i not in surface_equals_zero_list:\n",
    "        train_labels_nbRooms_surface_clean[j][0] = nbRooms  \n",
    "        j += 1\n",
    "\n",
    "j = 0\n",
    "for i,surfaceHouse in enumerate(train_labels_surfaceHouse_no_zeros):\n",
    "    if i not in surface_equals_zero_list:\n",
    "        train_labels_surfaceHouse_surface_clean[j][0] = surfaceHouse  \n",
    "        j += 1\n",
    "        \n",
    "j = 0\n",
    "for i,surfaceLand in enumerate(train_labels_surfaceLand_no_zeros):\n",
    "    if i not in surface_equals_zero_list:\n",
    "        train_labels_surfaceLand_surface_clean[j][0] = surfaceLand  \n",
    "        j += 1\n",
    "\n",
    "j = 0\n",
    "for i,nbPictures in enumerate(train_labels_nbPictures_no_zeros):\n",
    "    if i not in surface_equals_zero_list:\n",
    "        train_labels_nbPictures_surface_clean[j][0] = nbPictures  \n",
    "        j += 1 \n",
    "\n",
    "# validation\n",
    "surface_equals_zero_list = []\n",
    "\n",
    "for i,surface in enumerate(valid_labels_surfaceHouse_no_zeros):\n",
    "    if surface == float(0):\n",
    "        surface_equals_zero_list.append(i)  \n",
    "\n",
    "print len(surface_equals_zero_list)   \n",
    "\n",
    "new_dim = valid_labels_prices_no_zeros.shape[0]-len(surface_equals_zero_list) \n",
    "\n",
    "valid_labels_prices_surface_clean = np.zeros((new_dim, 1))\n",
    "\n",
    "valid_labels_nbRooms_surface_clean = np.zeros((new_dim, 1))\n",
    "valid_labels_surfaceHouse_surface_clean = np.zeros((new_dim, 1))\n",
    "valid_labels_surfaceLand_surface_clean = np.zeros((new_dim, 1))\n",
    "valid_labels_nbPictures_surface_clean = np.zeros((new_dim, 1))\n",
    "\n",
    "valid_images_surface_clean = np.zeros((new_dim, image_size,image_size))\n",
    "\n",
    "\n",
    "j = 0\n",
    "for i,price in enumerate(valid_labels_prices_no_zeros):\n",
    "    if i not in surface_equals_zero_list:\n",
    "        valid_labels_prices_surface_clean[j][0] = price  \n",
    "        j += 1\n",
    "        \n",
    "j = 0\n",
    "for i,image in enumerate(valid_images_no_zeros):\n",
    "    if i not in surface_equals_zero_list:\n",
    "        valid_images_surface_clean[j,:,:] = image  \n",
    "        j += 1    \n",
    "        \n",
    "j = 0\n",
    "for i,nbRooms in enumerate(valid_labels_nbRooms_no_zeros):\n",
    "    if i not in surface_equals_zero_list:\n",
    "        valid_labels_nbRooms_surface_clean[j][0] = nbRooms  \n",
    "        j += 1\n",
    "\n",
    "j = 0\n",
    "for i,surfaceHouse in enumerate(valid_labels_surfaceHouse_no_zeros):\n",
    "    if i not in surface_equals_zero_list:\n",
    "        valid_labels_surfaceHouse_surface_clean[j][0] = surfaceHouse  \n",
    "        j += 1\n",
    "        \n",
    "j = 0\n",
    "for i,surfaceLand in enumerate(valid_labels_surfaceLand_no_zeros):\n",
    "    if i not in surface_equals_zero_list:\n",
    "        valid_labels_surfaceLand_surface_clean[j][0] = surfaceLand  \n",
    "        j += 1\n",
    "        \n",
    "j = 0\n",
    "for i,nbPictures in enumerate(valid_labels_nbPictures_no_zeros):\n",
    "    if i not in surface_equals_zero_list:\n",
    "        valid_labels_nbPictures_surface_clean[j][0] = nbPictures  \n",
    "        j += 1 "
   ]
  },
  {
   "cell_type": "code",
   "execution_count": 5,
   "metadata": {
    "collapsed": false
   },
   "outputs": [
    {
     "data": {
      "text/plain": [
       "1787"
      ]
     },
     "execution_count": 5,
     "metadata": {},
     "output_type": "execute_result"
    }
   ],
   "source": [
    "train_labels_nbRooms_surface_clean.shape[0]"
   ]
  },
  {
   "cell_type": "code",
   "execution_count": 6,
   "metadata": {
    "collapsed": true
   },
   "outputs": [],
   "source": [
    "# reformat prices to have then between 0 and 1\n",
    "\n",
    "max_value = max(max(train_labels_prices_surface_clean),max(valid_labels_prices_surface_clean))\n",
    "\n",
    "train_prices_labels = train_labels_prices_surface_clean / max_value\n",
    "\n",
    "valid_prices_labels = valid_labels_prices_surface_clean / max_value\n",
    "\n",
    "\n",
    "train_nbRooms_labels = train_labels_nbRooms_surface_clean\n",
    "train_surfaceHouse_labels = train_labels_surfaceHouse_surface_clean\n",
    "train_surfaceLand_labels = train_labels_surfaceLand_surface_clean\n",
    "train_nbPictures_labels = train_labels_nbPictures_surface_clean\n",
    "valid_nbRooms_labels = valid_labels_nbRooms_surface_clean\n",
    "valid_surfaceHouse_labels = train_labels_surfaceHouse_surface_clean\n",
    "valid_surfaceLand_labels = valid_labels_surfaceLand_surface_clean\n",
    "valid_nbPictures_labels = valid_labels_nbPictures_surface_clean\n"
   ]
  },
  {
   "cell_type": "code",
   "execution_count": 7,
   "metadata": {
    "collapsed": false
   },
   "outputs": [],
   "source": [
    "# reformat images to 2d array 56*56\n",
    "train_images = train_images_surface_clean.reshape((-1, image_size * image_size)).astype(np.float32)\n",
    "valid_images = valid_images_surface_clean.reshape((-1, image_size * image_size)).astype(np.float32)\n",
    "\n",
    "\n",
    "# build the dataset for complementary info from json files\n",
    "nb_variables = 4\n",
    "\n",
    "train_info = np.zeros((train_images.shape[0],nb_variables))\n",
    "\n",
    "# Reformat the variables to have them between -1 and 1\n",
    "nbRooms_max = max(max(train_nbRooms_labels), max(valid_nbRooms_labels))\n",
    "surface_max = max(max(train_surfaceHouse_labels), max(valid_surfaceHouse_labels))\n",
    "surfaceLand_max = max(max(train_surfaceLand_labels), max(valid_surfaceLand_labels))\n",
    "nbPictures_max = max(max(train_nbPictures_labels), max(valid_nbPictures_labels))\n",
    "\n",
    "for i in range(train_images.shape[0]):\n",
    "    train_info[i][0] = ( train_nbRooms_labels[i] - nbRooms_max /2 ) / nbRooms_max\n",
    "    train_info[i][1] = ( train_surfaceHouse_labels[i] - surface_max /2 ) / surface_max\n",
    "    train_info[i][2] = ( train_surfaceLand_labels[i] - surfaceLand_max /2 ) / surfaceLand_max\n",
    "    train_info[i][3] = ( train_nbPictures_labels[i] - nbPictures_max /2 ) / nbPictures_max\n",
    "    \n",
    "valid_info = np.zeros((valid_images.shape[0],nb_variables))\n",
    "\n",
    "for i in range(valid_images.shape[0]):\n",
    "    valid_info[i][0] = ( valid_nbRooms_labels[i] - nbRooms_max /2 ) / nbRooms_max\n",
    "    valid_info[i][1] = ( valid_surfaceHouse_labels[i] - surface_max /2 ) / surface_max\n",
    "    valid_info[i][2] = ( valid_surfaceLand_labels[i] - surfaceLand_max /2 ) / surfaceLand_max\n",
    "    valid_info[i][3] = ( valid_nbPictures_labels[i] - nbPictures_max /2 ) / nbPictures_max\n",
    "    \n"
   ]
  },
  {
   "cell_type": "code",
   "execution_count": 8,
   "metadata": {
    "collapsed": false
   },
   "outputs": [],
   "source": [
    "# parameters to the function graph\n",
    "num_labels= 1\n",
    "dtype = tf.float32\n",
    "\n",
    "#batch_size = 128\n",
    "hidden_layer_size = 20\n",
    "regularization_beta = 5e-4\n",
    "\n",
    "\n",
    "graph = tf.Graph()\n",
    "with graph.as_default():\n",
    "\n",
    "  # Input data.\n",
    "  # Load the training, validation into constants that are\n",
    "  # attached to the graph.\n",
    "    tf_train_info = tf.placeholder(dtype, shape=[None,nb_variables])\n",
    "    tf_train_price = tf.placeholder(dtype, shape=[None,train_prices_labels.shape[1]])\n",
    "    tf_valid_info = tf.placeholder(dtype, shape=[None,nb_variables])\n",
    "  \n",
    "  # Variables.\n",
    "    \n",
    "    # hidden layer\n",
    "    \n",
    "    weights_hidden = tf.Variable(tf.truncated_normal([nb_variables, hidden_layer_size]))\n",
    "    biases_hidden = tf.Variable(tf.zeros([hidden_layer_size]))\n",
    "    hidden = tf.nn.relu(tf.matmul(tf_train_info , weights_hidden) + biases_hidden)\n",
    "    \n",
    "    # output layer\n",
    "    \n",
    "    weights_output = tf.Variable(tf.truncated_normal([hidden_layer_size,num_labels]))\n",
    "    biases_output = tf.Variable(tf.zeros([num_labels]))\n",
    "    \n",
    "    # Training\n",
    "    \n",
    "    price_estimation = tf.matmul(hidden, weights_output) + biases_output\n",
    "    \n",
    "    loss = tf.reduce_sum(tf.square(price_estimation - tf_train_price))/train_prices_labels.shape[0]\n",
    "  \n",
    "    # L2 regularization\n",
    "    \n",
    "    regularizers = (tf.nn.l2_loss(weights_hidden) + tf.nn.l2_loss(biases_hidden) +\n",
    "                   tf.nn.l2_loss(weights_output) + tf.nn.l2_loss(biases_output))\n",
    "    \n",
    "    loss = loss + regularization_beta * regularizers\n",
    " \n",
    "  # Optimizer.\n",
    "  # We are going to find the minimum of this loss using AdagradOptimizer.\n",
    "  #  AdagradOptimizer\n",
    "    optimizer = tf.train.AdagradOptimizer(0.02).minimize(loss)\n",
    "    #optimizer = tf.train.MomentumOptimizer(5, 0.001).minimize(loss)\n",
    "  \n",
    "  # Predictions for the training and validation.\n",
    "  # Predictions\n",
    "    \n",
    "    train_prediction = price_estimation\n",
    "    \n",
    "    hidden_validation = tf.nn.relu(tf.matmul(tf_valid_info, weights_hidden) + biases_hidden)\n",
    "    valid_prediction = tf.matmul(hidden_validation, weights_output) + biases_output\n",
    "    "
   ]
  },
  {
   "cell_type": "code",
   "execution_count": 11,
   "metadata": {
    "collapsed": false
   },
   "outputs": [
    {
     "name": "stdout",
     "output_type": "stream",
     "text": [
      "Initialized\n",
      "Loss at step 0: 2.795093\n",
      "Training accuracy: -1493.8%\n",
      "Validation accuracy: -1584.7%\n",
      "Loss at step 10000: 0.018390\n",
      "Training accuracy: 65.8%\n",
      "Validation accuracy: -45.0%\n",
      "Loss at step 20000: 0.015517\n",
      "Training accuracy: 66.8%\n",
      "Validation accuracy: -46.6%\n",
      "Loss at step 30000: 0.013897\n",
      "Training accuracy: 66.8%\n",
      "Validation accuracy: -43.3%\n",
      "Loss at step 40000: 0.012758\n",
      "Training accuracy: 67.3%\n",
      "Validation accuracy: -42.4%\n",
      "Loss at step 50000: 0.011876\n",
      "Training accuracy: 67.7%\n",
      "Validation accuracy: -40.6%\n",
      "Loss at step 60000: 0.011286\n",
      "Training accuracy: 67.9%\n",
      "Validation accuracy: -40.1%\n",
      "Loss at step 70000: 0.010816\n",
      "Training accuracy: 67.9%\n",
      "Validation accuracy: -39.6%\n",
      "Loss at step 80000: 0.010396\n",
      "Training accuracy: 67.9%\n",
      "Validation accuracy: -38.9%\n",
      "Loss at step 90000: 0.010082\n",
      "Training accuracy: 68.0%\n",
      "Validation accuracy: -38.5%\n",
      "Loss at step 100000: 0.009817\n",
      "Training accuracy: 68.0%\n",
      "Validation accuracy: -38.4%\n",
      "Loss at step 110000: 0.009585\n",
      "Training accuracy: 68.1%\n",
      "Validation accuracy: -37.9%\n",
      "Loss at step 120000: 0.009387\n",
      "Training accuracy: 68.1%\n",
      "Validation accuracy: -37.2%\n",
      "Loss at step 130000: 0.009220\n",
      "Training accuracy: 68.1%\n",
      "Validation accuracy: -36.7%\n",
      "Loss at step 140000: 0.009076\n",
      "Training accuracy: 68.2%\n",
      "Validation accuracy: -36.1%\n",
      "Loss at step 150000: 0.008938\n",
      "Training accuracy: 68.2%\n",
      "Validation accuracy: -35.3%\n",
      "Loss at step 160000: 0.008824\n",
      "Training accuracy: 68.2%\n",
      "Validation accuracy: -34.5%\n",
      "Loss at step 170000: 0.008728\n",
      "Training accuracy: 68.3%\n",
      "Validation accuracy: -33.9%\n",
      "Loss at step 180000: 0.008645\n",
      "Training accuracy: 68.3%\n",
      "Validation accuracy: -33.5%\n",
      "Loss at step 190000: 0.008573\n",
      "Training accuracy: 68.4%\n",
      "Validation accuracy: -33.0%\n",
      "Loss at step 200000: 0.008509\n",
      "Training accuracy: 68.5%\n",
      "Validation accuracy: -32.6%\n",
      "Loss at step 210000: 0.008453\n",
      "Training accuracy: 68.5%\n",
      "Validation accuracy: -32.1%\n",
      "Loss at step 220000: 0.008400\n",
      "Training accuracy: 68.6%\n",
      "Validation accuracy: -31.9%\n",
      "Loss at step 230000: 0.008352\n",
      "Training accuracy: 68.6%\n",
      "Validation accuracy: -31.6%\n",
      "Loss at step 240000: 0.008310\n",
      "Training accuracy: 68.7%\n",
      "Validation accuracy: -31.4%\n",
      "Loss at step 250000: 0.008271\n",
      "Training accuracy: 68.7%\n",
      "Validation accuracy: -31.2%\n",
      "Loss at step 260000: 0.008237\n",
      "Training accuracy: 68.7%\n",
      "Validation accuracy: -30.9%\n",
      "Loss at step 270000: 0.008205\n",
      "Training accuracy: 68.7%\n",
      "Validation accuracy: -30.6%\n",
      "Loss at step 280000: 0.008165\n",
      "Training accuracy: 68.8%\n",
      "Validation accuracy: -30.2%\n"
     ]
    },
    {
     "ename": "KeyboardInterrupt",
     "evalue": "",
     "output_type": "error",
     "traceback": [
      "\u001b[0;31m---------------------------------------------------------------------------\u001b[0m",
      "\u001b[0;31mKeyboardInterrupt\u001b[0m                         Traceback (most recent call last)",
      "\u001b[0;32m<ipython-input-11-1c1aa27516e7>\u001b[0m in \u001b[0;36m<module>\u001b[0;34m()\u001b[0m\n\u001b[1;32m     15\u001b[0m     \u001b[0;31m# arrays.\u001b[0m\u001b[0;34m\u001b[0m\u001b[0;34m\u001b[0m\u001b[0m\n\u001b[1;32m     16\u001b[0m     _, l, predictions, valid_predictions = session.run([optimizer, loss, train_prediction, valid_prediction]\n\u001b[0;32m---> 17\u001b[0;31m                                         , feed_dict={tf_train_info: train_info,tf_train_price: train_prices_labels,tf_valid_info: valid_info })\n\u001b[0m\u001b[1;32m     18\u001b[0m     \u001b[0;32mif\u001b[0m \u001b[0;34m(\u001b[0m\u001b[0mstep\u001b[0m \u001b[0;34m%\u001b[0m \u001b[0;36m10000\u001b[0m \u001b[0;34m==\u001b[0m \u001b[0;36m0\u001b[0m\u001b[0;34m)\u001b[0m\u001b[0;34m:\u001b[0m\u001b[0;34m\u001b[0m\u001b[0m\n\u001b[1;32m     19\u001b[0m       \u001b[0;32mprint\u001b[0m\u001b[0;34m(\u001b[0m\u001b[0;34m'Loss at step %d: %f'\u001b[0m \u001b[0;34m%\u001b[0m \u001b[0;34m(\u001b[0m\u001b[0mstep\u001b[0m\u001b[0;34m,\u001b[0m \u001b[0ml\u001b[0m\u001b[0;34m)\u001b[0m\u001b[0;34m)\u001b[0m\u001b[0;34m\u001b[0m\u001b[0m\n",
      "\u001b[0;32m/Users/alex/anaconda2/lib/python2.7/site-packages/tensorflow/python/client/session.pyc\u001b[0m in \u001b[0;36mrun\u001b[0;34m(self, fetches, feed_dict, options, run_metadata)\u001b[0m\n\u001b[1;32m    765\u001b[0m     \u001b[0;32mtry\u001b[0m\u001b[0;34m:\u001b[0m\u001b[0;34m\u001b[0m\u001b[0m\n\u001b[1;32m    766\u001b[0m       result = self._run(None, fetches, feed_dict, options_ptr,\n\u001b[0;32m--> 767\u001b[0;31m                          run_metadata_ptr)\n\u001b[0m\u001b[1;32m    768\u001b[0m       \u001b[0;32mif\u001b[0m \u001b[0mrun_metadata\u001b[0m\u001b[0;34m:\u001b[0m\u001b[0;34m\u001b[0m\u001b[0m\n\u001b[1;32m    769\u001b[0m         \u001b[0mproto_data\u001b[0m \u001b[0;34m=\u001b[0m \u001b[0mtf_session\u001b[0m\u001b[0;34m.\u001b[0m\u001b[0mTF_GetBuffer\u001b[0m\u001b[0;34m(\u001b[0m\u001b[0mrun_metadata_ptr\u001b[0m\u001b[0;34m)\u001b[0m\u001b[0;34m\u001b[0m\u001b[0m\n",
      "\u001b[0;32m/Users/alex/anaconda2/lib/python2.7/site-packages/tensorflow/python/client/session.pyc\u001b[0m in \u001b[0;36m_run\u001b[0;34m(self, handle, fetches, feed_dict, options, run_metadata)\u001b[0m\n\u001b[1;32m    963\u001b[0m     \u001b[0;32mif\u001b[0m \u001b[0mfinal_fetches\u001b[0m \u001b[0;32mor\u001b[0m \u001b[0mfinal_targets\u001b[0m\u001b[0;34m:\u001b[0m\u001b[0;34m\u001b[0m\u001b[0m\n\u001b[1;32m    964\u001b[0m       results = self._do_run(handle, final_targets, final_fetches,\n\u001b[0;32m--> 965\u001b[0;31m                              feed_dict_string, options, run_metadata)\n\u001b[0m\u001b[1;32m    966\u001b[0m     \u001b[0;32melse\u001b[0m\u001b[0;34m:\u001b[0m\u001b[0;34m\u001b[0m\u001b[0m\n\u001b[1;32m    967\u001b[0m       \u001b[0mresults\u001b[0m \u001b[0;34m=\u001b[0m \u001b[0;34m[\u001b[0m\u001b[0;34m]\u001b[0m\u001b[0;34m\u001b[0m\u001b[0m\n",
      "\u001b[0;32m/Users/alex/anaconda2/lib/python2.7/site-packages/tensorflow/python/client/session.pyc\u001b[0m in \u001b[0;36m_do_run\u001b[0;34m(self, handle, target_list, fetch_list, feed_dict, options, run_metadata)\u001b[0m\n\u001b[1;32m   1013\u001b[0m     \u001b[0;32mif\u001b[0m \u001b[0mhandle\u001b[0m \u001b[0;32mis\u001b[0m \u001b[0mNone\u001b[0m\u001b[0;34m:\u001b[0m\u001b[0;34m\u001b[0m\u001b[0m\n\u001b[1;32m   1014\u001b[0m       return self._do_call(_run_fn, self._session, feed_dict, fetch_list,\n\u001b[0;32m-> 1015\u001b[0;31m                            target_list, options, run_metadata)\n\u001b[0m\u001b[1;32m   1016\u001b[0m     \u001b[0;32melse\u001b[0m\u001b[0;34m:\u001b[0m\u001b[0;34m\u001b[0m\u001b[0m\n\u001b[1;32m   1017\u001b[0m       return self._do_call(_prun_fn, self._session, handle, feed_dict,\n",
      "\u001b[0;32m/Users/alex/anaconda2/lib/python2.7/site-packages/tensorflow/python/client/session.pyc\u001b[0m in \u001b[0;36m_do_call\u001b[0;34m(self, fn, *args)\u001b[0m\n\u001b[1;32m   1020\u001b[0m   \u001b[0;32mdef\u001b[0m \u001b[0m_do_call\u001b[0m\u001b[0;34m(\u001b[0m\u001b[0mself\u001b[0m\u001b[0;34m,\u001b[0m \u001b[0mfn\u001b[0m\u001b[0;34m,\u001b[0m \u001b[0;34m*\u001b[0m\u001b[0margs\u001b[0m\u001b[0;34m)\u001b[0m\u001b[0;34m:\u001b[0m\u001b[0;34m\u001b[0m\u001b[0m\n\u001b[1;32m   1021\u001b[0m     \u001b[0;32mtry\u001b[0m\u001b[0;34m:\u001b[0m\u001b[0;34m\u001b[0m\u001b[0m\n\u001b[0;32m-> 1022\u001b[0;31m       \u001b[0;32mreturn\u001b[0m \u001b[0mfn\u001b[0m\u001b[0;34m(\u001b[0m\u001b[0;34m*\u001b[0m\u001b[0margs\u001b[0m\u001b[0;34m)\u001b[0m\u001b[0;34m\u001b[0m\u001b[0m\n\u001b[0m\u001b[1;32m   1023\u001b[0m     \u001b[0;32mexcept\u001b[0m \u001b[0merrors\u001b[0m\u001b[0;34m.\u001b[0m\u001b[0mOpError\u001b[0m \u001b[0;32mas\u001b[0m \u001b[0me\u001b[0m\u001b[0;34m:\u001b[0m\u001b[0;34m\u001b[0m\u001b[0m\n\u001b[1;32m   1024\u001b[0m       \u001b[0mmessage\u001b[0m \u001b[0;34m=\u001b[0m \u001b[0mcompat\u001b[0m\u001b[0;34m.\u001b[0m\u001b[0mas_text\u001b[0m\u001b[0;34m(\u001b[0m\u001b[0me\u001b[0m\u001b[0;34m.\u001b[0m\u001b[0mmessage\u001b[0m\u001b[0;34m)\u001b[0m\u001b[0;34m\u001b[0m\u001b[0m\n",
      "\u001b[0;32m/Users/alex/anaconda2/lib/python2.7/site-packages/tensorflow/python/client/session.pyc\u001b[0m in \u001b[0;36m_run_fn\u001b[0;34m(session, feed_dict, fetch_list, target_list, options, run_metadata)\u001b[0m\n\u001b[1;32m   1002\u001b[0m         return tf_session.TF_Run(session, options,\n\u001b[1;32m   1003\u001b[0m                                  \u001b[0mfeed_dict\u001b[0m\u001b[0;34m,\u001b[0m \u001b[0mfetch_list\u001b[0m\u001b[0;34m,\u001b[0m \u001b[0mtarget_list\u001b[0m\u001b[0;34m,\u001b[0m\u001b[0;34m\u001b[0m\u001b[0m\n\u001b[0;32m-> 1004\u001b[0;31m                                  status, run_metadata)\n\u001b[0m\u001b[1;32m   1005\u001b[0m \u001b[0;34m\u001b[0m\u001b[0m\n\u001b[1;32m   1006\u001b[0m     \u001b[0;32mdef\u001b[0m \u001b[0m_prun_fn\u001b[0m\u001b[0;34m(\u001b[0m\u001b[0msession\u001b[0m\u001b[0;34m,\u001b[0m \u001b[0mhandle\u001b[0m\u001b[0;34m,\u001b[0m \u001b[0mfeed_dict\u001b[0m\u001b[0;34m,\u001b[0m \u001b[0mfetch_list\u001b[0m\u001b[0;34m)\u001b[0m\u001b[0;34m:\u001b[0m\u001b[0;34m\u001b[0m\u001b[0m\n",
      "\u001b[0;31mKeyboardInterrupt\u001b[0m: "
     ]
    }
   ],
   "source": [
    "num_steps = 1000001\n",
    "\n",
    "def accuracy(prediction, price):\n",
    "  return np.mean(100 - 100*np.abs((prediction - price) / price))\n",
    "\n",
    "with tf.Session(graph=graph) as session:\n",
    "  # This is a one-time operation which ensures the parameters get initialized as\n",
    "  # we described in the graph: random weights for the matrix, zeros for the\n",
    "  # biases. \n",
    "  tf.global_variables_initializer().run()\n",
    "  print('Initialized')\n",
    "  for step in range(num_steps):\n",
    "    # Run the computations. We tell .run() that we want to run the optimizer,\n",
    "    # and get the loss value and the training predictions returned as numpy\n",
    "    # arrays.\n",
    "    _, l, predictions, valid_predictions = session.run([optimizer, loss, train_prediction, valid_prediction]\n",
    "                                        , feed_dict={tf_train_info: train_info,tf_train_price: train_prices_labels,tf_valid_info: valid_info })\n",
    "    if (step % 10000 == 0):\n",
    "      print('Loss at step %d: %f' % (step, l))\n",
    "      print('Training accuracy: %.1f%%' % accuracy(\n",
    "        predictions, train_prices_labels))\n",
    "      # Calling .eval() on valid_prediction is basically like calling run(), but\n",
    "      # just to get that one numpy array. Note that it recomputes all its graph\n",
    "      # dependencies.\n",
    "      print('Validation accuracy: %.1f%%' % accuracy(\n",
    "        valid_predictions, valid_prices_labels))\n",
    "        "
   ]
  },
  {
   "cell_type": "code",
   "execution_count": 137,
   "metadata": {
    "collapsed": false
   },
   "outputs": [
    {
     "name": "stdout",
     "output_type": "stream",
     "text": [
      "('weight', array([ 0.1439344]))\n",
      "('bias', array([ 0.20662068]))\n"
     ]
    },
    {
     "data": {
      "image/png": "[encoded data removed]",
      "text/plain": [
       "<matplotlib.figure.Figure at 0x11dd4d110>"
      ]
     },
     "metadata": {},
     "output_type": "display_data"
    }
   ],
   "source": [
    "from sklearn import linear_model\n",
    "import matplotlib.pyplot as plt\n",
    "from pylab import *\n",
    "\n",
    "x = []\n",
    "\n",
    "for i in range(valid_info.shape[0]):\n",
    "    x.append(valid_info[i][1])\n",
    "\n",
    "# Create linear regression object\n",
    "regr = linear_model.LinearRegression()\n",
    "\n",
    "# Train the model using the training sets\n",
    "result_lr = regr.fit(train_info, train_prices_labels)\n",
    "\n",
    "prices_estimation = result_lr.predict(valid_info)\n",
    "\n",
    "w,b = polyfit(x, valid_prices_labels, 1)\n",
    "\n",
    "print('weight', w)\n",
    "print('bias', b)\n",
    "\n",
    "pred_w = weight\n",
    "pred_b = bias\n",
    "\n",
    "pred_y = w*x + b\n",
    "\n",
    "plt.scatter(x,valid_predictions,color=\"r\")\n",
    "\n",
    "plt.plot(x, pred_y,color=\"g\")\n",
    "\n",
    "plt.scatter(x, valid_prices_labels)\n",
    "\n",
    "plt.show()\n",
    "\n",
    "\n",
    "\n"
   ]
  },
  {
   "cell_type": "code",
   "execution_count": 138,
   "metadata": {
    "collapsed": false,
    "scrolled": false
   },
   "outputs": [
    {
     "name": "stdout",
     "output_type": "stream",
     "text": [
      "('weight', array([ 0.78106769]))\n",
      "('bias', array([ 0.46465185]))\n"
     ]
    },
    {
     "data": {
      "image/png": "[encoded data removed]",
      "text/plain": [
       "<matplotlib.figure.Figure at 0x11737f5d0>"
      ]
     },
     "metadata": {},
     "output_type": "display_data"
    },
    {
     "name": "stdout",
     "output_type": "stream",
     "text": [
      "Rsquared on train:  0.536332123147\n",
      "Rsquared on validation:  -0.224229256642\n"
     ]
    }
   ],
   "source": [
    "\n",
    "x = []\n",
    "\n",
    "for i in range(train_info.shape[0]):\n",
    "    x.append(train_info[i][1])\n",
    "\n",
    "# Create linear regression object\n",
    "regr = linear_model.LinearRegression()\n",
    "\n",
    "# Train the model using the training sets\n",
    "result_lr = regr.fit(train_info, train_prices_labels)\n",
    "\n",
    "prices_estimation = result_lr.predict(valid_info)\n",
    "\n",
    "w,b = polyfit(x, train_prices_labels, 1)\n",
    "\n",
    "print('weight', w)\n",
    "print('bias', b)\n",
    "\n",
    "pred_w = weight\n",
    "pred_b = bias\n",
    "\n",
    "pred_y = w*x + b\n",
    "\n",
    "plt.scatter(x, predictions,color=\"r\")\n",
    "\n",
    "plt.plot(x, pred_y,color=\"g\")\n",
    "\n",
    "plt.scatter(x, train_prices_labels)\n",
    "\n",
    "plt.show()\n",
    "\n",
    "print 'Rsquared on train: ', result_lr.score(train_info, train_prices_labels)\n",
    "print 'Rsquared on validation: ', result_lr.score(valid_info, valid_prices_labels)\n",
    "\n",
    "\n"
   ]
  },
  {
   "cell_type": "code",
   "execution_count": null,
   "metadata": {
    "collapsed": false
   },
   "outputs": [],
   "source": []
  },
  {
   "cell_type": "code",
   "execution_count": null,
   "metadata": {
    "collapsed": false
   },
   "outputs": [],
   "source": []
  },
  {
   "cell_type": "code",
   "execution_count": null,
   "metadata": {
    "collapsed": false
   },
   "outputs": [],
   "source": []
  },
  {
   "cell_type": "code",
   "execution_count": null,
   "metadata": {
    "collapsed": false
   },
   "outputs": [],
   "source": []
  },
  {
   "cell_type": "code",
   "execution_count": null,
   "metadata": {
    "collapsed": false
   },
   "outputs": [],
   "source": []
  },
  {
   "cell_type": "code",
   "execution_count": null,
   "metadata": {
    "collapsed": false
   },
   "outputs": [],
   "source": []
  },
  {
   "cell_type": "code",
   "execution_count": null,
   "metadata": {
    "collapsed": false
   },
   "outputs": [],
   "source": []
  },
  {
   "cell_type": "code",
   "execution_count": null,
   "metadata": {
    "collapsed": false
   },
   "outputs": [],
   "source": []
  },
  {
   "cell_type": "code",
   "execution_count": null,
   "metadata": {
    "collapsed": false
   },
   "outputs": [],
   "source": []
  },
  {
   "cell_type": "code",
   "execution_count": 64,
   "metadata": {
    "collapsed": false
   },
   "outputs": [],
   "source": []
  },
  {
   "cell_type": "code",
   "execution_count": null,
   "metadata": {
    "collapsed": false
   },
   "outputs": [],
   "source": []
  },
  {
   "cell_type": "code",
   "execution_count": null,
   "metadata": {
    "collapsed": false
   },
   "outputs": [],
   "source": []
  },
  {
   "cell_type": "code",
   "execution_count": null,
   "metadata": {
    "collapsed": false
   },
   "outputs": [],
   "source": []
  },
  {
   "cell_type": "code",
   "execution_count": null,
   "metadata": {
    "collapsed": false
   },
   "outputs": [],
   "source": []
  },
  {
   "cell_type": "code",
   "execution_count": null,
   "metadata": {
    "collapsed": false
   },
   "outputs": [],
   "source": []
  },
  {
   "cell_type": "code",
   "execution_count": null,
   "metadata": {
    "collapsed": true
   },
   "outputs": [],
   "source": []
  },
  {
   "cell_type": "code",
   "execution_count": null,
   "metadata": {
    "collapsed": true
   },
   "outputs": [],
   "source": []
  },
  {
   "cell_type": "code",
   "execution_count": null,
   "metadata": {
    "collapsed": true
   },
   "outputs": [],
   "source": []
  }
 ],
 "metadata": {
  "anaconda-cloud": {},
  "kernelspec": {
   "display_name": "Python [conda root]",
   "language": "python",
   "name": "conda-root-py"
  },
  "language_info": {
   "codemirror_mode": {
    "name": "ipython",
    "version": 2
   },
   "file_extension": ".py",
   "mimetype": "text/x-python",
   "name": "python",
   "nbconvert_exporter": "python",
   "pygments_lexer": "ipython2",
   "version": "2.7.12"
  }
 },
 "nbformat": 4,
 "nbformat_minor": 1
}
