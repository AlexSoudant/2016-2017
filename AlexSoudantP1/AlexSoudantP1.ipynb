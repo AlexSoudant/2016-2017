{
 "cells": [
  {
   "cell_type": "markdown",
   "metadata": {
    "collapsed": true
   },
   "source": [
    "Project 1: \n",
    "\n",
    "Vous êtes nouvel embauche chez CoolCorp, une startup qui spécialise\n",
    "dans l'analyse des désastres maritimes.  Un nouveau client, White Star\n",
    "Lines, se trouve face à un procès à travers le temps, affaire délicat.\n",
    "Votre chef vous demande, en tant que seul data scientist chez\n",
    "CoolCorp, d'analyser les données `*.csv`.  WSL a déjà engagé un expert\n",
    "pour annoter une partie des données (`test.csv`) avec la survie ou pas\n",
    "des passagers."
   ]
  },
  {
   "cell_type": "markdown",
   "metadata": {},
   "source": [
    "1ère étape: Ouverture des fichiers csv\n",
    "\n",
    "la librairie pandas permets une ouverture facile de fichiers csv par la fonction read_csv() sous le format d'un dataframe qui permet d'utiliser un certain nombres de fonctions pré-implémentées dans l'objet python créé (c'est à dire 'dfTrain')\n",
    "\n",
    "voir http://pandas.pydata.org/pandas-docs/stable/generated/pandas.DataFrame.html\n",
    "\n",
    "Pour l'instant seul le fichier 'train.csv' nous interesse puisque le fichier 'test.csv' est censé être traité par un autre expert. "
   ]
  },
  {
   "cell_type": "code",
   "execution_count": 1,
   "metadata": {
    "collapsed": true
   },
   "outputs": [],
   "source": [
    "# import de la librairie pandas qui sera appelée par l'acronyme 'pd' dans le corps du code\n",
    "import pandas as pd\n",
    "\n",
    "# header = 0 indique la présence de titres sur chaque colonne\n",
    "dfTrain = pd.read_csv('train.csv', header=0)"
   ]
  },
  {
   "cell_type": "markdown",
   "metadata": {},
   "source": [
    "2nde étape: observation du dataset\n",
    "\n",
    "les fonctions spécifiques au format dataframe et présentées dans pandas.ipynb seront utiles pour cette étape:\n",
    "* df.head()\n",
    "* df.dtypes\n",
    "* df.info()\n",
    "* df.describe()\n"
   ]
  },
  {
   "cell_type": "code",
   "execution_count": 2,
   "metadata": {
    "collapsed": false
   },
   "outputs": [
    {
     "data": {
      "text/html": [
       "<div>\n",
       "<table border=\"1\" class=\"dataframe\">\n",
       "  <thead>\n",
       "    <tr style=\"text-align: right;\">\n",
       "      <th></th>\n",
       "      <th>PassengerId</th>\n",
       "      <th>Survived</th>\n",
       "      <th>Pclass</th>\n",
       "      <th>Name</th>\n",
       "      <th>Sex</th>\n",
       "      <th>Age</th>\n",
       "      <th>SibSp</th>\n",
       "      <th>Parch</th>\n",
       "      <th>Ticket</th>\n",
       "      <th>Fare</th>\n",
       "      <th>Cabin</th>\n",
       "      <th>Embarked</th>\n",
       "    </tr>\n",
       "  </thead>\n",
       "  <tbody>\n",
       "    <tr>\n",
       "      <th>0</th>\n",
       "      <td>1</td>\n",
       "      <td>0</td>\n",
       "      <td>3</td>\n",
       "      <td>Braund, Mr. Owen Harris</td>\n",
       "      <td>male</td>\n",
       "      <td>22.0</td>\n",
       "      <td>1</td>\n",
       "      <td>0</td>\n",
       "      <td>A/5 21171</td>\n",
       "      <td>7.2500</td>\n",
       "      <td>NaN</td>\n",
       "      <td>S</td>\n",
       "    </tr>\n",
       "    <tr>\n",
       "      <th>1</th>\n",
       "      <td>2</td>\n",
       "      <td>1</td>\n",
       "      <td>1</td>\n",
       "      <td>Cumings, Mrs. John Bradley (Florence Briggs Th...</td>\n",
       "      <td>female</td>\n",
       "      <td>38.0</td>\n",
       "      <td>1</td>\n",
       "      <td>0</td>\n",
       "      <td>PC 17599</td>\n",
       "      <td>71.2833</td>\n",
       "      <td>C85</td>\n",
       "      <td>C</td>\n",
       "    </tr>\n",
       "    <tr>\n",
       "      <th>2</th>\n",
       "      <td>3</td>\n",
       "      <td>1</td>\n",
       "      <td>3</td>\n",
       "      <td>Heikkinen, Miss. Laina</td>\n",
       "      <td>female</td>\n",
       "      <td>26.0</td>\n",
       "      <td>0</td>\n",
       "      <td>0</td>\n",
       "      <td>STON/O2. 3101282</td>\n",
       "      <td>7.9250</td>\n",
       "      <td>NaN</td>\n",
       "      <td>S</td>\n",
       "    </tr>\n",
       "    <tr>\n",
       "      <th>3</th>\n",
       "      <td>4</td>\n",
       "      <td>1</td>\n",
       "      <td>1</td>\n",
       "      <td>Futrelle, Mrs. Jacques Heath (Lily May Peel)</td>\n",
       "      <td>female</td>\n",
       "      <td>35.0</td>\n",
       "      <td>1</td>\n",
       "      <td>0</td>\n",
       "      <td>113803</td>\n",
       "      <td>53.1000</td>\n",
       "      <td>C123</td>\n",
       "      <td>S</td>\n",
       "    </tr>\n",
       "    <tr>\n",
       "      <th>4</th>\n",
       "      <td>5</td>\n",
       "      <td>0</td>\n",
       "      <td>3</td>\n",
       "      <td>Allen, Mr. William Henry</td>\n",
       "      <td>male</td>\n",
       "      <td>35.0</td>\n",
       "      <td>0</td>\n",
       "      <td>0</td>\n",
       "      <td>373450</td>\n",
       "      <td>8.0500</td>\n",
       "      <td>NaN</td>\n",
       "      <td>S</td>\n",
       "    </tr>\n",
       "  </tbody>\n",
       "</table>\n",
       "</div>"
      ],
      "text/plain": [
       "   PassengerId  Survived  Pclass  \\\n",
       "0            1         0       3   \n",
       "1            2         1       1   \n",
       "2            3         1       3   \n",
       "3            4         1       1   \n",
       "4            5         0       3   \n",
       "\n",
       "                                                Name     Sex   Age  SibSp  \\\n",
       "0                            Braund, Mr. Owen Harris    male  22.0      1   \n",
       "1  Cumings, Mrs. John Bradley (Florence Briggs Th...  female  38.0      1   \n",
       "2                             Heikkinen, Miss. Laina  female  26.0      0   \n",
       "3       Futrelle, Mrs. Jacques Heath (Lily May Peel)  female  35.0      1   \n",
       "4                           Allen, Mr. William Henry    male  35.0      0   \n",
       "\n",
       "   Parch            Ticket     Fare Cabin Embarked  \n",
       "0      0         A/5 21171   7.2500   NaN        S  \n",
       "1      0          PC 17599  71.2833   C85        C  \n",
       "2      0  STON/O2. 3101282   7.9250   NaN        S  \n",
       "3      0            113803  53.1000  C123        S  \n",
       "4      0            373450   8.0500   NaN        S  "
      ]
     },
     "execution_count": 2,
     "metadata": {},
     "output_type": "execute_result"
    }
   ],
   "source": [
    "# .head() affiche les 5 premieres lignes du dataframe\n",
    "dfTrain.head()"
   ]
  },
  {
   "cell_type": "markdown",
   "metadata": {},
   "source": [
    "On peut ainsi se donner une idée des données présentent et que ces 12 colonnes représentent:\n",
    "\n",
    "* PassengerId : un identifiant unique pour chaque passager\n",
    "* Survived : une variable booléenne qui prends la valeur 0 : n'a pas survécu ou 1 : a survécu\n",
    "* Pclass : la classe de voyageur dans laquelle se trouvait le passager (1 : 1ere classe, etc)\n",
    "* Name : le nom complet du passager\n",
    "* Sex : une variable booléenne qui détermine le sexe des passagers (male / female)\n",
    "* Age : l'age du passager\n",
    "* SibSp: Nombre de frères, soeurs ou époux/épouse\n",
    "* Parch: Nombre de Père/Mère\n",
    "* Ticket : numéro de ticket de passager\n",
    "* Fare: Prix du ticket de passager\n",
    "* Cabin: Numéro de cabine (attention les passagers de 3ième classe n'ont probablement pas de cabine personnelle)\n",
    "* Embarked: Premiere lettre du lieu d'embarcation (S , C , etc)\n",
    "\n"
   ]
  },
  {
   "cell_type": "code",
   "execution_count": 3,
   "metadata": {
    "collapsed": false
   },
   "outputs": [
    {
     "data": {
      "text/plain": [
       "PassengerId      int64\n",
       "Survived         int64\n",
       "Pclass           int64\n",
       "Name            object\n",
       "Sex             object\n",
       "Age            float64\n",
       "SibSp            int64\n",
       "Parch            int64\n",
       "Ticket          object\n",
       "Fare           float64\n",
       "Cabin           object\n",
       "Embarked        object\n",
       "dtype: object"
      ]
     },
     "execution_count": 3,
     "metadata": {},
     "output_type": "execute_result"
    }
   ],
   "source": [
    "# informe de la nature des données\n",
    "dfTrain.dtypes"
   ]
  },
  {
   "cell_type": "code",
   "execution_count": 4,
   "metadata": {
    "collapsed": false
   },
   "outputs": [
    {
     "name": "stdout",
     "output_type": "stream",
     "text": [
      "<class 'pandas.core.frame.DataFrame'>\n",
      "RangeIndex: 891 entries, 0 to 890\n",
      "Data columns (total 12 columns):\n",
      "PassengerId    891 non-null int64\n",
      "Survived       891 non-null int64\n",
      "Pclass         891 non-null int64\n",
      "Name           891 non-null object\n",
      "Sex            891 non-null object\n",
      "Age            714 non-null float64\n",
      "SibSp          891 non-null int64\n",
      "Parch          891 non-null int64\n",
      "Ticket         891 non-null object\n",
      "Fare           891 non-null float64\n",
      "Cabin          204 non-null object\n",
      "Embarked       889 non-null object\n",
      "dtypes: float64(2), int64(5), object(5)\n",
      "memory usage: 83.6+ KB\n"
     ]
    }
   ],
   "source": [
    "# résumé plus complet du dataframe:  \n",
    "dfTrain.info()"
   ]
  },
  {
   "cell_type": "markdown",
   "metadata": {},
   "source": [
    "Renseigne sur:\n",
    "* la nature de l'objet analysé (dataframe)\n",
    "* le nombre de lignes (891)\n",
    "* nombre d'observations par colonnes (attention colonne \"Age\" et \"Cabin\" ne sont pas entièrement renseignées)\n",
    "* Si la colonne est entierement vide (null / non-null)\n",
    "* tous les types de données présents dans ce dataframe et leur nombre en colonnes (float64(2), int64(5), object(5))\n",
    "* l'usage de la mémoire pour conserver ce dataframe\n"
   ]
  },
  {
   "cell_type": "code",
   "execution_count": 5,
   "metadata": {
    "collapsed": false
   },
   "outputs": [
    {
     "name": "stderr",
     "output_type": "stream",
     "text": [
      "/home/admin/anaconda3/envs/py27/lib/python2.7/site-packages/numpy/lib/function_base.py:3834: RuntimeWarning: Invalid value encountered in percentile\n",
      "  RuntimeWarning)\n"
     ]
    },
    {
     "data": {
      "text/html": [
       "<div>\n",
       "<table border=\"1\" class=\"dataframe\">\n",
       "  <thead>\n",
       "    <tr style=\"text-align: right;\">\n",
       "      <th></th>\n",
       "      <th>PassengerId</th>\n",
       "      <th>Survived</th>\n",
       "      <th>Pclass</th>\n",
       "      <th>Age</th>\n",
       "      <th>SibSp</th>\n",
       "      <th>Parch</th>\n",
       "      <th>Fare</th>\n",
       "    </tr>\n",
       "  </thead>\n",
       "  <tbody>\n",
       "    <tr>\n",
       "      <th>count</th>\n",
       "      <td>891.000000</td>\n",
       "      <td>891.000000</td>\n",
       "      <td>891.000000</td>\n",
       "      <td>714.000000</td>\n",
       "      <td>891.000000</td>\n",
       "      <td>891.000000</td>\n",
       "      <td>891.000000</td>\n",
       "    </tr>\n",
       "    <tr>\n",
       "      <th>mean</th>\n",
       "      <td>446.000000</td>\n",
       "      <td>0.383838</td>\n",
       "      <td>2.308642</td>\n",
       "      <td>29.699118</td>\n",
       "      <td>0.523008</td>\n",
       "      <td>0.381594</td>\n",
       "      <td>32.204208</td>\n",
       "    </tr>\n",
       "    <tr>\n",
       "      <th>std</th>\n",
       "      <td>257.353842</td>\n",
       "      <td>0.486592</td>\n",
       "      <td>0.836071</td>\n",
       "      <td>14.526497</td>\n",
       "      <td>1.102743</td>\n",
       "      <td>0.806057</td>\n",
       "      <td>49.693429</td>\n",
       "    </tr>\n",
       "    <tr>\n",
       "      <th>min</th>\n",
       "      <td>1.000000</td>\n",
       "      <td>0.000000</td>\n",
       "      <td>1.000000</td>\n",
       "      <td>0.420000</td>\n",
       "      <td>0.000000</td>\n",
       "      <td>0.000000</td>\n",
       "      <td>0.000000</td>\n",
       "    </tr>\n",
       "    <tr>\n",
       "      <th>25%</th>\n",
       "      <td>223.500000</td>\n",
       "      <td>0.000000</td>\n",
       "      <td>2.000000</td>\n",
       "      <td>NaN</td>\n",
       "      <td>0.000000</td>\n",
       "      <td>0.000000</td>\n",
       "      <td>7.910400</td>\n",
       "    </tr>\n",
       "    <tr>\n",
       "      <th>50%</th>\n",
       "      <td>446.000000</td>\n",
       "      <td>0.000000</td>\n",
       "      <td>3.000000</td>\n",
       "      <td>NaN</td>\n",
       "      <td>0.000000</td>\n",
       "      <td>0.000000</td>\n",
       "      <td>14.454200</td>\n",
       "    </tr>\n",
       "    <tr>\n",
       "      <th>75%</th>\n",
       "      <td>668.500000</td>\n",
       "      <td>1.000000</td>\n",
       "      <td>3.000000</td>\n",
       "      <td>NaN</td>\n",
       "      <td>1.000000</td>\n",
       "      <td>0.000000</td>\n",
       "      <td>31.000000</td>\n",
       "    </tr>\n",
       "    <tr>\n",
       "      <th>max</th>\n",
       "      <td>891.000000</td>\n",
       "      <td>1.000000</td>\n",
       "      <td>3.000000</td>\n",
       "      <td>80.000000</td>\n",
       "      <td>8.000000</td>\n",
       "      <td>6.000000</td>\n",
       "      <td>512.329200</td>\n",
       "    </tr>\n",
       "  </tbody>\n",
       "</table>\n",
       "</div>"
      ],
      "text/plain": [
       "       PassengerId    Survived      Pclass         Age       SibSp  \\\n",
       "count   891.000000  891.000000  891.000000  714.000000  891.000000   \n",
       "mean    446.000000    0.383838    2.308642   29.699118    0.523008   \n",
       "std     257.353842    0.486592    0.836071   14.526497    1.102743   \n",
       "min       1.000000    0.000000    1.000000    0.420000    0.000000   \n",
       "25%     223.500000    0.000000    2.000000         NaN    0.000000   \n",
       "50%     446.000000    0.000000    3.000000         NaN    0.000000   \n",
       "75%     668.500000    1.000000    3.000000         NaN    1.000000   \n",
       "max     891.000000    1.000000    3.000000   80.000000    8.000000   \n",
       "\n",
       "            Parch        Fare  \n",
       "count  891.000000  891.000000  \n",
       "mean     0.381594   32.204208  \n",
       "std      0.806057   49.693429  \n",
       "min      0.000000    0.000000  \n",
       "25%      0.000000    7.910400  \n",
       "50%      0.000000   14.454200  \n",
       "75%      0.000000   31.000000  \n",
       "max      6.000000  512.329200  "
      ]
     },
     "execution_count": 5,
     "metadata": {},
     "output_type": "execute_result"
    }
   ],
   "source": [
    "# Résumé statisque des données présentes dans le dataframe\n",
    "dfTrain.describe()"
   ]
  },
  {
   "cell_type": "markdown",
   "metadata": {},
   "source": [
    "Attention: ne prends en compte que les variables numériques.\n",
    "\n",
    "Les données non renseignées (NaN) ou valeurs abérrantes influent sur ces calculs.\n",
    "\n",
    "Nous indique:\n",
    "\n",
    "* count : nombre total d'obersavations\n",
    "* mean : moyenne des observations\n",
    "* std : standard deviation (écart type)\n",
    "* min : valeur minimale des observations\n",
    "* 25% : 1er quartile des obervations (valeur butoire qui sépare 25% des observations d'un coté et 75% de l'autre)\n",
    "* 50% : 2nd quartile (ou médiane) des observations (valeur butoire qui sépare le dataset en deux parties égales)\n",
    "* 75% : 3ime quartile des obervations (valeur butoire qui sépare 75% des observations d'un coté et 25% de l'autre)\n",
    "* max : valeur maximale des observations\n"
   ]
  },
  {
   "cell_type": "markdown",
   "metadata": {},
   "source": [
    "3ième étape : nettoyage des données\n",
    "\n",
    "Une étape cruciale qui permet d'éliminer toute observation non renseignée ou abérrante et qui pourrait fausser l'analyse des données"
   ]
  },
  {
   "cell_type": "markdown",
   "metadata": {},
   "source": [
    "Nous allons contruire des fonctions dont le but sera de retourner le nom des colonnes qui contiennent des valeurs 'NaN' : valeurs non attribués (non renseignées)"
   ]
  },
  {
   "cell_type": "code",
   "execution_count": 6,
   "metadata": {
    "collapsed": false
   },
   "outputs": [],
   "source": [
    "# Necessite la librairie math pour importer uniquement la fonction isnan\n",
    "from math import isnan \n",
    "\n",
    "# fonction qui retourne si une colonne contient au moins une valeur NaN\n",
    "# ATTENTION isnan() n'accepte que des valeurs de type numérique\n",
    "def isNanInColumn(df,columnName):\n",
    "    # nous allons utiliser une boucle for\n",
    "    for obs in df[columnName]:\n",
    "            if isnan(obs) == True:\n",
    "                return True\n",
    "        \n",
    "# fonction qui ne garde que les noms de colonnes qui sont de type float ou int        \n",
    "def selectColumnFloat(df,columnNames):\n",
    "    columnNameFloat = []\n",
    "    for column in columnNames:\n",
    "        if df[column].dtypes == \"int64\" or df[column].dtypes == \"float64\":\n",
    "            columnNameFloat.append(column)\n",
    "    return columnNameFloat\n",
    "\n",
    "# fonction qui scan chaque colonne depuis une liste de noms pour savoir si ces colonnes contiennent au moins un NaN\n",
    "def findColumnWithNaN(df,floatColumns):\n",
    "    columnList = []\n",
    "    for column in floatColumns:\n",
    "        if isNanInColumn(df,column) == True:\n",
    "            columnList.append(column)\n",
    "    return columnList\n",
    "\n",
    "\n",
    "\n",
    "    "
   ]
  },
  {
   "cell_type": "markdown",
   "metadata": {},
   "source": [
    "Appliquons maintenant ces fonctions au jeu de données (dfTrain) que nous avons:"
   ]
  },
  {
   "cell_type": "code",
   "execution_count": 7,
   "metadata": {
    "collapsed": false
   },
   "outputs": [
    {
     "data": {
      "text/plain": [
       "['Age']"
      ]
     },
     "execution_count": 7,
     "metadata": {},
     "output_type": "execute_result"
    }
   ],
   "source": [
    "# Selection de tous les noms de colonnes dans dfTrain\n",
    "columnNames = list(dfTrain.columns.values)\n",
    "\n",
    "# Restriction aux seules colonnes qui sont numériques\n",
    "floatColumns = selectColumnFloat(dfTrain,columnNames)\n",
    "\n",
    "# retourne le nom des colonnes contenant au moins un NaN\n",
    "findColumnWithNaN(dfTrain,floatColumns)"
   ]
  },
  {
   "cell_type": "markdown",
   "metadata": {},
   "source": [
    "En ce qui concerne les valeurs non attribuées, seule la colonne 'Age' contient des valeurs NaN, ce qui est plutot une bonne nouvelle!\n",
    "\n",
    "Nous pouvons maintenant remplacer ces valeurs grace au code fourni dans Pandas.ipynb"
   ]
  },
  {
   "cell_type": "code",
   "execution_count": 8,
   "metadata": {
    "collapsed": false
   },
   "outputs": [
    {
     "name": "stdout",
     "output_type": "stream",
     "text": [
      "Sexe     Classe          Age Median\n",
      "Femme    1ere Classe     35.0      \n",
      "Femme    2nde Classe     28.0      \n",
      "Femme    3ieme Classe    21.5      \n",
      "Homme    1ere Classe     40.0      \n",
      "Homme    2nde Classe     30.0      \n",
      "Homme    3ieme Classe    25.0      \n"
     ]
    }
   ],
   "source": [
    "import numpy as np\n",
    "\n",
    "# Ajouter une colonne Gender qui contiendra une variable booléenne plus facile à manupuler :\n",
    "dfTrain['Gender'] = \"\"\n",
    "\n",
    "# En binaire :\n",
    "dfTrain['Gender'] = dfTrain['Sex'].map( {'female': 0, 'male': 1} ).astype(int)\n",
    "\n",
    "# Création d'un objet de deux lignes et 3 colonnes qui contiendra les medianes des ages pour chaque sexe et classe de passagers\n",
    "median_ages = np.zeros((2,3))\n",
    "for i in range(0, 2):\n",
    "    for j in range(0, 3):\n",
    "        median_ages[i,j] = dfTrain[(dfTrain['Gender'] == i) & \\\n",
    "                              (dfTrain['Pclass'] == j+1)]['Age'].dropna().median()\n",
    "\n",
    "# Création d'un dictionnaire contenant ces informations selon le sexe et la classe des passagers\n",
    "dico_median = {1: [\"Femme\",\"1ere Classe\", median_ages[0,0]]\n",
    "                ,2: [\"Femme\",\"2nde Classe\", median_ages[0,1]]\n",
    "                ,3: [\"Femme\",\"3ieme Classe\", median_ages[0,2]]\n",
    "                ,4: [\"Homme\",\"1ere Classe\", median_ages[1,0]]\n",
    "                ,5: [\"Homme\",\"2nde Classe\", median_ages[1,1]]\n",
    "                ,6: [\"Homme\",\"3ieme Classe\", median_ages[1,2]]}\n",
    "\n",
    "# Création d'une table présentant ces informations de médiane selon le sexe et la classe des passagers\n",
    "print \"{:<8} {:<15} {:<10}\".format('Sexe','Classe','Age Median')\n",
    "for k, v in dico_median.iteritems():\n",
    "    Sexe, Classe, Age = v\n",
    "    print \"{:<8} {:<15} {:<10}\".format(Sexe, Classe, Age)\n",
    "    "
   ]
  },
  {
   "cell_type": "markdown",
   "metadata": {
    "collapsed": true
   },
   "source": [
    "On peut clairement voir que l'age médian change drastiquement à la fois entre les hommes et les femmes mais également entre les différentes classes de passagers.\n",
    "\n",
    "Prendre la médiane globale des passagers pour remplir les valeurs d'age non attribuées dans le dataset fournirait une information moins juste que de prendre la médiane calculée selon le sexe et la classe de passagers.\n",
    "\n",
    "Pour éviter de réécrire par inadvertance des valeurs dans la colonne 'Age', nous allons créer une copie de cette colonne dans le dataset et lui appliquer les modifications qui vont replacer les NaN par des valeurs médiane: "
   ]
  },
  {
   "cell_type": "code",
   "execution_count": 16,
   "metadata": {
    "collapsed": false
   },
   "outputs": [
    {
     "name": "stdout",
     "output_type": "stream",
     "text": [
      "Empty DataFrame\n",
      "Columns: [PassengerId, Survived, Pclass, Name, Sex, Age, SibSp, Parch, Ticket, Fare, Cabin, Embarked, Gender, AgeFill]\n",
      "Index: []\n"
     ]
    }
   ],
   "source": [
    "# On commence avec une copie :\n",
    "dfTrain['AgeFill'] = dfTrain['Age']\n",
    "\n",
    "# On construire une boucle for imbriquée qui permet de selectionner les valeurs NaN \n",
    "# en fonction du sexe et de la classe de passagers ainsi que leur attribuer la nouvelle valeur médiane correspondante :\n",
    "for i in range(0, 2):\n",
    "    for j in range(0, 3):\n",
    "        dfTrain.loc[ (dfTrain.Age.isnull()) & (dfTrain.Gender == i) & \n",
    "                (dfTrain.Pclass == j+1),\\\n",
    "                'AgeFill'] = median_ages[i,j]\n",
    "\n",
    "# Observation de la correction effectuée sur 10 valeurs:\n",
    "dfTrain[ dfTrain['Age'].isnull() ][['Age','AgeFill']].head(10)\n",
    "\n",
    "# On peut maintenant vérifier que la colonne AgeFill ne contient plus de valeurs NaN:\n",
    "print dfTrain.loc[dfTrain.AgeFill.isnull()]\n"
   ]
  },
  {
   "cell_type": "markdown",
   "metadata": {},
   "source": [
    "La vérification produit un dataframe vide lors de la recherche de valeurs NaN dans la colonne AgeFill, on peut donc en conclure que notre procédure de correction a été couronnée de succès!"
   ]
  },
  {
   "cell_type": "markdown",
   "metadata": {},
   "source": [
    "Il faut continuer le nettoyage de données pour tester si des valeurs abérrantes sont présentes:\n",
    "\n",
    "Pour ce faire, nous allons produire un certain nombre de graphiques par variable représentatif des propriétes statistiques."
   ]
  },
  {
   "cell_type": "code",
   "execution_count": 31,
   "metadata": {
    "collapsed": false
   },
   "outputs": [
    {
     "data": {
      "image/png": "[encoded data removed]",
      "text/plain": [
       "<matplotlib.figure.Figure at 0x7fe0c2b1f510>"
      ]
     },
     "metadata": {},
     "output_type": "display_data"
    }
   ],
   "source": [
    "# On importe la librairie matplotlib pour pouvoir observer graphiquement les variables\n",
    "import matplotlib.pyplot as plt\n",
    "\n",
    "dfTrain.AgeFill\n",
    "\n",
    "plt.show()"
   ]
  },
  {
   "cell_type": "markdown",
   "metadata": {},
   "source": [
    "Nous allons maintenant explorer la possibilité de créer un modèle linéaire entre deux variables. Rien ne nous empeche de revenir plus tard sur le nettoyage des données si nous observons graphiquement des valeurs qui nous semblent abérrantes.\n",
    "\n",
    "Intuitivement, nous faisons l'hypothèse que l'age et le prix du ticket vont etre liés. Nous pensons que de jeunes passagers seront plus désargentés que de vieux passagers et donc le prix du billet augmentera lorsque les passagers seront agés.\n",
    "\n",
    "Pour tester cette hypothèse, nous allons construire un modèle de regression linéaire, il ya plusieurs façons de le faire:\n",
    "\n",
    "* en utilsant la librairie numpy\n",
    "* en utilisant la librairie scipy\n",
    "* en utilisant la librairie sklearn\n"
   ]
  },
  {
   "cell_type": "code",
   "execution_count": 30,
   "metadata": {
    "collapsed": false
   },
   "outputs": [
    {
     "data": {
      "image/png": "[encoded data removed]",
      "text/plain": [
       "<matplotlib.figure.Figure at 0x7f8b1e4f4a50>"
      ]
     },
     "metadata": {},
     "output_type": "display_data"
    }
   ],
   "source": [
    "# Par l'utilisation de numpy:\n",
    "\n",
    "# On determine les variables x (age des passagers) et y (cout du billet)\n",
    "x = dfTrain[\"AgeFill\"]\n",
    "y = dfTrain[\"Fare\"]\n",
    "\n",
    "# On utilise la fonction polyfit pour ajuster le modèle linéaire aux données\n",
    "fit = np.polyfit(x,y,1)\n",
    "\n",
    "# On établit la prédiction des y en fonction des valeurs de x par le modèle linéaire\n",
    "fit_fn = np.poly1d(fit) \n",
    "\n",
    "# On importe la librairie matplotlib pour pouvoir observer graphiquement la relation linéaire\n",
    "import matplotlib.pyplot as plt\n",
    "\n",
    "# On utilise la fonction plot pour ouvrir une instance graphique avec pour paramètres x, y et fit_fn(x) : les prédictions de y \n",
    "plt.plot(x,y, 'yo', x, fit_fn(x), '--k')\n",
    "# On affiche le graphique\n",
    "plt.show()\n",
    "\n"
   ]
  },
  {
   "cell_type": "code",
   "execution_count": 31,
   "metadata": {
    "collapsed": false
   },
   "outputs": [
    {
     "name": "stdout",
     "output_type": "stream",
     "text": [
      "r-squared: 0.0150534439274\n"
     ]
    },
    {
     "data": {
      "image/png": "[encoded data removed]",
      "text/plain": [
       "<matplotlib.figure.Figure at 0x7f8b1e88dd50>"
      ]
     },
     "metadata": {},
     "output_type": "display_data"
    }
   ],
   "source": [
    "# Par l'utilisation de la librairie scipy\n",
    "\n",
    "from scipy import stats\n",
    "import numpy as np\n",
    "\n",
    "x = dfTrain[\"AgeFill\"]\n",
    "y = dfTrain[\"Fare\"]\n",
    "\n",
    "# On utilise la fonction linregress qui retourne 5 valeurs:\n",
    "# slope\n",
    "# intercept\n",
    "# r_value\n",
    "# p_value\n",
    "# std_err\n",
    "\n",
    "slope, intercept, r_value, p_value, std_err = stats.linregress(x,y)\n",
    "\n",
    "# On affiche le r carré qui évalue la force de la relation linéaire\n",
    "print \"r-squared:\", r_value**2\n",
    "\n",
    "# On calcule les prédictions de y par l'équation d'une relation linéaire\n",
    "yFitted = slope*x + intercept \n",
    "    \n",
    "# On dessine un nuage de points ayant pour coordonnées x et y \n",
    "plt.scatter(x, y,  color='black')\n",
    "# On dessine la droite de regression formée par les coordonnées de x et les prédictions de y\n",
    "plt.plot(x, yFitted, color='blue', linewidth=3)\n",
    "# on affiche le graphique\n",
    "plt.show()"
   ]
  },
  {
   "cell_type": "code",
   "execution_count": 14,
   "metadata": {
    "collapsed": false
   },
   "outputs": [
    {
     "data": {
      "image/png": "[encoded data removed]",
      "text/plain": [
       "<matplotlib.figure.Figure at 0x7f8b3637a390>"
      ]
     },
     "metadata": {},
     "output_type": "display_data"
    }
   ],
   "source": [
    "# Par l'utilisation de la librairie sklearn\n",
    "\n",
    "from sklearn import datasets, linear_model\n",
    "\n",
    "x = dfTrain[\"AgeFill\"]\n",
    "y = dfTrain[\"Fare\"]\n",
    "\n",
    "# On initialise un objet contenant le modèle linéaire\n",
    "regr = linear_model.LinearRegression()\n",
    "\n",
    "# On ajuste le modèle sur le dataset\n",
    "regr.fit(x[:,np.newaxis], y)\n",
    "\n",
    "# On créé un objet x_test qui représente les valeurs de x dans un espace linéaire\n",
    "x_test = np.linspace(np.min(x), np.max(x), 100)\n",
    "\n",
    "# Visualisation de la relation linéaire:\n",
    "\n",
    "plt.scatter(x,y)\n",
    "plt.plot(x_test, regr.predict(x_test[:,np.newaxis]), color='red', linewidth=3)\n",
    "plt.show()\n",
    "\n"
   ]
  },
  {
   "cell_type": "markdown",
   "metadata": {
    "collapsed": true
   },
   "source": [
    "On voit par les graphiques et par la valeur de r² que ces regressions linéaires sont peu appropriées pour décrire la relation entre l'age et le prix du ticket pour l'ensemble des passagers.\n",
    "\n",
    "Voyons ce qui se passe si nous ne prenons comme échantillon que les femmes de plus de 18 ans en 3ième classe et accompagnées par au moins un parent (Parch):"
   ]
  },
  {
   "cell_type": "code",
   "execution_count": 32,
   "metadata": {
    "collapsed": false
   },
   "outputs": [],
   "source": [
    "# cette cellule permet de tester plusieurs échantillons d'intérêt avant de garder celui (ou ceux) \n",
    "# qui nous semble le plus approprié pour tester une regression linéaire \n",
    "\n",
    "dfMaleAdult = dfTrain[ (dfTrain['Sex'] == 'female') \n",
    "                      & (dfTrain['Age'] > 18.0) \n",
    "                      & (dfTrain['Pclass'] == 3.0) \n",
    "                      #& (dfTrain['Embarked'] == \"S\") # cette condition n'est pas présentement testée\n",
    "                      & (dfTrain['Parch'] > 1)\n",
    "                     ]\n"
   ]
  },
  {
   "cell_type": "code",
   "execution_count": 33,
   "metadata": {
    "collapsed": false
   },
   "outputs": [
    {
     "ename": "NameError",
     "evalue": "name 'stats' is not defined",
     "output_type": "error",
     "traceback": [
      "\u001b[0;31m---------------------------------------------------------------------------\u001b[0m",
      "\u001b[0;31mNameError\u001b[0m                                 Traceback (most recent call last)",
      "\u001b[0;32m<ipython-input-33-29a495b9ce28>\u001b[0m in \u001b[0;36m<module>\u001b[0;34m()\u001b[0m\n\u001b[1;32m      4\u001b[0m \u001b[0my\u001b[0m \u001b[0;34m=\u001b[0m \u001b[0mdfMaleAdult\u001b[0m\u001b[0;34m[\u001b[0m\u001b[0;34m\"Fare\"\u001b[0m\u001b[0;34m]\u001b[0m\u001b[0;34m\u001b[0m\u001b[0m\n\u001b[1;32m      5\u001b[0m \u001b[0;34m\u001b[0m\u001b[0m\n\u001b[0;32m----> 6\u001b[0;31m \u001b[0mslope\u001b[0m\u001b[0;34m,\u001b[0m \u001b[0mintercept\u001b[0m\u001b[0;34m,\u001b[0m \u001b[0mr_value\u001b[0m\u001b[0;34m,\u001b[0m \u001b[0mp_value\u001b[0m\u001b[0;34m,\u001b[0m \u001b[0mstd_err\u001b[0m \u001b[0;34m=\u001b[0m \u001b[0mstats\u001b[0m\u001b[0;34m.\u001b[0m\u001b[0mlinregress\u001b[0m\u001b[0;34m(\u001b[0m\u001b[0mx\u001b[0m\u001b[0;34m,\u001b[0m\u001b[0my\u001b[0m\u001b[0;34m)\u001b[0m\u001b[0;34m\u001b[0m\u001b[0m\n\u001b[0m\u001b[1;32m      7\u001b[0m \u001b[0;34m\u001b[0m\u001b[0m\n\u001b[1;32m      8\u001b[0m \u001b[0;32mprint\u001b[0m \u001b[0;34m\"r-squared:\"\u001b[0m\u001b[0;34m,\u001b[0m \u001b[0mr_value\u001b[0m\u001b[0;34m**\u001b[0m\u001b[0;36m2\u001b[0m\u001b[0;34m\u001b[0m\u001b[0m\n",
      "\u001b[0;31mNameError\u001b[0m: name 'stats' is not defined"
     ]
    }
   ],
   "source": [
    "# Testons à nouveau le modèle linéaire sur cette échantillon: \n",
    "\n",
    "x = dfMaleAdult[\"AgeFill\"]\n",
    "y = dfMaleAdult[\"Fare\"]\n",
    "\n",
    "slope, intercept, r_value, p_value, std_err = stats.linregress(x,y)\n",
    "\n",
    "print \"r-squared:\", r_value**2\n",
    "\n",
    "yFitted = slope*x + intercept \n",
    "    \n",
    "# Visualisation des données\n",
    "plt.scatter(x, y,  color='black')\n",
    "plt.plot(x, yFitted, color='blue', linewidth=3)\n",
    "plt.show()"
   ]
  },
  {
   "cell_type": "markdown",
   "metadata": {},
   "source": [
    "Nous commencons ici à dégager une relation interprétable:\n",
    "\n",
    "Une femme plus jeune avait tendance à payer moins chère son billet qu'une femme plus agée lorsqu'elle voyageait en 3ième classe et qu'elle était accompagnée par au moins un parent.\n",
    "\n",
    "Reste à affiner cette relation!"
   ]
  },
  {
   "cell_type": "code",
   "execution_count": null,
   "metadata": {
    "collapsed": true
   },
   "outputs": [],
   "source": []
  }
 ],
 "metadata": {
  "anaconda-cloud": {},
  "kernelspec": {
   "display_name": "Python [conda env:py27]",
   "language": "python",
   "name": "conda-env-py27-py"
  },
  "language_info": {
   "codemirror_mode": {
    "name": "ipython",
    "version": 2
   },
   "file_extension": ".py",
   "mimetype": "text/x-python",
   "name": "python",
   "nbconvert_exporter": "python",
   "pygments_lexer": "ipython2",
   "version": "2.7.12"
  }
 },
 "nbformat": 4,
 "nbformat_minor": 1
}
