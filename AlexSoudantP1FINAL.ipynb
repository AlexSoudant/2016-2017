{
 "cells": [
  {
   "cell_type": "markdown",
   "metadata": {
    "collapsed": true
   },
   "source": [
    "Project 1: \n",
    "\n",
    "Vous êtes nouvel embauche chez CoolCorp, une startup qui spécialise\n",
    "dans l'analyse des désastres maritimes.  Un nouveau client, White Star\n",
    "Lines, se trouve face à un procès à travers le temps, affaire délicat.\n",
    "Votre chef vous demande, en tant que seul data scientist chez\n",
    "CoolCorp, d'analyser les données `*.csv`.  WSL a déjà engagé un expert\n",
    "pour annoter une partie des données (`test.csv`) avec la survie ou pas\n",
    "des passagers."
   ]
  },
  {
   "cell_type": "markdown",
   "metadata": {},
   "source": [
    "1ère étape: Ouverture des fichiers csv\n",
    "\n",
    "la librairie pandas permets une ouverture facile de fichiers csv par la fonction read_csv() sous le format d'un dataframe qui permet d'utiliser un certain nombres de fonctions pré-implémentées dans l'objet python créé (c'est à dire 'dfTrain')\n",
    "\n",
    "voir http://pandas.pydata.org/pandas-docs/stable/generated/pandas.DataFrame.html\n",
    "\n",
    "Pour l'instant seul le fichier 'train.csv' nous interesse puisque le fichier 'test.csv' est censé être traité par un autre expert. "
   ]
  },
  {
   "cell_type": "code",
   "execution_count": 194,
   "metadata": {
    "collapsed": true
   },
   "outputs": [],
   "source": [
    "# import de la librairie pandas qui sera appelée par l'acronyme 'pd' dans le corps du code\n",
    "import pandas as pd\n",
    "\n",
    "# header = 0 indique la présence de titres sur chaque colonne\n",
    "dfTrain = pd.read_csv('train.csv', header=0)"
   ]
  },
  {
   "cell_type": "markdown",
   "metadata": {},
   "source": [
    "2nde étape: observation du dataset\n",
    "\n",
    "les fonctions spécifiques au format dataframe et présentées dans pandas.ipynb seront utiles pour cette étape:\n",
    "* df.head()\n",
    "* df.dtypes\n",
    "* df.info()\n",
    "* df.describe()\n"
   ]
  },
  {
   "cell_type": "code",
   "execution_count": 195,
   "metadata": {
    "collapsed": false
   },
   "outputs": [
    {
     "data": {
      "text/html": [
       "<div>\n",
       "<table border=\"1\" class=\"dataframe\">\n",
       "  <thead>\n",
       "    <tr style=\"text-align: right;\">\n",
       "      <th></th>\n",
       "      <th>PassengerId</th>\n",
       "      <th>Survived</th>\n",
       "      <th>Pclass</th>\n",
       "      <th>Name</th>\n",
       "      <th>Sex</th>\n",
       "      <th>Age</th>\n",
       "      <th>SibSp</th>\n",
       "      <th>Parch</th>\n",
       "      <th>Ticket</th>\n",
       "      <th>Fare</th>\n",
       "      <th>Cabin</th>\n",
       "      <th>Embarked</th>\n",
       "    </tr>\n",
       "  </thead>\n",
       "  <tbody>\n",
       "    <tr>\n",
       "      <th>0</th>\n",
       "      <td>1</td>\n",
       "      <td>0</td>\n",
       "      <td>3</td>\n",
       "      <td>Braund, Mr. Owen Harris</td>\n",
       "      <td>male</td>\n",
       "      <td>22.0</td>\n",
       "      <td>1</td>\n",
       "      <td>0</td>\n",
       "      <td>A/5 21171</td>\n",
       "      <td>7.2500</td>\n",
       "      <td>NaN</td>\n",
       "      <td>S</td>\n",
       "    </tr>\n",
       "    <tr>\n",
       "      <th>1</th>\n",
       "      <td>2</td>\n",
       "      <td>1</td>\n",
       "      <td>1</td>\n",
       "      <td>Cumings, Mrs. John Bradley (Florence Briggs Th...</td>\n",
       "      <td>female</td>\n",
       "      <td>38.0</td>\n",
       "      <td>1</td>\n",
       "      <td>0</td>\n",
       "      <td>PC 17599</td>\n",
       "      <td>71.2833</td>\n",
       "      <td>C85</td>\n",
       "      <td>C</td>\n",
       "    </tr>\n",
       "    <tr>\n",
       "      <th>2</th>\n",
       "      <td>3</td>\n",
       "      <td>1</td>\n",
       "      <td>3</td>\n",
       "      <td>Heikkinen, Miss. Laina</td>\n",
       "      <td>female</td>\n",
       "      <td>26.0</td>\n",
       "      <td>0</td>\n",
       "      <td>0</td>\n",
       "      <td>STON/O2. 3101282</td>\n",
       "      <td>7.9250</td>\n",
       "      <td>NaN</td>\n",
       "      <td>S</td>\n",
       "    </tr>\n",
       "    <tr>\n",
       "      <th>3</th>\n",
       "      <td>4</td>\n",
       "      <td>1</td>\n",
       "      <td>1</td>\n",
       "      <td>Futrelle, Mrs. Jacques Heath (Lily May Peel)</td>\n",
       "      <td>female</td>\n",
       "      <td>35.0</td>\n",
       "      <td>1</td>\n",
       "      <td>0</td>\n",
       "      <td>113803</td>\n",
       "      <td>53.1000</td>\n",
       "      <td>C123</td>\n",
       "      <td>S</td>\n",
       "    </tr>\n",
       "    <tr>\n",
       "      <th>4</th>\n",
       "      <td>5</td>\n",
       "      <td>0</td>\n",
       "      <td>3</td>\n",
       "      <td>Allen, Mr. William Henry</td>\n",
       "      <td>male</td>\n",
       "      <td>35.0</td>\n",
       "      <td>0</td>\n",
       "      <td>0</td>\n",
       "      <td>373450</td>\n",
       "      <td>8.0500</td>\n",
       "      <td>NaN</td>\n",
       "      <td>S</td>\n",
       "    </tr>\n",
       "  </tbody>\n",
       "</table>\n",
       "</div>"
      ],
      "text/plain": [
       "   PassengerId  Survived  Pclass  \\\n",
       "0            1         0       3   \n",
       "1            2         1       1   \n",
       "2            3         1       3   \n",
       "3            4         1       1   \n",
       "4            5         0       3   \n",
       "\n",
       "                                                Name     Sex   Age  SibSp  \\\n",
       "0                            Braund, Mr. Owen Harris    male  22.0      1   \n",
       "1  Cumings, Mrs. John Bradley (Florence Briggs Th...  female  38.0      1   \n",
       "2                             Heikkinen, Miss. Laina  female  26.0      0   \n",
       "3       Futrelle, Mrs. Jacques Heath (Lily May Peel)  female  35.0      1   \n",
       "4                           Allen, Mr. William Henry    male  35.0      0   \n",
       "\n",
       "   Parch            Ticket     Fare Cabin Embarked  \n",
       "0      0         A/5 21171   7.2500   NaN        S  \n",
       "1      0          PC 17599  71.2833   C85        C  \n",
       "2      0  STON/O2. 3101282   7.9250   NaN        S  \n",
       "3      0            113803  53.1000  C123        S  \n",
       "4      0            373450   8.0500   NaN        S  "
      ]
     },
     "execution_count": 195,
     "metadata": {},
     "output_type": "execute_result"
    }
   ],
   "source": [
    "# .head() affiche les 5 premieres lignes du dataframe\n",
    "dfTrain.head()"
   ]
  },
  {
   "cell_type": "markdown",
   "metadata": {},
   "source": [
    "On peut ainsi se donner une idée des données présentent et que ces 12 colonnes représentent:\n",
    "\n",
    "* PassengerId : un identifiant unique pour chaque passager\n",
    "* Survived : une variable booléenne qui prends la valeur 0 : n'a pas survécu ou 1 : a survécu\n",
    "* Pclass : la classe de voyageur dans laquelle se trouvait le passager (1 : 1ere classe, etc)\n",
    "* Name : le nom complet du passager\n",
    "* Sex : une variable booléenne qui détermine le sexe des passagers (male / female)\n",
    "* Age : l'age du passager\n",
    "* SibSp: Nombre de frères, soeurs ou époux/épouse\n",
    "* Parch: Nombre de Père/Mère\n",
    "* Ticket : numéro de ticket de passager\n",
    "* Fare: Prix du ticket de passager\n",
    "* Cabin: Numéro de cabine (attention les passagers de 3ième classe n'ont probablement pas de cabine personnelle)\n",
    "* Embarked: Premiere lettre du lieu d'embarcation (S , C , etc)\n",
    "\n"
   ]
  },
  {
   "cell_type": "code",
   "execution_count": 196,
   "metadata": {
    "collapsed": false
   },
   "outputs": [
    {
     "data": {
      "text/plain": [
       "PassengerId      int64\n",
       "Survived         int64\n",
       "Pclass           int64\n",
       "Name            object\n",
       "Sex             object\n",
       "Age            float64\n",
       "SibSp            int64\n",
       "Parch            int64\n",
       "Ticket          object\n",
       "Fare           float64\n",
       "Cabin           object\n",
       "Embarked        object\n",
       "dtype: object"
      ]
     },
     "execution_count": 196,
     "metadata": {},
     "output_type": "execute_result"
    }
   ],
   "source": [
    "# informe de la nature des données\n",
    "dfTrain.dtypes"
   ]
  },
  {
   "cell_type": "code",
   "execution_count": 197,
   "metadata": {
    "collapsed": false
   },
   "outputs": [
    {
     "name": "stdout",
     "output_type": "stream",
     "text": [
      "<class 'pandas.core.frame.DataFrame'>\n",
      "RangeIndex: 891 entries, 0 to 890\n",
      "Data columns (total 12 columns):\n",
      "PassengerId    891 non-null int64\n",
      "Survived       891 non-null int64\n",
      "Pclass         891 non-null int64\n",
      "Name           891 non-null object\n",
      "Sex            891 non-null object\n",
      "Age            714 non-null float64\n",
      "SibSp          891 non-null int64\n",
      "Parch          891 non-null int64\n",
      "Ticket         891 non-null object\n",
      "Fare           891 non-null float64\n",
      "Cabin          204 non-null object\n",
      "Embarked       889 non-null object\n",
      "dtypes: float64(2), int64(5), object(5)\n",
      "memory usage: 83.6+ KB\n"
     ]
    }
   ],
   "source": [
    "# résumé plus complet du dataframe:  \n",
    "dfTrain.info()"
   ]
  },
  {
   "cell_type": "markdown",
   "metadata": {},
   "source": [
    "Renseigne sur:\n",
    "* la nature de l'objet analysé (dataframe)\n",
    "* le nombre de lignes (891)\n",
    "* nombre d'observations par colonnes (attention colonne \"Age\" et \"Cabin\" ne sont pas entièrement renseignées)\n",
    "* Si la colonne est entierement vide (null / non-null)\n",
    "* tous les types de données présents dans ce dataframe et leur nombre en colonnes (float64(2), int64(5), object(5))\n",
    "* l'usage de la mémoire pour conserver ce dataframe\n"
   ]
  },
  {
   "cell_type": "code",
   "execution_count": 198,
   "metadata": {
    "collapsed": false
   },
   "outputs": [
    {
     "data": {
      "text/html": [
       "<div>\n",
       "<table border=\"1\" class=\"dataframe\">\n",
       "  <thead>\n",
       "    <tr style=\"text-align: right;\">\n",
       "      <th></th>\n",
       "      <th>PassengerId</th>\n",
       "      <th>Survived</th>\n",
       "      <th>Pclass</th>\n",
       "      <th>Age</th>\n",
       "      <th>SibSp</th>\n",
       "      <th>Parch</th>\n",
       "      <th>Fare</th>\n",
       "    </tr>\n",
       "  </thead>\n",
       "  <tbody>\n",
       "    <tr>\n",
       "      <th>count</th>\n",
       "      <td>891.000000</td>\n",
       "      <td>891.000000</td>\n",
       "      <td>891.000000</td>\n",
       "      <td>714.000000</td>\n",
       "      <td>891.000000</td>\n",
       "      <td>891.000000</td>\n",
       "      <td>891.000000</td>\n",
       "    </tr>\n",
       "    <tr>\n",
       "      <th>mean</th>\n",
       "      <td>446.000000</td>\n",
       "      <td>0.383838</td>\n",
       "      <td>2.308642</td>\n",
       "      <td>29.699118</td>\n",
       "      <td>0.523008</td>\n",
       "      <td>0.381594</td>\n",
       "      <td>32.204208</td>\n",
       "    </tr>\n",
       "    <tr>\n",
       "      <th>std</th>\n",
       "      <td>257.353842</td>\n",
       "      <td>0.486592</td>\n",
       "      <td>0.836071</td>\n",
       "      <td>14.526497</td>\n",
       "      <td>1.102743</td>\n",
       "      <td>0.806057</td>\n",
       "      <td>49.693429</td>\n",
       "    </tr>\n",
       "    <tr>\n",
       "      <th>min</th>\n",
       "      <td>1.000000</td>\n",
       "      <td>0.000000</td>\n",
       "      <td>1.000000</td>\n",
       "      <td>0.420000</td>\n",
       "      <td>0.000000</td>\n",
       "      <td>0.000000</td>\n",
       "      <td>0.000000</td>\n",
       "    </tr>\n",
       "    <tr>\n",
       "      <th>25%</th>\n",
       "      <td>223.500000</td>\n",
       "      <td>0.000000</td>\n",
       "      <td>2.000000</td>\n",
       "      <td>NaN</td>\n",
       "      <td>0.000000</td>\n",
       "      <td>0.000000</td>\n",
       "      <td>7.910400</td>\n",
       "    </tr>\n",
       "    <tr>\n",
       "      <th>50%</th>\n",
       "      <td>446.000000</td>\n",
       "      <td>0.000000</td>\n",
       "      <td>3.000000</td>\n",
       "      <td>NaN</td>\n",
       "      <td>0.000000</td>\n",
       "      <td>0.000000</td>\n",
       "      <td>14.454200</td>\n",
       "    </tr>\n",
       "    <tr>\n",
       "      <th>75%</th>\n",
       "      <td>668.500000</td>\n",
       "      <td>1.000000</td>\n",
       "      <td>3.000000</td>\n",
       "      <td>NaN</td>\n",
       "      <td>1.000000</td>\n",
       "      <td>0.000000</td>\n",
       "      <td>31.000000</td>\n",
       "    </tr>\n",
       "    <tr>\n",
       "      <th>max</th>\n",
       "      <td>891.000000</td>\n",
       "      <td>1.000000</td>\n",
       "      <td>3.000000</td>\n",
       "      <td>80.000000</td>\n",
       "      <td>8.000000</td>\n",
       "      <td>6.000000</td>\n",
       "      <td>512.329200</td>\n",
       "    </tr>\n",
       "  </tbody>\n",
       "</table>\n",
       "</div>"
      ],
      "text/plain": [
       "       PassengerId    Survived      Pclass         Age       SibSp  \\\n",
       "count   891.000000  891.000000  891.000000  714.000000  891.000000   \n",
       "mean    446.000000    0.383838    2.308642   29.699118    0.523008   \n",
       "std     257.353842    0.486592    0.836071   14.526497    1.102743   \n",
       "min       1.000000    0.000000    1.000000    0.420000    0.000000   \n",
       "25%     223.500000    0.000000    2.000000         NaN    0.000000   \n",
       "50%     446.000000    0.000000    3.000000         NaN    0.000000   \n",
       "75%     668.500000    1.000000    3.000000         NaN    1.000000   \n",
       "max     891.000000    1.000000    3.000000   80.000000    8.000000   \n",
       "\n",
       "            Parch        Fare  \n",
       "count  891.000000  891.000000  \n",
       "mean     0.381594   32.204208  \n",
       "std      0.806057   49.693429  \n",
       "min      0.000000    0.000000  \n",
       "25%      0.000000    7.910400  \n",
       "50%      0.000000   14.454200  \n",
       "75%      0.000000   31.000000  \n",
       "max      6.000000  512.329200  "
      ]
     },
     "execution_count": 198,
     "metadata": {},
     "output_type": "execute_result"
    }
   ],
   "source": [
    "# Résumé statisque des données présentes dans le dataframe\n",
    "dfTrain.describe()"
   ]
  },
  {
   "cell_type": "markdown",
   "metadata": {},
   "source": [
    "Attention: ne prends en compte que les variables numériques.\n",
    "\n",
    "Les données non renseignées (NaN) ou valeurs abérrantes influent sur ces calculs.\n",
    "\n",
    "Nous indique:\n",
    "\n",
    "* count : nombre total d'obersavations\n",
    "* mean : moyenne des observations\n",
    "* std : standard deviation (écart type)\n",
    "* min : valeur minimale des observations\n",
    "* 25% : 1er quartile des obervations (valeur butoire qui sépare 25% des observations d'un coté et 75% de l'autre)\n",
    "* 50% : 2nd quartile (ou médiane) des observations (valeur butoire qui sépare le dataset en deux parties égales)\n",
    "* 75% : 3ime quartile des obervations (valeur butoire qui sépare 75% des observations d'un coté et 25% de l'autre)\n",
    "* max : valeur maximale des observations\n"
   ]
  },
  {
   "cell_type": "markdown",
   "metadata": {},
   "source": [
    "3ième étape : nettoyage des données\n",
    "\n",
    "Une étape cruciale qui permet d'éliminer toute observation non renseignée ou abérrante et qui pourrait fausser l'analyse des données"
   ]
  },
  {
   "cell_type": "markdown",
   "metadata": {},
   "source": [
    "Nous allons contruire des fonctions dont le but sera de retourner le nom des colonnes qui contiennent des valeurs 'NaN' : valeurs non attribués (non renseignées)"
   ]
  },
  {
   "cell_type": "code",
   "execution_count": 199,
   "metadata": {
    "collapsed": false
   },
   "outputs": [],
   "source": [
    "# Necessite la librairie math pour importer uniquement la fonction isnan\n",
    "from math import isnan \n",
    "\n",
    "# fonction qui retourne si une colonne contient au moins une valeur NaN\n",
    "# ATTENTION isnan() n'accepte que des valeurs de type numérique\n",
    "def isNanInColumn(df,columnName):\n",
    "    # nous allons utiliser une boucle for\n",
    "    for obs in df[columnName]:\n",
    "            if isnan(obs) == True:\n",
    "                return True\n",
    "        \n",
    "# fonction qui ne garde que les noms de colonnes qui sont de type float ou int        \n",
    "def selectColumnFloat(df,columnNames):\n",
    "    columnNameFloat = []\n",
    "    for column in columnNames:\n",
    "        if df[column].dtypes == \"int64\" or df[column].dtypes == \"float64\":\n",
    "            columnNameFloat.append(column)\n",
    "    return columnNameFloat\n",
    "\n",
    "# fonction qui scan chaque colonne depuis une liste de noms pour savoir si ces colonnes contiennent au moins un NaN\n",
    "def findColumnWithNaN(df,floatColumns):\n",
    "    columnList = []\n",
    "    for column in floatColumns:\n",
    "        if isNanInColumn(df,column) == True:\n",
    "            columnList.append(column)\n",
    "    return columnList\n",
    "\n",
    "\n",
    "\n",
    "    "
   ]
  },
  {
   "cell_type": "markdown",
   "metadata": {},
   "source": [
    "Appliquons maintenant ces fonctions au jeu de données (dfTrain) que nous avons:"
   ]
  },
  {
   "cell_type": "code",
   "execution_count": 200,
   "metadata": {
    "collapsed": false
   },
   "outputs": [
    {
     "data": {
      "text/plain": [
       "['Age']"
      ]
     },
     "execution_count": 200,
     "metadata": {},
     "output_type": "execute_result"
    }
   ],
   "source": [
    "# Selection de tous les noms de colonnes dans dfTrain\n",
    "columnNames = list(dfTrain.columns.values)\n",
    "\n",
    "# Restriction aux seules colonnes qui sont numériques\n",
    "floatColumns = selectColumnFloat(dfTrain,columnNames)\n",
    "\n",
    "# retourne le nom des colonnes contenant au moins un NaN\n",
    "findColumnWithNaN(dfTrain,floatColumns)"
   ]
  },
  {
   "cell_type": "markdown",
   "metadata": {},
   "source": [
    "En ce qui concerne les valeurs non attribuées, seule la colonne 'Age' contient des valeurs NaN, ce qui est plutot une bonne nouvelle!\n",
    "\n",
    "Nous pouvons maintenant remplacer ces valeurs grace au code fourni dans Pandas.ipynb"
   ]
  },
  {
   "cell_type": "code",
   "execution_count": 201,
   "metadata": {
    "collapsed": false
   },
   "outputs": [
    {
     "name": "stdout",
     "output_type": "stream",
     "text": [
      "Sexe     Classe          Age Median\n",
      "Femme    1ere Classe     35.0      \n",
      "Femme    2nde Classe     28.0      \n",
      "Femme    3ieme Classe    21.5      \n",
      "Homme    1ere Classe     40.0      \n",
      "Homme    2nde Classe     30.0      \n",
      "Homme    3ieme Classe    25.0      \n"
     ]
    }
   ],
   "source": [
    "import numpy as np\n",
    "\n",
    "# Ajouter une colonne Gender qui contiendra une variable booléenne plus facile à manupuler :\n",
    "dfTrain['Gender'] = \"\"\n",
    "\n",
    "# En binaire :\n",
    "dfTrain['Gender'] = dfTrain['Sex'].map( {'female': 0, 'male': 1} ).astype(int)\n",
    "\n",
    "# Création d'un objet de deux lignes et 3 colonnes qui contiendra les medianes des ages pour chaque sexe et classe de passagers\n",
    "median_ages = np.zeros((2,3))\n",
    "for i in range(0, 2):\n",
    "    for j in range(0, 3):\n",
    "        median_ages[i,j] = dfTrain[(dfTrain['Gender'] == i) & \\\n",
    "                              (dfTrain['Pclass'] == j+1)]['Age'].dropna().median()\n",
    "\n",
    "# Création d'un dictionnaire contenant ces informations selon le sexe et la classe des passagers\n",
    "dico_median = {1: [\"Femme\",\"1ere Classe\", median_ages[0,0]]\n",
    "                ,2: [\"Femme\",\"2nde Classe\", median_ages[0,1]]\n",
    "                ,3: [\"Femme\",\"3ieme Classe\", median_ages[0,2]]\n",
    "                ,4: [\"Homme\",\"1ere Classe\", median_ages[1,0]]\n",
    "                ,5: [\"Homme\",\"2nde Classe\", median_ages[1,1]]\n",
    "                ,6: [\"Homme\",\"3ieme Classe\", median_ages[1,2]]}\n",
    "\n",
    "# Création d'une table présentant ces informations de médiane selon le sexe et la classe des passagers\n",
    "print \"{:<8} {:<15} {:<10}\".format('Sexe','Classe','Age Median')\n",
    "for k, v in dico_median.iteritems():\n",
    "    Sexe, Classe, Age = v\n",
    "    print \"{:<8} {:<15} {:<10}\".format(Sexe, Classe, Age)\n",
    "    "
   ]
  },
  {
   "cell_type": "markdown",
   "metadata": {
    "collapsed": true
   },
   "source": [
    "On peut clairement voir que l'age médian change drastiquement à la fois entre les hommes et les femmes mais également entre les différentes classes de passagers.\n",
    "\n",
    "Prendre la médiane globale des passagers pour remplir les valeurs d'age non attribuées dans le dataset fournirait une information moins juste que de prendre la médiane calculée selon le sexe et la classe de passagers.\n",
    "\n",
    "Pour éviter de réécrire par inadvertance des valeurs dans la colonne 'Age', nous allons créer une copie de cette colonne dans le dataset et lui appliquer les modifications qui vont replacer les NaN par des valeurs médiane: "
   ]
  },
  {
   "cell_type": "code",
   "execution_count": 202,
   "metadata": {
    "collapsed": false
   },
   "outputs": [
    {
     "name": "stdout",
     "output_type": "stream",
     "text": [
      "    Age  AgeFill\n",
      "5   NaN     25.0\n",
      "17  NaN     30.0\n",
      "19  NaN     21.5\n",
      "26  NaN     25.0\n",
      "28  NaN     21.5\n",
      "29  NaN     25.0\n",
      "31  NaN     35.0\n",
      "32  NaN     21.5\n",
      "36  NaN     25.0\n",
      "42  NaN     25.0\n",
      "Empty DataFrame\n",
      "Columns: [PassengerId, Survived, Pclass, Name, Sex, Age, SibSp, Parch, Ticket, Fare, Cabin, Embarked, Gender, AgeFill]\n",
      "Index: []\n"
     ]
    }
   ],
   "source": [
    "# On commence avec une copie :\n",
    "dfTrain['AgeFill'] = dfTrain['Age']\n",
    "\n",
    "# On construire une boucle for imbriquée qui permet de selectionner les valeurs NaN \n",
    "# en fonction du sexe et de la classe de passagers ainsi que leur attribuer la nouvelle valeur médiane correspondante :\n",
    "for i in range(0, 2):\n",
    "    for j in range(0, 3):\n",
    "        dfTrain.loc[ (dfTrain.Age.isnull()) & (dfTrain.Gender == i) & \n",
    "                (dfTrain.Pclass == j+1),\\\n",
    "                'AgeFill'] = median_ages[i,j]\n",
    "\n",
    "# Observation de la correction effectuée sur 10 valeurs:\n",
    "print dfTrain[ dfTrain['Age'].isnull() ][['Age','AgeFill']].head(10)\n",
    "\n",
    "# On peut maintenant vérifier que la colonne AgeFill ne contient plus de valeurs NaN:\n",
    "print dfTrain.loc[dfTrain.AgeFill.isnull()]\n"
   ]
  },
  {
   "cell_type": "markdown",
   "metadata": {},
   "source": [
    "La vérification produit un dataframe vide lors de la recherche de valeurs NaN dans la colonne AgeFill, on peut donc en conclure que notre procédure de correction a été couronnée de succès!"
   ]
  },
  {
   "cell_type": "markdown",
   "metadata": {},
   "source": [
    "Il faut continuer le nettoyage de données pour tester si des valeurs abérrantes sont présentes:\n",
    "\n",
    "Pour ce faire, nous allons d'abord créer un nouveau dataset dont les colonnes 'Age' et 'Sex' et 'Ticket' seront supprimées car elles n'apportent pas d'information facilement manipulable ou interprétable.\n",
    "\n",
    "On peut à nouveau utiliser la fonction .describe() pour analyser le comportement statistique des données et potentiellement repérer si des valeurs abérrantes sont présentes.\n",
    "\n",
    "exemples: Un age négatif ou au dela de 100 ans serait louche."
   ]
  },
  {
   "cell_type": "code",
   "execution_count": 203,
   "metadata": {
    "collapsed": false
   },
   "outputs": [
    {
     "data": {
      "text/html": [
       "<div>\n",
       "<table border=\"1\" class=\"dataframe\">\n",
       "  <thead>\n",
       "    <tr style=\"text-align: right;\">\n",
       "      <th></th>\n",
       "      <th>PassengerId</th>\n",
       "      <th>Survived</th>\n",
       "      <th>Pclass</th>\n",
       "      <th>SibSp</th>\n",
       "      <th>Parch</th>\n",
       "      <th>Fare</th>\n",
       "      <th>Gender</th>\n",
       "      <th>AgeFill</th>\n",
       "    </tr>\n",
       "  </thead>\n",
       "  <tbody>\n",
       "    <tr>\n",
       "      <th>count</th>\n",
       "      <td>891.000000</td>\n",
       "      <td>891.000000</td>\n",
       "      <td>891.000000</td>\n",
       "      <td>891.000000</td>\n",
       "      <td>891.000000</td>\n",
       "      <td>891.000000</td>\n",
       "      <td>891.000000</td>\n",
       "      <td>891.000000</td>\n",
       "    </tr>\n",
       "    <tr>\n",
       "      <th>mean</th>\n",
       "      <td>446.000000</td>\n",
       "      <td>0.383838</td>\n",
       "      <td>2.308642</td>\n",
       "      <td>0.523008</td>\n",
       "      <td>0.381594</td>\n",
       "      <td>32.204208</td>\n",
       "      <td>0.647587</td>\n",
       "      <td>29.112424</td>\n",
       "    </tr>\n",
       "    <tr>\n",
       "      <th>std</th>\n",
       "      <td>257.353842</td>\n",
       "      <td>0.486592</td>\n",
       "      <td>0.836071</td>\n",
       "      <td>1.102743</td>\n",
       "      <td>0.806057</td>\n",
       "      <td>49.693429</td>\n",
       "      <td>0.477989</td>\n",
       "      <td>13.304424</td>\n",
       "    </tr>\n",
       "    <tr>\n",
       "      <th>min</th>\n",
       "      <td>1.000000</td>\n",
       "      <td>0.000000</td>\n",
       "      <td>1.000000</td>\n",
       "      <td>0.000000</td>\n",
       "      <td>0.000000</td>\n",
       "      <td>0.000000</td>\n",
       "      <td>0.000000</td>\n",
       "      <td>0.420000</td>\n",
       "    </tr>\n",
       "    <tr>\n",
       "      <th>25%</th>\n",
       "      <td>223.500000</td>\n",
       "      <td>0.000000</td>\n",
       "      <td>2.000000</td>\n",
       "      <td>0.000000</td>\n",
       "      <td>0.000000</td>\n",
       "      <td>7.910400</td>\n",
       "      <td>0.000000</td>\n",
       "      <td>21.500000</td>\n",
       "    </tr>\n",
       "    <tr>\n",
       "      <th>50%</th>\n",
       "      <td>446.000000</td>\n",
       "      <td>0.000000</td>\n",
       "      <td>3.000000</td>\n",
       "      <td>0.000000</td>\n",
       "      <td>0.000000</td>\n",
       "      <td>14.454200</td>\n",
       "      <td>1.000000</td>\n",
       "      <td>26.000000</td>\n",
       "    </tr>\n",
       "    <tr>\n",
       "      <th>75%</th>\n",
       "      <td>668.500000</td>\n",
       "      <td>1.000000</td>\n",
       "      <td>3.000000</td>\n",
       "      <td>1.000000</td>\n",
       "      <td>0.000000</td>\n",
       "      <td>31.000000</td>\n",
       "      <td>1.000000</td>\n",
       "      <td>36.000000</td>\n",
       "    </tr>\n",
       "    <tr>\n",
       "      <th>max</th>\n",
       "      <td>891.000000</td>\n",
       "      <td>1.000000</td>\n",
       "      <td>3.000000</td>\n",
       "      <td>8.000000</td>\n",
       "      <td>6.000000</td>\n",
       "      <td>512.329200</td>\n",
       "      <td>1.000000</td>\n",
       "      <td>80.000000</td>\n",
       "    </tr>\n",
       "  </tbody>\n",
       "</table>\n",
       "</div>"
      ],
      "text/plain": [
       "       PassengerId    Survived      Pclass       SibSp       Parch  \\\n",
       "count   891.000000  891.000000  891.000000  891.000000  891.000000   \n",
       "mean    446.000000    0.383838    2.308642    0.523008    0.381594   \n",
       "std     257.353842    0.486592    0.836071    1.102743    0.806057   \n",
       "min       1.000000    0.000000    1.000000    0.000000    0.000000   \n",
       "25%     223.500000    0.000000    2.000000    0.000000    0.000000   \n",
       "50%     446.000000    0.000000    3.000000    0.000000    0.000000   \n",
       "75%     668.500000    1.000000    3.000000    1.000000    0.000000   \n",
       "max     891.000000    1.000000    3.000000    8.000000    6.000000   \n",
       "\n",
       "             Fare      Gender     AgeFill  \n",
       "count  891.000000  891.000000  891.000000  \n",
       "mean    32.204208    0.647587   29.112424  \n",
       "std     49.693429    0.477989   13.304424  \n",
       "min      0.000000    0.000000    0.420000  \n",
       "25%      7.910400    0.000000   21.500000  \n",
       "50%     14.454200    1.000000   26.000000  \n",
       "75%     31.000000    1.000000   36.000000  \n",
       "max    512.329200    1.000000   80.000000  "
      ]
     },
     "execution_count": 203,
     "metadata": {},
     "output_type": "execute_result"
    }
   ],
   "source": [
    "# Nettoyage des colonnes non utilisées\n",
    "dfClean = dfTrain.drop(['Sex', 'Ticket', 'Age']\n",
    "                   ,axis=1)\n",
    "\n",
    "# Nouvelle analyse statistique\n",
    "dfClean.describe()\n"
   ]
  },
  {
   "cell_type": "markdown",
   "metadata": {},
   "source": [
    "On peut observer grace à cette table que:\n",
    "\n",
    "* le nombre de frères / soeurs / époux / épouse maximal était de 8, ce qui semble une valeur possible;\n",
    "* le nombre de parents/enfants maximal présents était de 6, ce qui semble possible;\n",
    "* le coût du billet varie de 0 à 512.33, un billet d'une valeur nulle peut etre concevable à cette époque si la personne s'engage à travailler à bord du ferry. En revanche, l'écart avec le maximum de 512.32 est assez considérable et il serait intéressant d'observer plus en details la distribution du prix du billet.\n",
    "* l'age ne présente pas de valeurs abérrantes, les enfants de moins d'un an sont enregistrés par une décimale entre 0 et 1. Le passager le plus agé avait 80 ans. A t'il survécu ?"
   ]
  },
  {
   "cell_type": "markdown",
   "metadata": {},
   "source": [
    "Pour avancer dans la compréhension du dataset, nous pouvons construire des histogrammes qui vont présenter la distribution des valeurs de chaque variable:"
   ]
  },
  {
   "cell_type": "code",
   "execution_count": 204,
   "metadata": {
    "collapsed": false
   },
   "outputs": [
    {
     "data": {
      "image/png": "[encoded data removed]",
      "text/plain": [
       "<matplotlib.figure.Figure at 0xedfcef0>"
      ]
     },
     "metadata": {},
     "output_type": "display_data"
    },
    {
     "data": {
      "image/png": "[encoded data removed]",
      "text/plain": [
       "<matplotlib.figure.Figure at 0xedc9e48>"
      ]
     },
     "metadata": {},
     "output_type": "display_data"
    },
    {
     "data": {
      "image/png": "[encoded data removed]",
      "text/plain": [
       "<matplotlib.figure.Figure at 0xf2b8390>"
      ]
     },
     "metadata": {},
     "output_type": "display_data"
    },
    {
     "data": {
      "image/png": "[encoded data removed]",
      "text/plain": [
       "<matplotlib.figure.Figure at 0xf1e1668>"
      ]
     },
     "metadata": {},
     "output_type": "display_data"
    }
   ],
   "source": [
    "import matplotlib.pyplot as plt\n",
    "\n",
    "plt.figure()  \n",
    " \n",
    "\n",
    "dfClean.SibSp.hist(bins=8,color=\"lightgrey\") \n",
    "plt.axis([0, 10, 0, 700]) \n",
    "plt.title('Distribution de la variable SibSp')  \n",
    "plt.xlabel('nombre de freres/soeurs/epoux(se)')  \n",
    "plt.ylabel('nombre de passagers')\n",
    "plt.show()\n",
    "\n",
    "\n",
    "dfClean.Parch.hist(bins=6,color=\"lightgrey\") \n",
    "plt.axis([0, 6, 0, 700]) \n",
    "plt.title('Distribution de la variable Parch')  \n",
    "plt.xlabel('nombre de parents/enfants')  \n",
    "plt.ylabel('nombre de passagers')\n",
    "plt.show()\n",
    "\n",
    "binBoundaries = np.linspace(0,550,50)\n",
    "dfClean.Fare.hist(bins=binBoundaries,color=\"lightgrey\")  \n",
    "plt.axis([0, 550, 0, 400])  \n",
    "plt.title('Distribution du prix du billet')  \n",
    "plt.xlabel('prix du billet')  \n",
    "plt.ylabel('nombre de passagers')\n",
    "plt.show()\n",
    "\n",
    "binBoundaries = np.linspace(0,100,11)\n",
    "dfClean.AgeFill.hist(bins=binBoundaries,color=\"lightgrey\") \n",
    "plt.axvline(dfClean.AgeFill.mean(), color='red', linestyle='dashed', linewidth=2,label=\"Moyenne\")\n",
    "plt.axvline(dfClean.AgeFill.median(), color='green', linestyle='solid', linewidth=2,label=\"Mediane\")\n",
    "plt.axis([0, 100, 0, 400])  \n",
    "plt.title('Distribution de l age des passagers')  \n",
    "plt.xlabel('Age')  \n",
    "plt.ylabel('nombre de passagers')\n",
    "plt.legend()\n",
    "plt.show()\n",
    "\n",
    "\n"
   ]
  },
  {
   "cell_type": "markdown",
   "metadata": {},
   "source": [
    "Les histogrammes nous montrent globalement ce qui était préssenti par la table de statistiques pour les variables SibSp et Parch:\n",
    "* Une majorité des passagers ne voyagaient pas en famille mais plutot individuellement.\n",
    "* La distribution du prix du billet est étonnante, le mode (la classe la plus représentée) est représenté par les passagers qui n'ont pas payé leur ticket. Il y a ensuite un écart considérable entre la plupart des valeurs élevées situées entre 200 et 300 puis la valeur maximale à 512.\n",
    "* La distribution de l'age est quasiment symétrique (moyenne et médiane sont proches) avec un léger décalage vers les personnes plus agées. Les enfants n'étaient donc pas surreprésentés dans la population des passagers.\n"
   ]
  },
  {
   "cell_type": "code",
   "execution_count": 205,
   "metadata": {
    "collapsed": false
   },
   "outputs": [
    {
     "data": {
      "text/html": [
       "<div>\n",
       "<table border=\"1\" class=\"dataframe\">\n",
       "  <thead>\n",
       "    <tr style=\"text-align: right;\">\n",
       "      <th></th>\n",
       "      <th>PassengerId</th>\n",
       "      <th>Survived</th>\n",
       "      <th>Pclass</th>\n",
       "      <th>Name</th>\n",
       "      <th>SibSp</th>\n",
       "      <th>Parch</th>\n",
       "      <th>Fare</th>\n",
       "      <th>Cabin</th>\n",
       "      <th>Embarked</th>\n",
       "      <th>Gender</th>\n",
       "      <th>AgeFill</th>\n",
       "    </tr>\n",
       "  </thead>\n",
       "  <tbody>\n",
       "    <tr>\n",
       "      <th>630</th>\n",
       "      <td>631</td>\n",
       "      <td>1</td>\n",
       "      <td>1</td>\n",
       "      <td>Barkworth, Mr. Algernon Henry Wilson</td>\n",
       "      <td>0</td>\n",
       "      <td>0</td>\n",
       "      <td>30.0</td>\n",
       "      <td>A23</td>\n",
       "      <td>S</td>\n",
       "      <td>1</td>\n",
       "      <td>80.0</td>\n",
       "    </tr>\n",
       "  </tbody>\n",
       "</table>\n",
       "</div>"
      ],
      "text/plain": [
       "     PassengerId  Survived  Pclass                                  Name  \\\n",
       "630          631         1       1  Barkworth, Mr. Algernon Henry Wilson   \n",
       "\n",
       "     SibSp  Parch  Fare Cabin Embarked  Gender  AgeFill  \n",
       "630      0      0  30.0   A23        S       1     80.0  "
      ]
     },
     "execution_count": 205,
     "metadata": {},
     "output_type": "execute_result"
    }
   ],
   "source": [
    "# Retrouvons notre doyen:\n",
    "dfClean[dfClean.AgeFill == max(dfClean.AgeFill)]\n",
    "\n"
   ]
  },
  {
   "cell_type": "code",
   "execution_count": 206,
   "metadata": {
    "collapsed": false
   },
   "outputs": [
    {
     "data": {
      "text/html": [
       "<div>\n",
       "<table border=\"1\" class=\"dataframe\">\n",
       "  <thead>\n",
       "    <tr style=\"text-align: right;\">\n",
       "      <th></th>\n",
       "      <th>PassengerId</th>\n",
       "      <th>Survived</th>\n",
       "      <th>Pclass</th>\n",
       "      <th>Name</th>\n",
       "      <th>SibSp</th>\n",
       "      <th>Parch</th>\n",
       "      <th>Fare</th>\n",
       "      <th>Cabin</th>\n",
       "      <th>Embarked</th>\n",
       "      <th>Gender</th>\n",
       "      <th>AgeFill</th>\n",
       "    </tr>\n",
       "  </thead>\n",
       "  <tbody>\n",
       "    <tr>\n",
       "      <th>258</th>\n",
       "      <td>259</td>\n",
       "      <td>1</td>\n",
       "      <td>1</td>\n",
       "      <td>Ward, Miss. Anna</td>\n",
       "      <td>0</td>\n",
       "      <td>0</td>\n",
       "      <td>512.3292</td>\n",
       "      <td>NaN</td>\n",
       "      <td>C</td>\n",
       "      <td>0</td>\n",
       "      <td>35.0</td>\n",
       "    </tr>\n",
       "    <tr>\n",
       "      <th>679</th>\n",
       "      <td>680</td>\n",
       "      <td>1</td>\n",
       "      <td>1</td>\n",
       "      <td>Cardeza, Mr. Thomas Drake Martinez</td>\n",
       "      <td>0</td>\n",
       "      <td>1</td>\n",
       "      <td>512.3292</td>\n",
       "      <td>B51 B53 B55</td>\n",
       "      <td>C</td>\n",
       "      <td>1</td>\n",
       "      <td>36.0</td>\n",
       "    </tr>\n",
       "    <tr>\n",
       "      <th>737</th>\n",
       "      <td>738</td>\n",
       "      <td>1</td>\n",
       "      <td>1</td>\n",
       "      <td>Lesurer, Mr. Gustave J</td>\n",
       "      <td>0</td>\n",
       "      <td>0</td>\n",
       "      <td>512.3292</td>\n",
       "      <td>B101</td>\n",
       "      <td>C</td>\n",
       "      <td>1</td>\n",
       "      <td>35.0</td>\n",
       "    </tr>\n",
       "  </tbody>\n",
       "</table>\n",
       "</div>"
      ],
      "text/plain": [
       "     PassengerId  Survived  Pclass                                Name  SibSp  \\\n",
       "258          259         1       1                    Ward, Miss. Anna      0   \n",
       "679          680         1       1  Cardeza, Mr. Thomas Drake Martinez      0   \n",
       "737          738         1       1              Lesurer, Mr. Gustave J      0   \n",
       "\n",
       "     Parch      Fare        Cabin Embarked  Gender  AgeFill  \n",
       "258      0  512.3292          NaN        C       0     35.0  \n",
       "679      1  512.3292  B51 B53 B55        C       1     36.0  \n",
       "737      0  512.3292         B101        C       1     35.0  "
      ]
     },
     "execution_count": 206,
     "metadata": {},
     "output_type": "execute_result"
    }
   ],
   "source": [
    "# et notre mystérieux passager au prix du billet exhorbitant\n",
    "dfClean[dfClean.Fare == max(dfClean.Fare)]"
   ]
  },
  {
   "cell_type": "markdown",
   "metadata": {},
   "source": [
    "Il y aurait en fait plusieurs personnes qui ont payé un billet aussi cher!\n",
    "\n",
    "Il est premièrement notable que ces passagers ne partagent pas à première vue de liens de parenté. Ils sont néanmoins tous en première classe (ce qui semble raisonnable pour payer aussi cher).\n",
    "\n",
    "On remarque également que Miss Anna Ward n'a pas de cabine enregistrée alors que Mr Thomas Drake Martinez occupe apparement trois cabines!\n",
    "\n",
    "En une recherche rapide sur le net on trouve ce site: \n",
    "https://www.encyclopedia-titanica.org/cabins.html\n",
    "\n",
    "On peut y voir des informations supplémentaires très intéressantes concernant nos passagers d'exception:\n",
    "\n",
    "B-51-53-55 \tCardeza, Mrs James Warburton Martinez  \n",
    "Ward, Miss Anna [maid to Mrs Cardeza] \tSee also B-101\n",
    "Cardeza, Mr Thomas Drake Martinez\n",
    "\n",
    "B-101 (?) \tLesurer, Mr Gustave [manservant to Mr Cardeza]\n",
    "Ward, Miss Anna [maid to Mrs Cardeza] \tCave List / Speculation \t\n",
    "\n",
    "Anna Ward may have occupied B-101, if so then she would have berthed with Gustave Lesneur, a possibility but it is perhaps more likely that she would have occupied the same cabin as Mrs Cardeza (q.v.).\n",
    "\n",
    "Et en cherchant sous wikipedia pour Cardeza, Mrs James Warburton Martinez :\n",
    "https://fr.wikipedia.org/wiki/Charlotte_Drake_Cardeza\n",
    "Le 10 avril 1912, Charlotte Drake Cardeza embarque sur le Titanic avec son fils, sa femme de chambre et son valet. Ils occupent l'une des deux suites « des millionnaires » sur le pont B. Ces suites sont pourvues de deux chambres, un salon, une salle de bain, un dressing room et une promenade privée de quinze mètres, et sont les plus luxueuses et les plus chères à bord. \n",
    "\n",
    "\n",
    "Miss Ward et Mr Lesurer sont donc des serviteurs employés par Mrs Martinez et son fils alors que l'on ne trouve pas de Mrs Martinez lorsque l'on recherche un prix de billet de £512. Nous verrons si nous arriverons a retrouver Mrs Martinez par la colonne 'Name'.\n",
    "\n",
    "S'agissant d'une grande fortune de cette époque, il est possible que la location de deux suites sur le titatic engendre de telles dépenses. On ne peut donc pas conclure à des valeurs abérrantes."
   ]
  },
  {
   "cell_type": "code",
   "execution_count": 207,
   "metadata": {
    "collapsed": false
   },
   "outputs": [
    {
     "name": "stdout",
     "output_type": "stream",
     "text": [
      "Cumings, Mrs. John Bradley (Florence Briggs Thayer)\n",
      "Chibnall, Mrs. (Edith Martha Bowerman)\n",
      "Cherry, Miss. Gladys\n",
      "Carter, Miss. Lucile Polk\n",
      "Crosby, Miss. Harriet R\n",
      "Cleaver, Miss. Alice\n",
      "Carter, Mrs. William Ernest (Lucile Polk)\n",
      "Chambers, Mrs. Norman Campbell (Bertha Griggs)\n",
      "Compton, Miss. Sara Rebecca\n"
     ]
    }
   ],
   "source": [
    "# Retrouvons Mrs Cardeza, Mrs James Warburton Martinez\n",
    "for i,k in enumerate(dfClean.PassengerId):\n",
    "    if (dfClean.Name[i][0] == 'C') & (dfClean.Pclass[i] == 1) & (dfClean.Gender[i] == 0):\n",
    "        print dfClean.Name[i]\n",
    "        "
   ]
  },
  {
   "cell_type": "markdown",
   "metadata": {},
   "source": [
    "Nous n'avons retrouvé aucune Cardeza, Mrs James Warburton Martinez en faisant une recherche sur la 1ère lettre du nom apparaissant dans le registre pour la 1ère classe et portant sur les femmes.\n",
    "\n",
    "En cherchant les passageres commencant par 'M' pour Martinez ou 'D' pour Drake son nom de jeune fille, ou en selectionnant les hommes, on obtient le meme resultat.\n",
    "\n",
    "Il s'agit donc surement d'un problème de registre de bord qui ne rends apparemment pas compte de la présence de cette personne à bord du Titanic. "
   ]
  },
  {
   "cell_type": "markdown",
   "metadata": {},
   "source": [
    "4ieme Etape: L'analyse de données\n",
    "    \n",
    "Nous avons maintenant un dataset que nous assumons être suffisamment nettoyé pour pouvoir commencer une analyse statistique."
   ]
  },
  {
   "cell_type": "markdown",
   "metadata": {},
   "source": [
    "Nous allons maintenant explorer la possibilité de créer un modèle linéaire entre deux variables. Rien ne nous empeche de revenir plus tard sur le nettoyage des données si nous observons graphiquement des valeurs qui nous semblent abérrantes.\n",
    "\n",
    "Intuitivement, nous faisons l'hypothèse que l'age et le prix du ticket vont etre liés. Nous pensons que de jeunes passagers seront plus désargentés que de vieux passagers et donc le prix du billet augmentera lorsque les passagers seront agés.\n",
    "\n",
    "Pour tester cette hypothèse, nous allons construire un modèle de regression linéaire, il ya plusieurs façons de le faire:\n",
    "\n",
    "* en utilsant la librairie numpy\n",
    "* en utilisant la librairie scipy\n",
    "* en utilisant la librairie sklearn\n"
   ]
  },
  {
   "cell_type": "code",
   "execution_count": 208,
   "metadata": {
    "collapsed": false
   },
   "outputs": [
    {
     "data": {
      "image/png": "[encoded data removed]",
      "text/plain": [
       "<matplotlib.figure.Figure at 0x10a34c18>"
      ]
     },
     "metadata": {},
     "output_type": "display_data"
    }
   ],
   "source": [
    "# Par l'utilisation de numpy:\n",
    "\n",
    "# On determine les variables x (age des passagers) et y (cout du billet)\n",
    "x = dfTrain[\"AgeFill\"]\n",
    "y = dfTrain[\"Fare\"]\n",
    "\n",
    "# On utilise la fonction polyfit pour ajuster le modèle linéaire aux données\n",
    "fit = np.polyfit(x,y,1)\n",
    "\n",
    "# On établit la prédiction des y en fonction des valeurs de x par le modèle linéaire\n",
    "fit_fn = np.poly1d(fit) \n",
    "\n",
    "# On importe la librairie matplotlib pour pouvoir observer graphiquement la relation linéaire\n",
    "import matplotlib.pyplot as plt\n",
    "\n",
    "# On utilise la fonction plot pour ouvrir une instance graphique avec pour paramètres x, y et fit_fn(x) : les prédictions de y \n",
    "plt.plot(x,y, 'yo', x, fit_fn(x), '--k')\n",
    "# On affiche le graphique\n",
    "plt.show()\n",
    "\n"
   ]
  },
  {
   "cell_type": "code",
   "execution_count": 209,
   "metadata": {
    "collapsed": false
   },
   "outputs": [
    {
     "name": "stdout",
     "output_type": "stream",
     "text": [
      "r-squared: 0.0150534439274\n"
     ]
    },
    {
     "data": {
      "image/png": "[encoded data removed]",
      "text/plain": [
       "<matplotlib.figure.Figure at 0x1046f588>"
      ]
     },
     "metadata": {},
     "output_type": "display_data"
    }
   ],
   "source": [
    "# Par l'utilisation de la librairie scipy\n",
    "\n",
    "from scipy import stats\n",
    "import numpy as np\n",
    "\n",
    "x = dfTrain[\"AgeFill\"]\n",
    "y = dfTrain[\"Fare\"]\n",
    "\n",
    "# On utilise la fonction linregress qui retourne 5 valeurs:\n",
    "# slope\n",
    "# intercept\n",
    "# r_value\n",
    "# p_value\n",
    "# std_err\n",
    "\n",
    "slope, intercept, r_value, p_value, std_err = stats.linregress(x,y)\n",
    "\n",
    "# On affiche le r carré qui évalue la force de la relation linéaire\n",
    "print \"r-squared:\", r_value**2\n",
    "\n",
    "# On calcule les prédictions de y par l'équation d'une relation linéaire\n",
    "yFitted = slope*x + intercept \n",
    "    \n",
    "# On dessine un nuage de points ayant pour coordonnées x et y \n",
    "plt.scatter(x, y,  color='black')\n",
    "# On dessine la droite de regression formée par les coordonnées de x et les prédictions de y\n",
    "plt.plot(x, yFitted, color='blue', linewidth=3)\n",
    "# on affiche le graphique\n",
    "plt.show()"
   ]
  },
  {
   "cell_type": "code",
   "execution_count": 210,
   "metadata": {
    "collapsed": false
   },
   "outputs": [
    {
     "data": {
      "image/png": "[encoded data removed]",
      "text/plain": [
       "<matplotlib.figure.Figure at 0xf1d2eb8>"
      ]
     },
     "metadata": {},
     "output_type": "display_data"
    }
   ],
   "source": [
    "# Par l'utilisation de la librairie sklearn\n",
    "\n",
    "from sklearn import datasets, linear_model\n",
    "\n",
    "x = dfTrain[\"AgeFill\"]\n",
    "y = dfTrain[\"Fare\"]\n",
    "\n",
    "# On initialise un objet contenant le modèle linéaire\n",
    "regr = linear_model.LinearRegression()\n",
    "\n",
    "# On ajuste le modèle sur le dataset\n",
    "regr.fit(x[:,np.newaxis], y)\n",
    "\n",
    "# On créé un objet x_test qui représente les valeurs de x dans un espace linéaire\n",
    "x_test = np.linspace(np.min(x), np.max(x), 100)\n",
    "\n",
    "# Visualisation de la relation linéaire:\n",
    "\n",
    "plt.scatter(x,y)\n",
    "plt.plot(x_test, regr.predict(x_test[:,np.newaxis]), color='red', linewidth=3)\n",
    "plt.show()\n",
    "\n"
   ]
  },
  {
   "cell_type": "markdown",
   "metadata": {
    "collapsed": true
   },
   "source": [
    "On voit par les graphiques et par la valeur de r² que ces regressions linéaires sont peu appropriées pour décrire la relation entre l'age et le prix du ticket pour l'ensemble des passagers.\n",
    "\n",
    "Voyons ce qui se passe si nous ne prenons comme échantillon que les femmes de plus de 18 ans en 3ième classe et accompagnées par au moins deux parents (ou enfants):"
   ]
  },
  {
   "cell_type": "code",
   "execution_count": 211,
   "metadata": {
    "collapsed": false
   },
   "outputs": [],
   "source": [
    "# cette cellule permet de tester plusieurs échantillons d'intérêt avant de garder celui (ou ceux) \n",
    "# qui nous semble le plus approprié pour tester une regression linéaire \n",
    "\n",
    "dfForLinearRegr = dfClean[ (dfClean['Gender'] == 0) \n",
    "                      & (dfClean['AgeFill'] > 18.0) \n",
    "                      & (dfClean['Pclass'] == 3.0) \n",
    "                      #& (dfTrain['Embarked'] == \"S\") # cette condition n'est pas présentement testée\n",
    "                      & (dfClean['Parch'] > 2)\n",
    "                      & (dfClean['SibSp'] > -1)\n",
    "                \n",
    "                     ]\n"
   ]
  },
  {
   "cell_type": "code",
   "execution_count": 212,
   "metadata": {
    "collapsed": false
   },
   "outputs": [
    {
     "name": "stdout",
     "output_type": "stream",
     "text": [
      "r-squared: 0.501905176825\n"
     ]
    },
    {
     "data": {
      "image/png": "[encoded data removed]",
      "text/plain": [
       "<matplotlib.figure.Figure at 0xf1e7518>"
      ]
     },
     "metadata": {},
     "output_type": "display_data"
    }
   ],
   "source": [
    "# Testons à nouveau le modèle linéaire sur cette échantillon: \n",
    "\n",
    "x = dfForLinearRegr[\"AgeFill\"]\n",
    "y = dfForLinearRegr[\"Fare\"]\n",
    "\n",
    "slope, intercept, r_value, p_value, std_err = stats.linregress(x,y)\n",
    "\n",
    "print \"r-squared:\", r_value**2\n",
    "\n",
    "yFitted = slope*x + intercept \n",
    "    \n",
    "# Visualisation des données\n",
    "plt.scatter(x, y,  color='black')\n",
    "plt.plot(x, yFitted, color='blue', linewidth=3)\n",
    "plt.title('Relation entre l age et le prix du billet')  \n",
    "plt.xlabel('Age')  \n",
    "plt.ylabel('Prix du billet')\n",
    "plt.show()"
   ]
  },
  {
   "cell_type": "markdown",
   "metadata": {},
   "source": [
    "Nous commencons ici à dégager une relation interprétable:\n",
    "\n",
    "Une femme plus jeune avait tendance à payer moins cher son billet qu'une femme plus agée lorsqu'elle voyageait en 3ième classe et qu'elle était accompagnée par deux parents ou enfants.\n",
    "\n",
    "Néanmoins cette relation a été construite sur 9 points de données, ce qui est peu pour en tirer une conclusion."
   ]
  },
  {
   "cell_type": "markdown",
   "metadata": {
    "collapsed": true
   },
   "source": [
    "Nous pouvons maintenant essayer un modèle de regression logistique qui va nous permettre d'observer les relations qui existe avec les variables catégorielles comme par exemple la survie des passagers.\n",
    "\n",
    "On va donc pouvoir commencer a s'interroger sur les causes de la survie de certains passagers et du décès des autres.    "
   ]
  },
  {
   "cell_type": "code",
   "execution_count": 213,
   "metadata": {
    "collapsed": false
   },
   "outputs": [],
   "source": [
    "from sklearn.cross_validation import train_test_split, cross_val_score\n",
    "\n",
    "# On créé les variables qui vont servir à entrainer le modèle\n",
    "X_train = dfClean['Pclass'].reshape(-1, 1)\n",
    "y_train = dfClean['Survived'].reshape(-1, 1)\n",
    "y_train = np.ravel(y_train)\n",
    "\n",
    "# Importation du second fichier test.csv pour tester notre modèle logistique\n",
    "dfTest = pd.read_csv('test.csv', header=0)\n",
    "X_test = dfTest['Pclass'].reshape(-1, 1)"
   ]
  },
  {
   "cell_type": "code",
   "execution_count": 214,
   "metadata": {
    "collapsed": false
   },
   "outputs": [],
   "source": [
    "from sklearn.linear_model.logistic import LogisticRegression\n",
    "\n",
    "# On entraine le modele sur le dataset train\n",
    "classifier = LogisticRegression()\n",
    "classifier.fit(X_train, y_train)\n",
    "# et on prédit la survie dans test\n",
    "predictions = classifier.predict(X_test)"
   ]
  },
  {
   "cell_type": "code",
   "execution_count": 215,
   "metadata": {
    "collapsed": false
   },
   "outputs": [
    {
     "data": {
      "text/html": [
       "<div>\n",
       "<table border=\"1\" class=\"dataframe\">\n",
       "  <thead>\n",
       "    <tr style=\"text-align: right;\">\n",
       "      <th></th>\n",
       "      <th>PClass</th>\n",
       "      <th>Predict</th>\n",
       "    </tr>\n",
       "  </thead>\n",
       "  <tbody>\n",
       "    <tr>\n",
       "      <th>11</th>\n",
       "      <td>1</td>\n",
       "      <td>1</td>\n",
       "    </tr>\n",
       "    <tr>\n",
       "      <th>12</th>\n",
       "      <td>1</td>\n",
       "      <td>1</td>\n",
       "    </tr>\n",
       "    <tr>\n",
       "      <th>14</th>\n",
       "      <td>1</td>\n",
       "      <td>1</td>\n",
       "    </tr>\n",
       "    <tr>\n",
       "      <th>20</th>\n",
       "      <td>1</td>\n",
       "      <td>1</td>\n",
       "    </tr>\n",
       "    <tr>\n",
       "      <th>22</th>\n",
       "      <td>1</td>\n",
       "      <td>1</td>\n",
       "    </tr>\n",
       "  </tbody>\n",
       "</table>\n",
       "</div>"
      ],
      "text/plain": [
       "    PClass  Predict\n",
       "11       1        1\n",
       "12       1        1\n",
       "14       1        1\n",
       "20       1        1\n",
       "22       1        1"
      ]
     },
     "execution_count": 215,
     "metadata": {},
     "output_type": "execute_result"
    }
   ],
   "source": [
    "\n",
    "# Création d'une liste PclassList qui contiendra les valeurs de Pclass\n",
    "PclassList = []\n",
    "for i,x in enumerate(X_test):\n",
    "    PclassList.append(X_test[i,0])\n",
    "\n",
    "# Création d'une liste PredictList qui contiendra les prédictions\n",
    "PredictList = []\n",
    "for i,pred in enumerate(predictions):\n",
    "    PredictList.append(predictions[i])\n",
    "    \n",
    "    \n",
    "#On créé un dictionnaire 'preDict' qui servir à nourrir un dataframe en Pandas qui sera plus facile à manipuler      \n",
    "        \n",
    "preDict = {'PClass' : pd.Series(PclassList)\n",
    "     ,'Predict' : pd.Series(PredictList)}\n",
    "    \n",
    "# On créé le dataframe \n",
    "dfPredict = pd.DataFrame(preDict)   \n",
    "\n",
    "dfPredict[dfPredict.Predict == 1].head()"
   ]
  },
  {
   "cell_type": "markdown",
   "metadata": {
    "collapsed": false
   },
   "source": [
    "En modélisant la survie des passagers uniquement avec la colonne 'Pclass', seuls les passagers en 1ère classe survivent d'après ce modèle. La capacité d'adaptation de ce modèle est donc assez faible puisque ce résultat est éloigné de la réalité:"
   ]
  },
  {
   "cell_type": "code",
   "execution_count": 216,
   "metadata": {
    "collapsed": false
   },
   "outputs": [
    {
     "data": {
      "text/html": [
       "<div>\n",
       "<table border=\"1\" class=\"dataframe\">\n",
       "  <thead>\n",
       "    <tr style=\"text-align: right;\">\n",
       "      <th></th>\n",
       "      <th>Survived</th>\n",
       "      <th>Pclass</th>\n",
       "    </tr>\n",
       "  </thead>\n",
       "  <tbody>\n",
       "    <tr>\n",
       "      <th>0</th>\n",
       "      <td>0</td>\n",
       "      <td>3</td>\n",
       "    </tr>\n",
       "    <tr>\n",
       "      <th>1</th>\n",
       "      <td>1</td>\n",
       "      <td>1</td>\n",
       "    </tr>\n",
       "    <tr>\n",
       "      <th>2</th>\n",
       "      <td>1</td>\n",
       "      <td>3</td>\n",
       "    </tr>\n",
       "    <tr>\n",
       "      <th>3</th>\n",
       "      <td>1</td>\n",
       "      <td>1</td>\n",
       "    </tr>\n",
       "    <tr>\n",
       "      <th>4</th>\n",
       "      <td>0</td>\n",
       "      <td>3</td>\n",
       "    </tr>\n",
       "    <tr>\n",
       "      <th>5</th>\n",
       "      <td>0</td>\n",
       "      <td>3</td>\n",
       "    </tr>\n",
       "    <tr>\n",
       "      <th>6</th>\n",
       "      <td>0</td>\n",
       "      <td>1</td>\n",
       "    </tr>\n",
       "    <tr>\n",
       "      <th>7</th>\n",
       "      <td>0</td>\n",
       "      <td>3</td>\n",
       "    </tr>\n",
       "    <tr>\n",
       "      <th>8</th>\n",
       "      <td>1</td>\n",
       "      <td>3</td>\n",
       "    </tr>\n",
       "    <tr>\n",
       "      <th>9</th>\n",
       "      <td>1</td>\n",
       "      <td>2</td>\n",
       "    </tr>\n",
       "  </tbody>\n",
       "</table>\n",
       "</div>"
      ],
      "text/plain": [
       "   Survived  Pclass\n",
       "0         0       3\n",
       "1         1       1\n",
       "2         1       3\n",
       "3         1       1\n",
       "4         0       3\n",
       "5         0       3\n",
       "6         0       1\n",
       "7         0       3\n",
       "8         1       3\n",
       "9         1       2"
      ]
     },
     "execution_count": 216,
     "metadata": {},
     "output_type": "execute_result"
    }
   ],
   "source": [
    "dfTrain[['Survived','Pclass']].head(10)"
   ]
  },
  {
   "cell_type": "markdown",
   "metadata": {},
   "source": [
    "On voit ici que des passagers en 2ième et 3ième classe ont survécu, de ce fait ce modèle ne prédit pas bien la survie des passagers. Pour améliorer ce modèle nous pouvons y inclure plus de variables catégorielles de manière à affiner le résultat prédictif."
   ]
  },
  {
   "cell_type": "markdown",
   "metadata": {
    "collapsed": true
   },
   "source": [
    "Nous allons maintenant convertir les colonnes 'Fare' et 'Age' de manière à avoir des variables catégorielles qui pourront etre intégrées dans une regression logistique multiple, les catégories seront déterminées par les valeurs interquartiles que nous avons vu dans .describe() de manière à obtenir des échantillons de taille équivalente dans chaque catégorie:\n",
    "\n",
    "* Pour la colonne 'Fare', on peut créer une nouvelle colonne qui prendra pour valeur 0 pour les billets de £0 à £8, 1 pour les billets de £8 à £15, 2 de £15 à £31 et 3 plus les billets à plus de £31.\n",
    "* Pour la colonne 'Age', on va créer une nouvelle variable qui aura plusieurs catégories selon des tranche d'age, 0: 0 à 21 ans, 1: 21 à 26 ans, 2: 26 à 36 ans, 3: 36 à 80 ans"
   ]
  },
  {
   "cell_type": "code",
   "execution_count": 217,
   "metadata": {
    "collapsed": false
   },
   "outputs": [
    {
     "name": "stdout",
     "output_type": "stream",
     "text": [
      "       PassengerId    Survived      Pclass       SibSp       Parch  \\\n",
      "count   891.000000  891.000000  891.000000  891.000000  891.000000   \n",
      "mean    446.000000    0.383838    2.308642    0.523008    0.381594   \n",
      "std     257.353842    0.486592    0.836071    1.102743    0.806057   \n",
      "min       1.000000    0.000000    1.000000    0.000000    0.000000   \n",
      "25%     223.500000    0.000000    2.000000    0.000000    0.000000   \n",
      "50%     446.000000    0.000000    3.000000    0.000000    0.000000   \n",
      "75%     668.500000    1.000000    3.000000    1.000000    0.000000   \n",
      "max     891.000000    1.000000    3.000000    8.000000    6.000000   \n",
      "\n",
      "             Fare      Gender     AgeFill     FareCat      AgeCat  \n",
      "count  891.000000  891.000000  891.000000  891.000000  891.000000  \n",
      "mean    32.204208    0.647587   29.112424    1.464646    1.502806  \n",
      "std     49.693429    0.477989   13.304424    1.135552    1.092746  \n",
      "min      0.000000    0.000000    0.420000    0.000000    0.000000  \n",
      "25%      7.910400    0.000000   21.500000    0.000000    1.000000  \n",
      "50%     14.454200    1.000000   26.000000    1.000000    1.000000  \n",
      "75%     31.000000    1.000000   36.000000    2.000000    2.000000  \n",
      "max    512.329200    1.000000   80.000000    3.000000    3.000000  \n"
     ]
    }
   ],
   "source": [
    "# création des copies\n",
    "dfClean['FareCat'] = dfClean['Fare']\n",
    "dfClean['AgeCat'] = dfClean['AgeFill']\n",
    "\n",
    "# Transformation des valeurs en catégories\n",
    "dfClean.loc[dfClean['Fare'] <= 8, 'FareCat'] = 0\n",
    "dfClean.loc[(dfClean['Fare'] > 8) & (dfClean['Fare'] <= 15) , 'FareCat'] = 1\n",
    "dfClean.loc[(dfClean['Fare'] > 15) & (dfClean['Fare'] <= 31) , 'FareCat'] = 2\n",
    "dfClean.loc[(dfClean['Fare'] > 31), 'FareCat'] = 3\n",
    "\n",
    "dfClean.loc[dfClean['AgeFill'] <= 21, 'AgeCat'] = 0\n",
    "dfClean.loc[(dfClean['AgeFill'] > 21) & (dfClean['AgeFill'] <= 26) , 'AgeCat'] = 1\n",
    "dfClean.loc[(dfClean['AgeFill'] > 26) & (dfClean['AgeFill'] <= 36) , 'AgeCat'] = 2\n",
    "dfClean.loc[(dfClean['AgeFill'] > 36), 'AgeCat'] = 3\n",
    "\n",
    "# Tableau récapitulatif des variables dans dfClean\n",
    "print dfClean.describe()\n"
   ]
  },
  {
   "cell_type": "markdown",
   "metadata": {},
   "source": [
    "Pour pouvoir utiliser le fichier test.csv comme un dataset qui pourra prédire la survivabilité des passagers selon les autres variables, il va falloir appliquer les memes modifications qu'à train.csv."
   ]
  },
  {
   "cell_type": "code",
   "execution_count": 218,
   "metadata": {
    "collapsed": false
   },
   "outputs": [
    {
     "data": {
      "text/html": [
       "<div>\n",
       "<table border=\"1\" class=\"dataframe\">\n",
       "  <thead>\n",
       "    <tr style=\"text-align: right;\">\n",
       "      <th></th>\n",
       "      <th>PassengerId</th>\n",
       "      <th>Pclass</th>\n",
       "      <th>Age</th>\n",
       "      <th>SibSp</th>\n",
       "      <th>Parch</th>\n",
       "      <th>Fare</th>\n",
       "    </tr>\n",
       "  </thead>\n",
       "  <tbody>\n",
       "    <tr>\n",
       "      <th>count</th>\n",
       "      <td>418.000000</td>\n",
       "      <td>418.000000</td>\n",
       "      <td>332.000000</td>\n",
       "      <td>418.000000</td>\n",
       "      <td>418.000000</td>\n",
       "      <td>417.000000</td>\n",
       "    </tr>\n",
       "    <tr>\n",
       "      <th>mean</th>\n",
       "      <td>1100.500000</td>\n",
       "      <td>2.265550</td>\n",
       "      <td>30.272590</td>\n",
       "      <td>0.447368</td>\n",
       "      <td>0.392344</td>\n",
       "      <td>35.627188</td>\n",
       "    </tr>\n",
       "    <tr>\n",
       "      <th>std</th>\n",
       "      <td>120.810458</td>\n",
       "      <td>0.841838</td>\n",
       "      <td>14.181209</td>\n",
       "      <td>0.896760</td>\n",
       "      <td>0.981429</td>\n",
       "      <td>55.907576</td>\n",
       "    </tr>\n",
       "    <tr>\n",
       "      <th>min</th>\n",
       "      <td>892.000000</td>\n",
       "      <td>1.000000</td>\n",
       "      <td>0.170000</td>\n",
       "      <td>0.000000</td>\n",
       "      <td>0.000000</td>\n",
       "      <td>0.000000</td>\n",
       "    </tr>\n",
       "    <tr>\n",
       "      <th>25%</th>\n",
       "      <td>996.250000</td>\n",
       "      <td>1.000000</td>\n",
       "      <td>NaN</td>\n",
       "      <td>0.000000</td>\n",
       "      <td>0.000000</td>\n",
       "      <td>NaN</td>\n",
       "    </tr>\n",
       "    <tr>\n",
       "      <th>50%</th>\n",
       "      <td>1100.500000</td>\n",
       "      <td>3.000000</td>\n",
       "      <td>NaN</td>\n",
       "      <td>0.000000</td>\n",
       "      <td>0.000000</td>\n",
       "      <td>NaN</td>\n",
       "    </tr>\n",
       "    <tr>\n",
       "      <th>75%</th>\n",
       "      <td>1204.750000</td>\n",
       "      <td>3.000000</td>\n",
       "      <td>NaN</td>\n",
       "      <td>1.000000</td>\n",
       "      <td>0.000000</td>\n",
       "      <td>NaN</td>\n",
       "    </tr>\n",
       "    <tr>\n",
       "      <th>max</th>\n",
       "      <td>1309.000000</td>\n",
       "      <td>3.000000</td>\n",
       "      <td>76.000000</td>\n",
       "      <td>8.000000</td>\n",
       "      <td>9.000000</td>\n",
       "      <td>512.329200</td>\n",
       "    </tr>\n",
       "  </tbody>\n",
       "</table>\n",
       "</div>"
      ],
      "text/plain": [
       "       PassengerId      Pclass         Age       SibSp       Parch        Fare\n",
       "count   418.000000  418.000000  332.000000  418.000000  418.000000  417.000000\n",
       "mean   1100.500000    2.265550   30.272590    0.447368    0.392344   35.627188\n",
       "std     120.810458    0.841838   14.181209    0.896760    0.981429   55.907576\n",
       "min     892.000000    1.000000    0.170000    0.000000    0.000000    0.000000\n",
       "25%     996.250000    1.000000         NaN    0.000000    0.000000         NaN\n",
       "50%    1100.500000    3.000000         NaN    0.000000    0.000000         NaN\n",
       "75%    1204.750000    3.000000         NaN    1.000000    0.000000         NaN\n",
       "max    1309.000000    3.000000   76.000000    8.000000    9.000000  512.329200"
      ]
     },
     "execution_count": 218,
     "metadata": {},
     "output_type": "execute_result"
    }
   ],
   "source": [
    "dfTest.describe()"
   ]
  },
  {
   "cell_type": "markdown",
   "metadata": {},
   "source": [
    "On voit qu'en plus des NaN à remplir dans la colonne Age, il va falloir nettoyer la colonne Fare selon un raisonnement semblable. C'est à dire prendre des medianes selon la colonne Pclass et le sexe."
   ]
  },
  {
   "cell_type": "code",
   "execution_count": 219,
   "metadata": {
    "collapsed": false
   },
   "outputs": [
    {
     "data": {
      "text/html": [
       "<div>\n",
       "<table border=\"1\" class=\"dataframe\">\n",
       "  <thead>\n",
       "    <tr style=\"text-align: right;\">\n",
       "      <th></th>\n",
       "      <th>PassengerId</th>\n",
       "      <th>Pclass</th>\n",
       "      <th>SibSp</th>\n",
       "      <th>Parch</th>\n",
       "      <th>Gender</th>\n",
       "      <th>AgeFill</th>\n",
       "      <th>FareFill</th>\n",
       "      <th>FareCat</th>\n",
       "      <th>AgeCat</th>\n",
       "    </tr>\n",
       "  </thead>\n",
       "  <tbody>\n",
       "    <tr>\n",
       "      <th>count</th>\n",
       "      <td>418.000000</td>\n",
       "      <td>418.000000</td>\n",
       "      <td>418.000000</td>\n",
       "      <td>418.000000</td>\n",
       "      <td>418.000000</td>\n",
       "      <td>418.000000</td>\n",
       "      <td>418.000000</td>\n",
       "      <td>418.000000</td>\n",
       "      <td>418.000000</td>\n",
       "    </tr>\n",
       "    <tr>\n",
       "      <th>mean</th>\n",
       "      <td>1100.500000</td>\n",
       "      <td>2.265550</td>\n",
       "      <td>0.447368</td>\n",
       "      <td>0.392344</td>\n",
       "      <td>0.636364</td>\n",
       "      <td>29.297847</td>\n",
       "      <td>35.560845</td>\n",
       "      <td>1.454545</td>\n",
       "      <td>1.502392</td>\n",
       "    </tr>\n",
       "    <tr>\n",
       "      <th>std</th>\n",
       "      <td>120.810458</td>\n",
       "      <td>0.841838</td>\n",
       "      <td>0.896760</td>\n",
       "      <td>0.981429</td>\n",
       "      <td>0.481623</td>\n",
       "      <td>13.038856</td>\n",
       "      <td>55.856972</td>\n",
       "      <td>1.158470</td>\n",
       "      <td>1.080121</td>\n",
       "    </tr>\n",
       "    <tr>\n",
       "      <th>min</th>\n",
       "      <td>892.000000</td>\n",
       "      <td>1.000000</td>\n",
       "      <td>0.000000</td>\n",
       "      <td>0.000000</td>\n",
       "      <td>0.000000</td>\n",
       "      <td>0.170000</td>\n",
       "      <td>0.000000</td>\n",
       "      <td>0.000000</td>\n",
       "      <td>0.000000</td>\n",
       "    </tr>\n",
       "    <tr>\n",
       "      <th>25%</th>\n",
       "      <td>996.250000</td>\n",
       "      <td>1.000000</td>\n",
       "      <td>0.000000</td>\n",
       "      <td>0.000000</td>\n",
       "      <td>0.000000</td>\n",
       "      <td>22.000000</td>\n",
       "      <td>7.895800</td>\n",
       "      <td>0.000000</td>\n",
       "      <td>1.000000</td>\n",
       "    </tr>\n",
       "    <tr>\n",
       "      <th>50%</th>\n",
       "      <td>1100.500000</td>\n",
       "      <td>3.000000</td>\n",
       "      <td>0.000000</td>\n",
       "      <td>0.000000</td>\n",
       "      <td>1.000000</td>\n",
       "      <td>25.000000</td>\n",
       "      <td>14.454200</td>\n",
       "      <td>1.000000</td>\n",
       "      <td>1.000000</td>\n",
       "    </tr>\n",
       "    <tr>\n",
       "      <th>75%</th>\n",
       "      <td>1204.750000</td>\n",
       "      <td>3.000000</td>\n",
       "      <td>1.000000</td>\n",
       "      <td>0.000000</td>\n",
       "      <td>1.000000</td>\n",
       "      <td>36.375000</td>\n",
       "      <td>31.471875</td>\n",
       "      <td>3.000000</td>\n",
       "      <td>2.750000</td>\n",
       "    </tr>\n",
       "    <tr>\n",
       "      <th>max</th>\n",
       "      <td>1309.000000</td>\n",
       "      <td>3.000000</td>\n",
       "      <td>8.000000</td>\n",
       "      <td>9.000000</td>\n",
       "      <td>1.000000</td>\n",
       "      <td>76.000000</td>\n",
       "      <td>512.329200</td>\n",
       "      <td>3.000000</td>\n",
       "      <td>3.000000</td>\n",
       "    </tr>\n",
       "  </tbody>\n",
       "</table>\n",
       "</div>"
      ],
      "text/plain": [
       "       PassengerId      Pclass       SibSp       Parch      Gender  \\\n",
       "count   418.000000  418.000000  418.000000  418.000000  418.000000   \n",
       "mean   1100.500000    2.265550    0.447368    0.392344    0.636364   \n",
       "std     120.810458    0.841838    0.896760    0.981429    0.481623   \n",
       "min     892.000000    1.000000    0.000000    0.000000    0.000000   \n",
       "25%     996.250000    1.000000    0.000000    0.000000    0.000000   \n",
       "50%    1100.500000    3.000000    0.000000    0.000000    1.000000   \n",
       "75%    1204.750000    3.000000    1.000000    0.000000    1.000000   \n",
       "max    1309.000000    3.000000    8.000000    9.000000    1.000000   \n",
       "\n",
       "          AgeFill    FareFill     FareCat      AgeCat  \n",
       "count  418.000000  418.000000  418.000000  418.000000  \n",
       "mean    29.297847   35.560845    1.454545    1.502392  \n",
       "std     13.038856   55.856972    1.158470    1.080121  \n",
       "min      0.170000    0.000000    0.000000    0.000000  \n",
       "25%     22.000000    7.895800    0.000000    1.000000  \n",
       "50%     25.000000   14.454200    1.000000    1.000000  \n",
       "75%     36.375000   31.471875    3.000000    2.750000  \n",
       "max     76.000000  512.329200    3.000000    3.000000  "
      ]
     },
     "execution_count": 219,
     "metadata": {},
     "output_type": "execute_result"
    }
   ],
   "source": [
    "# Ajouter une colonne Gender qui contiendra une variable booléenne plus facile à manupuler :\n",
    "dfTest['Gender'] = \"\"\n",
    "\n",
    "# En binaire :\n",
    "dfTest['Gender'] = dfTest['Sex'].map( {'female': 0, 'male': 1} ).astype(int)\n",
    "\n",
    "# Création d'un objet de deux lignes et 3 colonnes qui contiendra les medianes des ages pour chaque sexe et classe de passagers\n",
    "median_ages = np.zeros((2,3))\n",
    "for i in range(0, 2):\n",
    "    for j in range(0, 3):\n",
    "        median_ages[i,j] = dfTest[(dfTest['Gender'] == i) & \\\n",
    "                              (dfTest['Pclass'] == j+1)]['Age'].dropna().median()\n",
    "\n",
    "# Création d'un objet de deux lignes et 3 colonnes qui contiendra les medianes des Fares pour chaque sexe et classe de passagers\n",
    "median_fares = np.zeros((2,3))\n",
    "for i in range(0, 2):\n",
    "    for j in range(0, 3):\n",
    "        median_fares[i,j] = dfTest[(dfTest['Gender'] == i) & \\\n",
    "                              (dfTest['Pclass'] == j+1)]['Fare'].dropna().median()\n",
    "        \n",
    "# Remplacement des NaN dans la colonne Age\n",
    "# On commence avec une copie :\n",
    "dfTest['AgeFill'] = dfTest['Age']\n",
    "\n",
    "# On construire une boucle for imbriquée qui permet de selectionner les valeurs NaN \n",
    "# en fonction du sexe et de la classe de passagers ainsi que leur attribuer la nouvelle valeur médiane correspondante :\n",
    "for i in range(0, 2):\n",
    "    for j in range(0, 3):\n",
    "        dfTest.loc[ (dfTest.Age.isnull()) & (dfTest.Gender == i) & \n",
    "                (dfTest.Pclass == j+1),\\\n",
    "                'AgeFill'] = median_ages[i,j]\n",
    "        \n",
    "# Remplcament des NaN dans la colonne Fare\n",
    "# On commence avec une copie :\n",
    "dfTest['FareFill'] = dfTest['Fare']\n",
    "\n",
    "# On construire une boucle for imbriquée qui permet de selectionner les valeurs NaN \n",
    "# en fonction du sexe et de la classe de passagers ainsi que leur attribuer la nouvelle valeur médiane correspondante :\n",
    "for i in range(0, 2):\n",
    "    for j in range(0, 3):\n",
    "        dfTest.loc[ (dfTest.Fare.isnull()) & (dfTest.Gender == i) & \n",
    "                (dfTest.Pclass == j+1),\\\n",
    "                'FareFill'] = median_fares[i,j]\n",
    "\n",
    "# La meme chose à faire dans test.csv pour pouvoir l'utiliser en prédictif\n",
    "# création des copies\n",
    "dfTest['FareCat'] = dfTest['FareFill']\n",
    "dfTest['AgeCat'] = dfTest['AgeFill']\n",
    "\n",
    "# Transformation des valeurs en catégories\n",
    "dfTest.loc[dfTest['FareFill'] <= 8, 'FareCat'] = 0\n",
    "dfTest.loc[(dfTest['FareFill'] > 8) & (dfTest['FareFill'] <= 15) , 'FareCat'] = 1\n",
    "dfTest.loc[(dfTest['FareFill'] > 15) & (dfTest['FareFill'] <= 31) , 'FareCat'] = 2\n",
    "dfTest.loc[(dfTest['FareFill'] > 31), 'FareCat'] = 3\n",
    "\n",
    "dfTest.loc[dfTest['AgeFill'] <= 21, 'AgeCat'] = 0\n",
    "dfTest.loc[(dfTest['AgeFill'] > 21) & (dfTest['AgeFill'] <= 26) , 'AgeCat'] = 1\n",
    "dfTest.loc[(dfTest['AgeFill'] > 26) & (dfTest['AgeFill'] <= 36) , 'AgeCat'] = 2\n",
    "dfTest.loc[(dfTest['AgeFill'] > 36), 'AgeCat'] = 3\n",
    "\n",
    "# Nettoyage des colonnes non utilisées\n",
    "dfTestClean = dfTest.drop(['Sex', 'Ticket', 'Age','Fare']\n",
    "                   ,axis=1)\n",
    "\n",
    "dfTestClean.describe()"
   ]
  },
  {
   "cell_type": "markdown",
   "metadata": {},
   "source": [
    "On peut maintenant utiliser ces colonnes pour mettre en place une regression logistique multiple:"
   ]
  },
  {
   "cell_type": "code",
   "execution_count": 220,
   "metadata": {
    "collapsed": false
   },
   "outputs": [],
   "source": [
    "X_train = dfClean[['Pclass', 'Parch', 'SibSp', 'FareCat','Gender','AgeCat']]\n",
    "y_train = dfClean['Survived'].reshape(-1, 1)\n",
    "y_train = np.ravel(y_train)\n",
    "\n",
    "# Importation du second fichier test.csv pour tester notre modèle logistique\n",
    "X_test = dfTestClean[['Pclass', 'Parch', 'SibSp', 'FareCat','Gender','AgeCat']]\n"
   ]
  },
  {
   "cell_type": "code",
   "execution_count": 221,
   "metadata": {
    "collapsed": false
   },
   "outputs": [],
   "source": [
    "\n",
    "classifier = LogisticRegression()\n",
    "classifier.fit(X_train, y_train)\n",
    "predictions = classifier.predict(X_test)\n"
   ]
  },
  {
   "cell_type": "code",
   "execution_count": 222,
   "metadata": {
    "collapsed": false
   },
   "outputs": [
    {
     "data": {
      "text/html": [
       "<div>\n",
       "<table border=\"1\" class=\"dataframe\">\n",
       "  <thead>\n",
       "    <tr style=\"text-align: right;\">\n",
       "      <th></th>\n",
       "      <th>AgeCat</th>\n",
       "      <th>FareCat</th>\n",
       "      <th>Gender</th>\n",
       "      <th>PClass</th>\n",
       "      <th>Parch</th>\n",
       "      <th>Predict</th>\n",
       "      <th>SibSp</th>\n",
       "    </tr>\n",
       "  </thead>\n",
       "  <tbody>\n",
       "    <tr>\n",
       "      <th>0</th>\n",
       "      <td>2.0</td>\n",
       "      <td>0.0</td>\n",
       "      <td>1</td>\n",
       "      <td>3</td>\n",
       "      <td>0</td>\n",
       "      <td>0</td>\n",
       "      <td>0</td>\n",
       "    </tr>\n",
       "    <tr>\n",
       "      <th>1</th>\n",
       "      <td>3.0</td>\n",
       "      <td>0.0</td>\n",
       "      <td>0</td>\n",
       "      <td>3</td>\n",
       "      <td>0</td>\n",
       "      <td>0</td>\n",
       "      <td>1</td>\n",
       "    </tr>\n",
       "    <tr>\n",
       "      <th>2</th>\n",
       "      <td>3.0</td>\n",
       "      <td>1.0</td>\n",
       "      <td>1</td>\n",
       "      <td>2</td>\n",
       "      <td>0</td>\n",
       "      <td>0</td>\n",
       "      <td>0</td>\n",
       "    </tr>\n",
       "    <tr>\n",
       "      <th>3</th>\n",
       "      <td>2.0</td>\n",
       "      <td>1.0</td>\n",
       "      <td>1</td>\n",
       "      <td>3</td>\n",
       "      <td>0</td>\n",
       "      <td>0</td>\n",
       "      <td>0</td>\n",
       "    </tr>\n",
       "    <tr>\n",
       "      <th>4</th>\n",
       "      <td>1.0</td>\n",
       "      <td>1.0</td>\n",
       "      <td>0</td>\n",
       "      <td>3</td>\n",
       "      <td>1</td>\n",
       "      <td>1</td>\n",
       "      <td>1</td>\n",
       "    </tr>\n",
       "    <tr>\n",
       "      <th>5</th>\n",
       "      <td>0.0</td>\n",
       "      <td>1.0</td>\n",
       "      <td>1</td>\n",
       "      <td>3</td>\n",
       "      <td>0</td>\n",
       "      <td>0</td>\n",
       "      <td>0</td>\n",
       "    </tr>\n",
       "    <tr>\n",
       "      <th>6</th>\n",
       "      <td>2.0</td>\n",
       "      <td>0.0</td>\n",
       "      <td>0</td>\n",
       "      <td>3</td>\n",
       "      <td>0</td>\n",
       "      <td>1</td>\n",
       "      <td>0</td>\n",
       "    </tr>\n",
       "    <tr>\n",
       "      <th>7</th>\n",
       "      <td>1.0</td>\n",
       "      <td>2.0</td>\n",
       "      <td>1</td>\n",
       "      <td>2</td>\n",
       "      <td>1</td>\n",
       "      <td>0</td>\n",
       "      <td>1</td>\n",
       "    </tr>\n",
       "    <tr>\n",
       "      <th>8</th>\n",
       "      <td>0.0</td>\n",
       "      <td>0.0</td>\n",
       "      <td>0</td>\n",
       "      <td>3</td>\n",
       "      <td>0</td>\n",
       "      <td>1</td>\n",
       "      <td>0</td>\n",
       "    </tr>\n",
       "    <tr>\n",
       "      <th>9</th>\n",
       "      <td>0.0</td>\n",
       "      <td>2.0</td>\n",
       "      <td>1</td>\n",
       "      <td>3</td>\n",
       "      <td>0</td>\n",
       "      <td>0</td>\n",
       "      <td>2</td>\n",
       "    </tr>\n",
       "  </tbody>\n",
       "</table>\n",
       "</div>"
      ],
      "text/plain": [
       "   AgeCat  FareCat  Gender  PClass  Parch  Predict  SibSp\n",
       "0     2.0      0.0       1       3      0        0      0\n",
       "1     3.0      0.0       0       3      0        0      1\n",
       "2     3.0      1.0       1       2      0        0      0\n",
       "3     2.0      1.0       1       3      0        0      0\n",
       "4     1.0      1.0       0       3      1        1      1\n",
       "5     0.0      1.0       1       3      0        0      0\n",
       "6     2.0      0.0       0       3      0        1      0\n",
       "7     1.0      2.0       1       2      1        0      1\n",
       "8     0.0      0.0       0       3      0        1      0\n",
       "9     0.0      2.0       1       3      0        0      2"
      ]
     },
     "execution_count": 222,
     "metadata": {},
     "output_type": "execute_result"
    }
   ],
   "source": [
    "PclassList = []\n",
    "for i,x in enumerate(X_test.Pclass):\n",
    "    PclassList.append(X_test.Pclass[i])\n",
    "    \n",
    "ParchList = []\n",
    "for i,x in enumerate(X_test.Parch):\n",
    "    ParchList.append(X_test.Parch[i])\n",
    "\n",
    "SibSpList = []\n",
    "for i,x in enumerate(X_test.SibSp):\n",
    "    SibSpList.append(X_test.SibSp[i])\n",
    "\n",
    "FareCatList = []\n",
    "for i,x in enumerate(X_test.FareCat):\n",
    "    FareCatList.append(X_test.FareCat[i])\n",
    "\n",
    "GenderList = []\n",
    "for i,x in enumerate(X_test.Gender):\n",
    "    GenderList.append(X_test.Gender[i])\n",
    "\n",
    "AgeCatList = []\n",
    "for i,x in enumerate(X_test.AgeCat):\n",
    "    AgeCatList.append(X_test.AgeCat[i])\n",
    "\n",
    "PredictList = []\n",
    "for i,pred in enumerate(predictions):\n",
    "    PredictList.append(predictions[i])\n",
    "    \n",
    "\n",
    "# On créé le dictionnaire qui contient les séries que l'on va transmettre au dataframe        \n",
    "preDict = {'PClass' : pd.Series(PclassList)\n",
    "     ,'Parch' : pd.Series(ParchList)\n",
    "     ,'SibSp' : pd.Series(SibSpList)\n",
    "     ,'FareCat' : pd.Series(FareCatList)\n",
    "     ,'Gender' : pd.Series(GenderList)\n",
    "     ,'AgeCat' : pd.Series(AgeCatList)\n",
    "     ,'Predict' : pd.Series(PredictList)}\n",
    "    \n",
    "# on créé le dataframe\n",
    "dfPredict = pd.DataFrame(preDict)   \n",
    "\n",
    "dfPredict.head(10)"
   ]
  },
  {
   "cell_type": "markdown",
   "metadata": {},
   "source": [
    "On voit maintenant que la survie de dépends plus uniquement de la classe des passagers. On peut également essayer de comprendre quelles classes ont le plus de poids dans la survie des passagers:"
   ]
  },
  {
   "cell_type": "code",
   "execution_count": 273,
   "metadata": {
    "collapsed": false
   },
   "outputs": [
    {
     "name": "stdout",
     "output_type": "stream",
     "text": [
      "Nb Passagers 418\n",
      "Nb Survivants 154\n",
      "Nb hommes 266\n",
      "Nb femmes 152\n",
      "Nb hommes survivants 13\n",
      "Nb femmes survivants 141\n",
      "pourcentage hommes survivants 4.89 %\n",
      "pourcentage femmes survivants 92.76 %\n"
     ]
    }
   ],
   "source": [
    "# Nombre de passagers dans le dataset\n",
    "nbPass = len(dfPredict)\n",
    "print 'Nb Passagers', nbPass\n",
    "\n",
    "# Nombre de survivants\n",
    "nbSurv = len(dfPredict[dfPredict.Predict == 1])\n",
    "print 'Nb Survivants', nbSurv\n",
    "\n",
    "# Nombre d'hommes dans le dataset test\n",
    "nbHommes = sum(dfPredict.Gender)\n",
    "print 'Nb hommes', nbHommes\n",
    "\n",
    "# Nombre de femmes \n",
    "nbFemmes = len(dfPredict.Gender) - sum(dfPredict.Gender)\n",
    "print 'Nb femmes', nbFemmes\n",
    "\n",
    "nbHommeSurv = len(dfPredict.loc[(dfPredict.Predict == 1) & (dfPredict.Gender == 1),'Gender'])\n",
    "print 'Nb hommes survivants', nbHommeSurv\n",
    "\n",
    "nbFemmeSurv = len(dfPredict.loc[(dfPredict.Predict == 1) & (dfPredict.Gender == 0),'Gender'])\n",
    "print 'Nb femmes survivants', nbFemmeSurv\n",
    "\n",
    "percHommeSurv = float(nbHommeSurv) / float(nbHommes) * float(100)\n",
    "print 'pourcentage hommes survivants', round(percHommeSurv,2), '%'\n",
    "\n",
    "percFemmeSurv = float(nbFemmeSurv) / float(nbFemmes) * float(100)\n",
    "print 'pourcentage femmes survivants', round(percFemmeSurv,2), '%'\n"
   ]
  },
  {
   "cell_type": "markdown",
   "metadata": {},
   "source": [
    "Il y avait 266 hommes et 152 femmes dans ce dataset. Or le modèle prédit que parmi 154 survivants, 141 seront des femmes. Il donc une forte expectation de chevalerie dans ce modèle!\n",
    "\n",
    "Reprenons nos classes de passagers:"
   ]
  },
  {
   "cell_type": "code",
   "execution_count": 276,
   "metadata": {
    "collapsed": false
   },
   "outputs": [
    {
     "name": "stdout",
     "output_type": "stream",
     "text": [
      "Nb Passagers 418\n",
      "Nb Survivants 154\n",
      "Nb 3ieme classe 218\n",
      "Nb 2ieme classe 93\n",
      "Nb 1iere classe 107\n",
      "Nb 3ieme classe survivants 61\n",
      "Nb 2ieme classe survivants 33\n",
      "Nb 1iere classe survivants 60\n",
      "pourcentage 3ieme classe survivants 27.98 %\n",
      "pourcentage 2ieme classe survivants 35.48 %\n",
      "pourcentage 1iere classe survivants 56.07 %\n"
     ]
    }
   ],
   "source": [
    "# Nombre de passagers dans le dataset\n",
    "print 'Nb Passagers', nbPass\n",
    "\n",
    "# Nombre de survivants\n",
    "print 'Nb Survivants', nbSurv\n",
    "\n",
    "nb3Classe = len(dfPredict.loc[(dfPredict.PClass == 3),'PClass'])\n",
    "print 'Nb 3ieme classe', nb3Classe\n",
    "nb2Classe = len(dfPredict.loc[(dfPredict.PClass == 2),'PClass'])\n",
    "print 'Nb 2ieme classe', nb2Classe\n",
    "nb1Classe = len(dfPredict.loc[(dfPredict.PClass == 1),'PClass'])\n",
    "print 'Nb 1iere classe', nb1Classe\n",
    "\n",
    "nb3ClasseSurv = len(dfPredict.loc[(dfPredict.Predict == 1) & (dfPredict.PClass == 3),'PClass'])\n",
    "print 'Nb 3ieme classe survivants', nb3ClasseSurv\n",
    "nb2ClasseSurv = len(dfPredict.loc[(dfPredict.Predict == 1) & (dfPredict.PClass == 2),'PClass'])\n",
    "print 'Nb 2ieme classe survivants', nb2ClasseSurv\n",
    "nb1ClasseSurv = len(dfPredict.loc[(dfPredict.Predict == 1) & (dfPredict.PClass == 1),'PClass'])\n",
    "print 'Nb 1iere classe survivants', nb1ClasseSurv\n",
    "\n",
    "perc3ClasseSurv = float(nb3ClasseSurv) / float(nb3Classe) * float(100)\n",
    "print 'pourcentage 3ieme classe survivants', round(perc3ClasseSurv,2), '%'\n",
    "perc2ClasseSurv = float(nb2ClasseSurv) / float(nb2Classe) * float(100)\n",
    "print 'pourcentage 2ieme classe survivants', round(perc2ClasseSurv,2), '%'\n",
    "perc1ClasseSurv = float(nb1ClasseSurv) / float(nb1Classe) * float(100)\n",
    "print 'pourcentage 1iere classe survivants', round(perc1ClasseSurv,2), '%'"
   ]
  },
  {
   "cell_type": "markdown",
   "metadata": {},
   "source": [
    "Nous avons donc maintenant une prédiction beaucoup plus nuancée concernant le poids de la classe de passagers sur la survie!\n",
    "\n",
    "De même pour le prix du billet:"
   ]
  },
  {
   "cell_type": "code",
   "execution_count": 279,
   "metadata": {
    "collapsed": false
   },
   "outputs": [
    {
     "name": "stdout",
     "output_type": "stream",
     "text": [
      "Nb Passagers 418\n",
      "Nb Survivants 154\n",
      "Nb billets chers 108\n",
      "Nb billets moyens chers 94\n",
      "Nb billets pas chers 96\n",
      "Nb billets presque gratuit 120\n",
      "Nb billets chers survivants 64\n",
      "Nb billets moyens chers survivants 41\n",
      "Nb billets pas chers survivants 23\n",
      "Nb billets presque gratuit survivants 26\n",
      "pourcentage billets chers survivants 59.26\n",
      "pourcentage moyens chers survivants 43.62\n",
      "pourcentage pas chers survivants 23.96\n",
      "pourcentage billets presque gratuit survivants 21.67\n"
     ]
    }
   ],
   "source": [
    "# Nombre de passagers dans le dataset\n",
    "print 'Nb Passagers', nbPass\n",
    "\n",
    "# Nombre de survivants\n",
    "print 'Nb Survivants', nbSurv\n",
    "\n",
    "nbCher = len(dfPredict.loc[(dfPredict.FareCat == 3),'FareCat'])\n",
    "print 'Nb billets chers', nbCher\n",
    "nbMoyen = len(dfPredict.loc[(dfPredict.FareCat == 2),'FareCat'])\n",
    "print 'Nb billets moyens chers', nbMoyen\n",
    "nbPascher = len(dfPredict.loc[(dfPredict.FareCat == 1),'FareCat'])\n",
    "print 'Nb billets pas chers', nbPascher\n",
    "nbGratuit = len(dfPredict.loc[(dfPredict.FareCat == 0),'FareCat'])\n",
    "print 'Nb billets presque gratuit', nbGratuit\n",
    "\n",
    "nbCherSurv = len(dfPredict.loc[(dfPredict.Predict == 1) & (dfPredict.FareCat == 3),'FareCat'])\n",
    "print 'Nb billets chers survivants', nbCherSurv\n",
    "nbMoyenSurv =len(dfPredict.loc[(dfPredict.Predict == 1) & (dfPredict.FareCat == 2),'FareCat'])\n",
    "print 'Nb billets moyens chers survivants', nbMoyenSurv\n",
    "nbPascherSurv = len(dfPredict.loc[(dfPredict.Predict == 1) & (dfPredict.FareCat == 1),'FareCat'])\n",
    "print 'Nb billets pas chers survivants',nbPascherSurv\n",
    "nbGratuitSurv =len(dfPredict.loc[(dfPredict.Predict == 1) & (dfPredict.FareCat == 0),'FareCat'])\n",
    "print 'Nb billets presque gratuit survivants', nbGratuitSurv\n",
    "\n",
    "nbCherSurv = float(nbCherSurv) / float(nbCher) * 100\n",
    "print 'pourcentage billets chers survivants', round(nbCherSurv,2)\n",
    "nbMoyenSurv = float(nbMoyenSurv) / float(nbMoyen)* 100\n",
    "print 'pourcentage moyens chers survivants', round(nbMoyenSurv,2)\n",
    "nbPascherSurv = float(nbPascherSurv) / float(nbPascher)* 100\n",
    "print 'pourcentage pas chers survivants', round(nbPascherSurv,2)\n",
    "nbGratuitSurv = float(nbGratuitSurv) / float(nbGratuit)* 100\n",
    "print 'pourcentage billets presque gratuit survivants', round(nbGratuitSurv,2)\n"
   ]
  },
  {
   "cell_type": "markdown",
   "metadata": {},
   "source": [
    "On voit là que plus les passagers ont payé cher leur ticket, meilleur à été leur survie.\n",
    "\n",
    "et enfin pour l'age:"
   ]
  },
  {
   "cell_type": "code",
   "execution_count": 283,
   "metadata": {
    "collapsed": false
   },
   "outputs": [
    {
     "name": "stdout",
     "output_type": "stream",
     "text": [
      "Nb Passagers 418\n",
      "Nb Survivants 154\n",
      "Nb 36 ans ou + 105\n",
      "Nb 26 à 36 ans 86\n",
      "Nb 21 à 26 ans 141\n",
      "Nb moins de 21 ans 86\n",
      "Nb 36 ans ou + survivants 32\n",
      "Nb 26 à 36 ans survivants 33\n",
      "Nb 21 à 26 ans survivants 49\n",
      "Nb moins de 21 ans survivants 40\n",
      "pourcentage 36 ans ou + survivants 30.48\n",
      "pourcentage 26 à 36 ans survivants 38.37\n",
      "pourcentage 21 à 26 ans survivants 34.75\n",
      "pourcentage moins de 21 ans survivants 46.51\n"
     ]
    }
   ],
   "source": [
    "# Nombre de passagers dans le dataset\n",
    "\n",
    "print 'Nb Passagers', nbPass\n",
    "\n",
    "# Nombre de survivants\n",
    "\n",
    "print 'Nb Survivants', nbSurv\n",
    "\n",
    "nbAge36 = len(dfPredict.loc[(dfPredict.AgeCat == 3),'AgeCat'])\n",
    "print 'Nb 36 ans ou +', nbAge36\n",
    "\n",
    "nbAge26 = len(dfPredict.loc[(dfPredict.AgeCat == 2),'AgeCat'])\n",
    "print 'Nb 26 à 36 ans', nbAge26\n",
    "\n",
    "nbAge21 = len(dfPredict.loc[(dfPredict.AgeCat == 1),'AgeCat'])\n",
    "print 'Nb 21 à 26 ans', nbAge21\n",
    "\n",
    "nbAge0 = len(dfPredict.loc[(dfPredict.AgeCat == 0),'AgeCat'])\n",
    "print 'Nb moins de 21 ans', nbAge0\n",
    "\n",
    "nbAge36Surv = len(dfPredict.loc[(dfPredict.Predict == 1) & (dfPredict.AgeCat == 3),'AgeCat'])\n",
    "print 'Nb 36 ans ou + survivants', nbAge36Surv\n",
    "nbAge26Surv = len(dfPredict.loc[(dfPredict.Predict == 1) & (dfPredict.AgeCat == 2),'AgeCat'])\n",
    "print 'Nb 26 à 36 ans survivants', nbAge26Surv \n",
    "nbAge21Surv = len(dfPredict.loc[(dfPredict.Predict == 1) & (dfPredict.AgeCat == 1),'AgeCat'])\n",
    "print 'Nb 21 à 26 ans survivants', nbAge21Surv\n",
    "nbAge0Surv = len(dfPredict.loc[(dfPredict.Predict == 1) & (dfPredict.AgeCat == 0),'AgeCat'])\n",
    "print 'Nb moins de 21 ans survivants', nbAge0Surv\n",
    "\n",
    "percAge36Surv = float(nbAge36Surv) / float(nbAge36) * float(100)\n",
    "print 'pourcentage 36 ans ou + survivants', round(percAge36Surv,2)\n",
    "percAge26Surv = float(nbAge26Surv) / float(nbAge26) * float(100)\n",
    "print 'pourcentage 26 à 36 ans survivants', round(percAge26Surv ,2)\n",
    "percAge21Surv = float(nbAge21Surv) / float(nbAge21) * float(100)\n",
    "print 'pourcentage 21 à 26 ans survivants', round(percAge21Surv,2)\n",
    "percAge0Surv = float(nbAge0Surv) / float(nbAge0) * float(100)\n",
    "print 'pourcentage moins de 21 ans survivants', round(percAge0Surv,2)\n"
   ]
  },
  {
   "cell_type": "markdown",
   "metadata": {},
   "source": [
    "On peut dire ici que les plus jeunes ont été favorisé par rapport aux plus vieux dans ce modèle."
   ]
  },
  {
   "cell_type": "markdown",
   "metadata": {},
   "source": [
    "En conclusion, nous pouvons dire que les femmes, les plus aisés et les plus jeunes ont été mis en priorité dans les canots de sauvetage. C'est plutôt positif même si nous pouvons regretter que les passagers les moins aisés ait été tout de même clairement désavantagés dans leur survie."
   ]
  },
  {
   "cell_type": "code",
   "execution_count": null,
   "metadata": {
    "collapsed": true
   },
   "outputs": [],
   "source": []
  }
 ],
 "metadata": {
  "anaconda-cloud": {},
  "kernelspec": {
   "display_name": "Python [default]",
   "language": "python",
   "name": "python2"
  },
  "language_info": {
   "codemirror_mode": {
    "name": "ipython",
    "version": 2
   },
   "file_extension": ".py",
   "mimetype": "text/x-python",
   "name": "python",
   "nbconvert_exporter": "python",
   "pygments_lexer": "ipython2",
   "version": "2.7.12"
  }
 },
 "nbformat": 4,
 "nbformat_minor": 1
}
