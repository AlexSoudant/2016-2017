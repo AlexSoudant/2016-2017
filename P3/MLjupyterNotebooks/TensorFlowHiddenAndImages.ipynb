{
 "cells": [
  {
   "cell_type": "code",
   "execution_count": 2,
   "metadata": {
    "collapsed": false
   },
   "outputs": [
    {
     "name": "stdout",
     "output_type": "stream",
     "text": [
      "('Training set', (457, 56, 56), (457, 1), (457, 1), (457, 1), (457, 1), (457, 1))\n",
      "('Validation set', (196, 56, 56), (196, 1), (196, 1), (196, 1), (196, 1), (196, 1))\n"
     ]
    }
   ],
   "source": [
    "# Now with tensorflow\n",
    "\n",
    "import numpy as np\n",
    "import tensorflow as tf\n",
    "from six.moves import cPickle as pickle\n",
    "from six.moves import range\n",
    "\n",
    "pickle_file = 'housingNantesAllInfo.pickle'\n",
    "\n",
    "with open(pickle_file, 'rb') as f:\n",
    "  save = pickle.load(f)\n",
    "  train_dataset = save['train_dataset']\n",
    "  train_prices_labels = save['train_prices_labels']\n",
    "  train_nbRooms_labels = save['train_nbRooms_labels']\n",
    "  train_surfaceHouse_labels = save['train_surfaceHouse_labels']\n",
    "  train_surfaceLand_labels = save['train_surfaceLand_labels']\n",
    "  train_nbPictures_labels = save['train_nbPictures_labels']\n",
    "  valid_dataset = save['valid_dataset']\n",
    "  valid_prices_labels = save['valid_prices_labels']\n",
    "  valid_nbRooms_labels = save['valid_nbRooms_labels']\n",
    "  valid_surfaceHouse_labels = save['valid_surfaceHouse_labels']\n",
    "  valid_surfaceLand_labels = save['valid_surfaceLand_labels']\n",
    "  valid_nbPictures_labels = save['valid_nbPictures_labels']\n",
    "\n",
    "\n",
    "\n",
    "  del save  # hint to help gc free up memory\n",
    "  print('Training set', train_dataset.shape, train_prices_labels.shape,train_nbRooms_labels.shape,train_surfaceHouse_labels.shape,train_surfaceLand_labels.shape,train_nbPictures_labels.shape)\n",
    "  print('Validation set', valid_dataset.shape, valid_prices_labels.shape,valid_nbRooms_labels.shape,valid_surfaceHouse_labels.shape,valid_surfaceLand_labels.shape,valid_nbPictures_labels.shape)\n",
    "\n",
    "image_size = 56"
   ]
  },
  {
   "cell_type": "code",
   "execution_count": 3,
   "metadata": {
    "collapsed": false
   },
   "outputs": [
    {
     "name": "stdout",
     "output_type": "stream",
     "text": [
      "15\n",
      "2\n"
     ]
    }
   ],
   "source": [
    "# clean prices == 0\n",
    "\n",
    "price_equals_zero_list = []\n",
    "\n",
    "for i,price in enumerate(train_prices_labels):\n",
    "    if price == 0:\n",
    "        price_equals_zero_list.append(i)  \n",
    "\n",
    "print len(price_equals_zero_list)   \n",
    "\n",
    "new_dim = train_prices_labels.shape[0]-len(price_equals_zero_list)\n",
    "\n",
    "train_labels_prices_no_zeros = np.zeros((new_dim, 1))\n",
    "\n",
    "train_labels_nbRooms_no_zeros = np.zeros((new_dim, 1))\n",
    "train_labels_surfaceHouse_no_zeros = np.zeros((new_dim, 1))\n",
    "train_labels_surfaceLand_no_zeros = np.zeros((new_dim, 1))\n",
    "train_labels_nbPictures_no_zeros = np.zeros((new_dim, 1))\n",
    "\n",
    "train_images_no_zeros = np.zeros((new_dim, image_size,image_size))\n",
    "\n",
    "j = 0\n",
    "for i,price in enumerate(train_prices_labels):\n",
    "    if price != 0:\n",
    "        train_labels_prices_no_zeros[j][0] = price  \n",
    "        j += 1\n",
    "\n",
    "j = 0\n",
    "for i,image in enumerate(train_dataset):\n",
    "    if i not in price_equals_zero_list:\n",
    "        train_images_no_zeros[j,:,:] = image  \n",
    "        j += 1\n",
    "\n",
    "j = 0\n",
    "for i,nbRooms in enumerate(train_nbRooms_labels):\n",
    "    if i not in price_equals_zero_list:\n",
    "        train_labels_nbRooms_no_zeros[j][0] = nbRooms  \n",
    "        j += 1\n",
    "\n",
    "j = 0\n",
    "for i,surfaceHouse in enumerate(train_surfaceHouse_labels):\n",
    "    if i not in price_equals_zero_list:\n",
    "        train_labels_surfaceHouse_no_zeros[j][0] = surfaceHouse  \n",
    "        j += 1\n",
    "\n",
    "j = 0\n",
    "for i,surfaceLand in enumerate(train_surfaceLand_labels):\n",
    "    if i not in price_equals_zero_list:\n",
    "        train_labels_surfaceLand_no_zeros[j][0] = surfaceLand  \n",
    "        j += 1\n",
    "\n",
    "j = 0\n",
    "for i,nbPictures in enumerate(train_nbPictures_labels):\n",
    "    if i not in price_equals_zero_list:\n",
    "        train_labels_nbPictures_no_zeros[j][0] = nbPictures  \n",
    "        j += 1\n",
    "        \n",
    "# for validation:\n",
    "\n",
    "price_equals_zero_list = []\n",
    "\n",
    "for i,price in enumerate(valid_prices_labels):\n",
    "    if price == 0:\n",
    "        price_equals_zero_list.append(i)  \n",
    "\n",
    "print len(price_equals_zero_list)   \n",
    "\n",
    "new_dim = valid_prices_labels.shape[0]-len(price_equals_zero_list) \n",
    "\n",
    "valid_labels_prices_no_zeros = np.zeros((new_dim, 1))\n",
    "valid_labels_nbRooms_no_zeros = np.zeros((new_dim, 1))\n",
    "valid_labels_surfaceHouse_no_zeros = np.zeros((new_dim, 1))\n",
    "valid_labels_surfaceLand_no_zeros = np.zeros((new_dim, 1))\n",
    "valid_labels_nbPictures_no_zeros = np.zeros((new_dim, 1))\n",
    "\n",
    "valid_images_no_zeros = np.zeros((new_dim, image_size,image_size))\n",
    "\n",
    "j = 0\n",
    "for i,price in enumerate(valid_prices_labels):\n",
    "    if price != 0:\n",
    "        valid_labels_prices_no_zeros[j][0] = price  \n",
    "        j += 1\n",
    "\n",
    "j = 0\n",
    "for i,image in enumerate(valid_dataset):\n",
    "    if i not in price_equals_zero_list:\n",
    "        valid_images_no_zeros[j,:,:] = image  \n",
    "        j += 1    \n",
    "\n",
    "j = 0        \n",
    "for i,nbRooms in enumerate(valid_nbRooms_labels):\n",
    "    if i not in price_equals_zero_list:\n",
    "        valid_labels_nbRooms_no_zeros[j][0] = nbRooms  \n",
    "        j += 1\n",
    "\n",
    "j = 0\n",
    "for i,surfaceHouse in enumerate(valid_surfaceHouse_labels):\n",
    "    if i not in price_equals_zero_list:\n",
    "        valid_labels_surfaceHouse_no_zeros[j][0] = surfaceHouse  \n",
    "        j += 1\n",
    "\n",
    "j = 0\n",
    "for i,surfaceLand in enumerate(valid_surfaceLand_labels):\n",
    "    if i not in price_equals_zero_list:\n",
    "        valid_labels_surfaceLand_no_zeros[j][0] = surfaceLand  \n",
    "        j += 1\n",
    "\n",
    "j = 0\n",
    "for i,nbPictures in enumerate(valid_nbPictures_labels):\n",
    "    if i not in price_equals_zero_list:\n",
    "        valid_labels_nbPictures_no_zeros[j][0] = nbPictures  \n",
    "        j += 1"
   ]
  },
  {
   "cell_type": "code",
   "execution_count": 4,
   "metadata": {
    "collapsed": false
   },
   "outputs": [
    {
     "name": "stdout",
     "output_type": "stream",
     "text": [
      "43\n",
      "21\n"
     ]
    }
   ],
   "source": [
    "# clean surfaceHouse == 0\n",
    "\n",
    "surface_equals_zero_list = []\n",
    "\n",
    "for i,surface in enumerate(train_labels_surfaceHouse_no_zeros):\n",
    "    if surface == float(0):\n",
    "        surface_equals_zero_list.append(i)  \n",
    "\n",
    "print len(surface_equals_zero_list)   \n",
    "\n",
    "new_dim = train_labels_prices_no_zeros.shape[0]-len(surface_equals_zero_list) \n",
    "\n",
    "train_labels_prices_surface_clean = np.zeros((new_dim, 1))\n",
    "\n",
    "train_labels_nbRooms_surface_clean = np.zeros((new_dim, 1))\n",
    "train_labels_surfaceHouse_surface_clean = np.zeros((new_dim, 1))\n",
    "train_labels_surfaceLand_surface_clean = np.zeros((new_dim, 1))\n",
    "train_labels_nbPictures_surface_clean = np.zeros((new_dim, 1))\n",
    "\n",
    "train_images_surface_clean = np.zeros((new_dim, image_size,image_size))\n",
    "\n",
    "j = 0\n",
    "for i,price in enumerate(train_labels_prices_no_zeros):\n",
    "    if i not in surface_equals_zero_list:\n",
    "        train_labels_prices_surface_clean[j][0] = price  \n",
    "        j += 1\n",
    "        \n",
    "j = 0\n",
    "for i,image in enumerate(train_images_no_zeros):\n",
    "    if i not in surface_equals_zero_list:\n",
    "        train_images_surface_clean[j,:,:] = image  \n",
    "        j += 1    \n",
    "        \n",
    "j = 0\n",
    "for i,nbRooms in enumerate(train_labels_nbRooms_no_zeros):\n",
    "    if i not in surface_equals_zero_list:\n",
    "        train_labels_nbRooms_surface_clean[j][0] = nbRooms  \n",
    "        j += 1\n",
    "\n",
    "j = 0\n",
    "for i,surfaceHouse in enumerate(train_labels_surfaceHouse_no_zeros):\n",
    "    if i not in surface_equals_zero_list:\n",
    "        train_labels_surfaceHouse_surface_clean[j][0] = surfaceHouse  \n",
    "        j += 1\n",
    "        \n",
    "j = 0\n",
    "for i,surfaceLand in enumerate(train_labels_surfaceLand_no_zeros):\n",
    "    if i not in surface_equals_zero_list:\n",
    "        train_labels_surfaceLand_surface_clean[j][0] = surfaceLand  \n",
    "        j += 1\n",
    "\n",
    "j = 0\n",
    "for i,nbPictures in enumerate(train_labels_nbPictures_no_zeros):\n",
    "    if i not in surface_equals_zero_list:\n",
    "        train_labels_nbPictures_surface_clean[j][0] = nbPictures  \n",
    "        j += 1 \n",
    "\n",
    "# validation\n",
    "surface_equals_zero_list = []\n",
    "\n",
    "for i,surface in enumerate(valid_labels_surfaceHouse_no_zeros):\n",
    "    if surface == float(0):\n",
    "        surface_equals_zero_list.append(i)  \n",
    "\n",
    "print len(surface_equals_zero_list)   \n",
    "\n",
    "new_dim = valid_labels_prices_no_zeros.shape[0]-len(surface_equals_zero_list) \n",
    "\n",
    "valid_labels_prices_surface_clean = np.zeros((new_dim, 1))\n",
    "\n",
    "valid_labels_nbRooms_surface_clean = np.zeros((new_dim, 1))\n",
    "valid_labels_surfaceHouse_surface_clean = np.zeros((new_dim, 1))\n",
    "valid_labels_surfaceLand_surface_clean = np.zeros((new_dim, 1))\n",
    "valid_labels_nbPictures_surface_clean = np.zeros((new_dim, 1))\n",
    "\n",
    "valid_images_surface_clean = np.zeros((new_dim, image_size,image_size))\n",
    "\n",
    "\n",
    "j = 0\n",
    "for i,price in enumerate(valid_labels_prices_no_zeros):\n",
    "    if i not in surface_equals_zero_list:\n",
    "        valid_labels_prices_surface_clean[j][0] = price  \n",
    "        j += 1\n",
    "        \n",
    "j = 0\n",
    "for i,image in enumerate(valid_images_no_zeros):\n",
    "    if i not in surface_equals_zero_list:\n",
    "        valid_images_surface_clean[j,:,:] = image  \n",
    "        j += 1    \n",
    "        \n",
    "j = 0\n",
    "for i,nbRooms in enumerate(valid_labels_nbRooms_no_zeros):\n",
    "    if i not in surface_equals_zero_list:\n",
    "        valid_labels_nbRooms_surface_clean[j][0] = nbRooms  \n",
    "        j += 1\n",
    "\n",
    "j = 0\n",
    "for i,surfaceHouse in enumerate(valid_labels_surfaceHouse_no_zeros):\n",
    "    if i not in surface_equals_zero_list:\n",
    "        valid_labels_surfaceHouse_surface_clean[j][0] = surfaceHouse  \n",
    "        j += 1\n",
    "        \n",
    "j = 0\n",
    "for i,surfaceLand in enumerate(valid_labels_surfaceLand_no_zeros):\n",
    "    if i not in surface_equals_zero_list:\n",
    "        valid_labels_surfaceLand_surface_clean[j][0] = surfaceLand  \n",
    "        j += 1\n",
    "        \n",
    "j = 0\n",
    "for i,nbPictures in enumerate(valid_labels_nbPictures_no_zeros):\n",
    "    if i not in surface_equals_zero_list:\n",
    "        valid_labels_nbPictures_surface_clean[j][0] = nbPictures  \n",
    "        j += 1 "
   ]
  },
  {
   "cell_type": "code",
   "execution_count": 5,
   "metadata": {
    "collapsed": false
   },
   "outputs": [
    {
     "data": {
      "text/plain": [
       "399"
      ]
     },
     "execution_count": 5,
     "metadata": {},
     "output_type": "execute_result"
    }
   ],
   "source": [
    "train_labels_nbRooms_surface_clean.shape[0]"
   ]
  },
  {
   "cell_type": "code",
   "execution_count": 6,
   "metadata": {
    "collapsed": true
   },
   "outputs": [],
   "source": [
    "# reformat prices to have then between 0 and 1\n",
    "\n",
    "max_value = max(max(train_labels_prices_surface_clean),max(valid_labels_prices_surface_clean))\n",
    "\n",
    "train_prices_labels = train_labels_prices_surface_clean / max_value\n",
    "\n",
    "valid_prices_labels = valid_labels_prices_surface_clean / max_value\n",
    "\n",
    "\n",
    "train_nbRooms_labels = train_labels_nbRooms_surface_clean\n",
    "train_surfaceHouse_labels = train_labels_surfaceHouse_surface_clean\n",
    "train_surfaceLand_labels = train_labels_surfaceLand_surface_clean\n",
    "train_nbPictures_labels = train_labels_nbPictures_surface_clean\n",
    "valid_nbRooms_labels = valid_labels_nbRooms_surface_clean\n",
    "valid_surfaceHouse_labels = train_labels_surfaceHouse_surface_clean\n",
    "valid_surfaceLand_labels = valid_labels_surfaceLand_surface_clean\n",
    "valid_nbPictures_labels = valid_labels_nbPictures_surface_clean\n"
   ]
  },
  {
   "cell_type": "code",
   "execution_count": 37,
   "metadata": {
    "collapsed": false
   },
   "outputs": [],
   "source": [
    "# reformat images to 2d array 56*56\n",
    "train_images = train_images_surface_clean.reshape((-1, image_size * image_size)).astype(np.float32)\n",
    "valid_images = valid_images_surface_clean.reshape((-1, image_size * image_size)).astype(np.float32)\n",
    "\n",
    "\n",
    "# build the dataset for complementary info from json files\n",
    "nb_variables = 5\n",
    "\n",
    "train_info = np.zeros((train_images.shape[0],nb_variables+train_images.shape[1]))\n",
    "\n",
    "# Reformat the variables to have them between -1 and 1\n",
    "nbRooms_max = max(max(train_nbRooms_labels), max(valid_nbRooms_labels))\n",
    "surface_max = max(max(train_surfaceHouse_labels), max(valid_surfaceHouse_labels))\n",
    "surfaceLand_max = max(max(train_surfaceLand_labels), max(valid_surfaceLand_labels))\n",
    "nbPictures_max = max(max(train_nbPictures_labels), max(valid_nbPictures_labels))\n",
    "\n",
    "for i in range(train_images.shape[0]):\n",
    "    train_info[i][0] = ( train_nbRooms_labels[i] - nbRooms_max /2 ) / nbRooms_max\n",
    "    train_info[i][1] = ( train_surfaceHouse_labels[i] - surface_max /2 ) / surface_max\n",
    "    train_info[i][2] = ( train_surfaceLand_labels[i] - surfaceLand_max /2 ) / surfaceLand_max\n",
    "    train_info[i][3] = ( train_nbPictures_labels[i] - nbPictures_max /2 ) / nbPictures_max\n",
    "    \n",
    "    for j in range(4, train_images.shape[1]):\n",
    "        train_info[i][j] = train_images[i][j]\n",
    "\n",
    "    \n",
    "valid_info = np.zeros((valid_images.shape[0],nb_variables + valid_images.shape[1]))\n",
    "\n",
    "for i in range(valid_images.shape[0]):\n",
    "    valid_info[i][0] = ( valid_nbRooms_labels[i] - nbRooms_max /2 ) / nbRooms_max\n",
    "    valid_info[i][1] = ( valid_surfaceHouse_labels[i] - surface_max /2 ) / surface_max\n",
    "    valid_info[i][2] = ( valid_surfaceLand_labels[i] - surfaceLand_max /2 ) / surfaceLand_max\n",
    "    valid_info[i][3] = ( valid_nbPictures_labels[i] - nbPictures_max /2 ) / nbPictures_max\n",
    "    \n",
    "    for j in range(4, valid_images.shape[1]):\n",
    "        valid_info[i][j] = valid_images[i][j] \n",
    "        "
   ]
  },
  {
   "cell_type": "code",
   "execution_count": 64,
   "metadata": {
    "collapsed": false
   },
   "outputs": [],
   "source": [
    "# parameters to the function graph\n",
    "num_labels= 1\n",
    "dtype = tf.float32\n",
    "\n",
    "batch_size = 40\n",
    "hidden_layer_size = 10\n",
    "regularization_beta = 5e-4\n",
    "\n",
    "\n",
    "graph = tf.Graph()\n",
    "with graph.as_default():\n",
    "\n",
    "  # Input data.\n",
    "  # Load the training, validation into constants that are\n",
    "  # attached to the graph.\n",
    "    tf_train_info = tf.placeholder(dtype, shape=(batch_size,train_info.shape[1]))\n",
    "    tf_train_price = tf.placeholder(dtype, shape=(batch_size,train_prices_labels.shape[1]))\n",
    "    tf_valid_info = tf.placeholder(dtype, shape=[None,train_info.shape[1]])\n",
    "  \n",
    "  # Variables.\n",
    "    \n",
    "    # hidden layer\n",
    "    \n",
    "    weights_hidden = tf.Variable(tf.truncated_normal([train_info.shape[1], hidden_layer_size]))\n",
    "    biases_hidden = tf.Variable(tf.zeros([hidden_layer_size]))\n",
    "    hidden = tf.nn.relu(tf.matmul(tf_train_info , weights_hidden) + biases_hidden)\n",
    "    \n",
    "    # output layer\n",
    "    \n",
    "    weights_output = tf.Variable(tf.truncated_normal([hidden_layer_size,num_labels]))\n",
    "    biases_output = tf.Variable(tf.zeros([num_labels]))\n",
    "    \n",
    "    # Training\n",
    "    \n",
    "    price_estimation = tf.matmul(hidden, weights_output) + biases_output\n",
    "    \n",
    "    loss = tf.reduce_sum(tf.square(price_estimation - tf_train_price))/train_prices_labels.shape[0]\n",
    "  \n",
    "    # L2 regularization\n",
    "    \n",
    "    regularizers = (tf.nn.l2_loss(weights_hidden) + tf.nn.l2_loss(biases_hidden) +\n",
    "                   tf.nn.l2_loss(weights_output) + tf.nn.l2_loss(biases_output))\n",
    "    \n",
    "    loss = loss + regularization_beta * regularizers\n",
    " \n",
    "  # Optimizer.\n",
    "  # We are going to find the minimum of this loss using AdagradOptimizer.\n",
    "  #  AdagradOptimizer\n",
    "    optimizer = tf.train.AdagradOptimizer(0.01).minimize(loss)\n",
    "    #optimizer = tf.train.MomentumOptimizer(5, 0.001).minimize(loss)\n",
    "  \n",
    "  # Predictions for the training and validation.\n",
    "  # Predictions\n",
    "    \n",
    "    train_prediction = price_estimation\n",
    "    \n",
    "    hidden_validation = tf.nn.relu(tf.matmul(tf_valid_info, weights_hidden) + biases_hidden)\n",
    "    valid_prediction = tf.matmul(hidden_validation, weights_output) + biases_output\n",
    "    "
   ]
  },
  {
   "cell_type": "code",
   "execution_count": 65,
   "metadata": {
    "collapsed": false
   },
   "outputs": [
    {
     "name": "stdout",
     "output_type": "stream",
     "text": [
      "Initialized\n",
      "Loss at step 0: 64.882881\n",
      "Training accuracy: -20928.0%\n",
      "Validation accuracy: -16148.7%\n",
      "Loss at step 1000: 6.140525\n",
      "Training accuracy: -1219.0%\n",
      "Validation accuracy: -5039.4%\n",
      "Loss at step 2000: 5.873333\n",
      "Training accuracy: -245.9%\n",
      "Validation accuracy: -4604.8%\n",
      "Loss at step 3000: 5.763951\n",
      "Training accuracy: -308.3%\n",
      "Validation accuracy: -4408.9%\n",
      "Loss at step 4000: 5.663961\n",
      "Training accuracy: -135.5%\n",
      "Validation accuracy: -4288.5%\n",
      "Loss at step 5000: 5.575045\n",
      "Training accuracy: -36.8%\n",
      "Validation accuracy: -4215.0%\n",
      "Loss at step 6000: 5.488382\n",
      "Training accuracy: -40.2%\n",
      "Validation accuracy: -4149.9%\n",
      "Loss at step 7000: 5.404892\n",
      "Training accuracy: -15.2%\n",
      "Validation accuracy: -4084.8%\n",
      "Loss at step 8000: 5.328044\n",
      "Training accuracy: -29.4%\n",
      "Validation accuracy: -4026.8%\n",
      "Loss at step 9000: 5.244816\n",
      "Training accuracy: 2.1%\n",
      "Validation accuracy: -3970.8%\n",
      "Loss at step 10000: 5.166915\n",
      "Training accuracy: -6.4%\n",
      "Validation accuracy: -3943.6%\n",
      "Loss at step 11000: 5.090077\n",
      "Training accuracy: 29.0%\n",
      "Validation accuracy: -3907.0%\n",
      "Loss at step 12000: 5.017563\n",
      "Training accuracy: 30.4%\n",
      "Validation accuracy: -3874.0%\n",
      "Loss at step 13000: 4.941555\n",
      "Training accuracy: 52.2%\n",
      "Validation accuracy: -3840.6%\n",
      "Loss at step 14000: 4.870193\n",
      "Training accuracy: 47.1%\n",
      "Validation accuracy: -3813.6%\n",
      "Loss at step 15000: 4.800516\n",
      "Training accuracy: 31.9%\n",
      "Validation accuracy: -3785.7%\n",
      "Loss at step 16000: 4.730660\n",
      "Training accuracy: 33.7%\n",
      "Validation accuracy: -3758.3%\n",
      "Loss at step 17000: 4.661420\n",
      "Training accuracy: 31.2%\n",
      "Validation accuracy: -3731.8%\n",
      "Loss at step 18000: 4.595006\n",
      "Training accuracy: 31.4%\n",
      "Validation accuracy: -3702.5%\n",
      "Loss at step 19000: 4.531932\n",
      "Training accuracy: -40.4%\n",
      "Validation accuracy: -3682.3%\n",
      "Loss at step 20000: 4.463935\n",
      "Training accuracy: 48.0%\n",
      "Validation accuracy: -3657.9%\n",
      "Loss at step 21000: 4.400853\n",
      "Training accuracy: 62.2%\n",
      "Validation accuracy: -3633.6%\n",
      "Loss at step 22000: 4.338501\n",
      "Training accuracy: 54.6%\n",
      "Validation accuracy: -3609.4%\n",
      "Loss at step 23000: 4.277517\n",
      "Training accuracy: 50.2%\n",
      "Validation accuracy: -3581.4%\n",
      "Loss at step 24000: 4.217577\n",
      "Training accuracy: 56.3%\n",
      "Validation accuracy: -3564.8%\n",
      "Loss at step 25000: 4.158015\n",
      "Training accuracy: 53.3%\n",
      "Validation accuracy: -3542.0%\n",
      "Loss at step 26000: 4.100100\n",
      "Training accuracy: 53.3%\n",
      "Validation accuracy: -3519.6%\n",
      "Loss at step 27000: 4.042449\n",
      "Training accuracy: 57.1%\n",
      "Validation accuracy: -3496.5%\n",
      "Loss at step 28000: 3.986459\n",
      "Training accuracy: 37.3%\n",
      "Validation accuracy: -3476.4%\n",
      "Loss at step 29000: 3.930812\n",
      "Training accuracy: 42.5%\n",
      "Validation accuracy: -3455.3%\n",
      "Loss at step 30000: 3.876800\n",
      "Training accuracy: 63.8%\n",
      "Validation accuracy: -3434.0%\n",
      "Loss at step 31000: 3.824086\n",
      "Training accuracy: 62.9%\n",
      "Validation accuracy: -3412.6%\n",
      "Loss at step 32000: 3.770942\n",
      "Training accuracy: 54.1%\n",
      "Validation accuracy: -3390.1%\n",
      "Loss at step 33000: 3.719758\n",
      "Training accuracy: 55.4%\n",
      "Validation accuracy: -3372.4%\n",
      "Loss at step 34000: 3.668864\n",
      "Training accuracy: 61.5%\n",
      "Validation accuracy: -3352.3%\n",
      "Loss at step 35000: 3.619606\n",
      "Training accuracy: 21.7%\n",
      "Validation accuracy: -3332.3%\n",
      "Loss at step 36000: 3.569363\n",
      "Training accuracy: 46.6%\n",
      "Validation accuracy: -3311.9%\n",
      "Loss at step 37000: 3.522310\n",
      "Training accuracy: 45.3%\n",
      "Validation accuracy: -3289.5%\n",
      "Loss at step 38000: 3.474485\n",
      "Training accuracy: 25.3%\n",
      "Validation accuracy: -3273.8%\n",
      "Loss at step 39000: 3.426704\n",
      "Training accuracy: 60.6%\n",
      "Validation accuracy: -3254.5%\n",
      "Loss at step 40000: 3.381430\n",
      "Training accuracy: 57.8%\n",
      "Validation accuracy: -3235.3%\n",
      "Loss at step 41000: 3.336184\n",
      "Training accuracy: 58.6%\n",
      "Validation accuracy: -3215.5%\n",
      "Loss at step 42000: 3.292098\n",
      "Training accuracy: 55.4%\n",
      "Validation accuracy: -3197.4%\n",
      "Loss at step 43000: 3.248485\n",
      "Training accuracy: 62.3%\n",
      "Validation accuracy: -3179.0%\n",
      "Loss at step 44000: 3.205015\n",
      "Training accuracy: 52.2%\n",
      "Validation accuracy: -3160.3%\n",
      "Loss at step 45000: 3.162920\n",
      "Training accuracy: 45.7%\n",
      "Validation accuracy: -3141.6%\n",
      "Loss at step 46000: 3.120577\n",
      "Training accuracy: 69.4%\n",
      "Validation accuracy: -3122.0%\n",
      "Loss at step 47000: 3.080302\n",
      "Training accuracy: 25.2%\n",
      "Validation accuracy: -3105.6%\n",
      "Loss at step 48000: 3.039280\n",
      "Training accuracy: 42.2%\n",
      "Validation accuracy: -3087.4%\n",
      "Loss at step 49000: 2.999647\n",
      "Training accuracy: 60.8%\n",
      "Validation accuracy: -3069.3%\n",
      "Loss at step 50000: 2.961190\n",
      "Training accuracy: 64.1%\n",
      "Validation accuracy: -3051.0%\n",
      "Loss at step 51000: 2.921556\n",
      "Training accuracy: 53.6%\n",
      "Validation accuracy: -3031.7%\n",
      "Loss at step 52000: 2.884407\n",
      "Training accuracy: 55.1%\n",
      "Validation accuracy: -3016.5%\n",
      "Loss at step 53000: 2.847139\n",
      "Training accuracy: 54.5%\n",
      "Validation accuracy: -2999.0%\n",
      "Loss at step 54000: 2.810717\n",
      "Training accuracy: 23.4%\n",
      "Validation accuracy: -2981.4%\n",
      "Loss at step 55000: 2.773629\n",
      "Training accuracy: 52.7%\n",
      "Validation accuracy: -2963.5%\n",
      "Loss at step 56000: 2.738799\n",
      "Training accuracy: 59.5%\n",
      "Validation accuracy: -2947.1%\n",
      "Loss at step 57000: 2.703507\n",
      "Training accuracy: 39.5%\n",
      "Validation accuracy: -2930.3%\n",
      "Loss at step 58000: 2.668351\n",
      "Training accuracy: 70.4%\n",
      "Validation accuracy: -2913.2%\n",
      "Loss at step 59000: 2.634936\n",
      "Training accuracy: 58.2%\n",
      "Validation accuracy: -2896.0%\n",
      "Loss at step 60000: 2.601531\n",
      "Training accuracy: 55.4%\n",
      "Validation accuracy: -2878.3%\n",
      "Loss at step 61000: 2.568403\n",
      "Training accuracy: 70.0%\n",
      "Validation accuracy: -2862.9%\n",
      "Loss at step 62000: 2.536436\n",
      "Training accuracy: 69.9%\n",
      "Validation accuracy: -2846.1%\n",
      "Loss at step 63000: 2.504163\n",
      "Training accuracy: 53.2%\n",
      "Validation accuracy: -2829.5%\n",
      "Loss at step 64000: 2.472826\n",
      "Training accuracy: 56.5%\n",
      "Validation accuracy: -2812.6%\n",
      "Loss at step 65000: 2.441287\n",
      "Training accuracy: 69.7%\n",
      "Validation accuracy: -2795.3%\n",
      "Loss at step 66000: 2.411365\n",
      "Training accuracy: 27.9%\n",
      "Validation accuracy: -2780.7%\n",
      "Loss at step 67000: 2.380698\n",
      "Training accuracy: 52.9%\n",
      "Validation accuracy: -2764.3%\n",
      "Loss at step 68000: 2.351329\n",
      "Training accuracy: 62.3%\n",
      "Validation accuracy: -2748.2%\n",
      "Loss at step 69000: 2.322793\n",
      "Training accuracy: 63.0%\n",
      "Validation accuracy: -2731.8%\n",
      "Loss at step 70000: 2.292922\n",
      "Training accuracy: 55.8%\n",
      "Validation accuracy: -2716.7%\n",
      "Loss at step 71000: 2.265195\n",
      "Training accuracy: 54.1%\n",
      "Validation accuracy: -2701.1%\n",
      "Loss at step 72000: 2.237482\n",
      "Training accuracy: 53.2%\n",
      "Validation accuracy: -2685.6%\n",
      "Loss at step 73000: 2.209975\n",
      "Training accuracy: 28.1%\n",
      "Validation accuracy: -2670.1%\n",
      "Loss at step 74000: 2.183096\n",
      "Training accuracy: 54.6%\n",
      "Validation accuracy: -2654.1%\n",
      "Loss at step 75000: 2.156102\n",
      "Training accuracy: 57.5%\n",
      "Validation accuracy: -2640.1%\n",
      "Loss at step 76000: 2.129797\n",
      "Training accuracy: 40.9%\n",
      "Validation accuracy: -2625.3%\n",
      "Loss at step 77000: 2.103266\n",
      "Training accuracy: 69.0%\n",
      "Validation accuracy: -2610.6%\n",
      "Loss at step 78000: 2.077990\n",
      "Training accuracy: 62.7%\n",
      "Validation accuracy: -2595.6%\n",
      "Loss at step 79000: 2.052971\n",
      "Training accuracy: 53.0%\n",
      "Validation accuracy: -2580.1%\n",
      "Loss at step 80000: 2.027937\n",
      "Training accuracy: 69.2%\n",
      "Validation accuracy: -2566.7%\n",
      "Loss at step 81000: 2.003989\n",
      "Training accuracy: 69.1%\n",
      "Validation accuracy: -2552.0%\n",
      "Loss at step 82000: 1.979428\n",
      "Training accuracy: 58.2%\n",
      "Validation accuracy: -2537.6%\n",
      "Loss at step 83000: 1.955898\n",
      "Training accuracy: 52.9%\n",
      "Validation accuracy: -2522.8%\n",
      "Loss at step 84000: 1.931922\n",
      "Training accuracy: 71.1%\n",
      "Validation accuracy: -2509.1%\n",
      "Loss at step 85000: 1.909287\n",
      "Training accuracy: 34.6%\n",
      "Validation accuracy: -2495.0%\n",
      "Loss at step 86000: 1.885953\n",
      "Training accuracy: 59.6%\n",
      "Validation accuracy: -2480.9%\n",
      "Loss at step 87000: 1.863885\n",
      "Training accuracy: 67.3%\n",
      "Validation accuracy: -2466.7%\n",
      "Loss at step 88000: 1.841521\n",
      "Training accuracy: 62.3%\n",
      "Validation accuracy: -2452.2%\n",
      "Loss at step 89000: 1.819564\n",
      "Training accuracy: 58.8%\n",
      "Validation accuracy: -2439.0%\n",
      "Loss at step 90000: 1.798318\n",
      "Training accuracy: 61.5%\n",
      "Validation accuracy: -2425.0%\n",
      "Loss at step 91000: 1.777453\n",
      "Training accuracy: 57.2%\n",
      "Validation accuracy: -2411.5%\n",
      "Loss at step 92000: 1.756546\n",
      "Training accuracy: 31.8%\n",
      "Validation accuracy: -2397.7%\n",
      "Loss at step 93000: 1.736281\n",
      "Training accuracy: 60.0%\n",
      "Validation accuracy: -2383.6%\n",
      "Loss at step 94000: 1.715478\n",
      "Training accuracy: 65.0%\n",
      "Validation accuracy: -2370.8%\n",
      "Loss at step 95000: 1.695598\n",
      "Training accuracy: 55.9%\n",
      "Validation accuracy: -2357.2%\n",
      "Loss at step 96000: 1.675335\n",
      "Training accuracy: 69.6%\n",
      "Validation accuracy: -2343.9%\n",
      "Loss at step 97000: 1.656036\n",
      "Training accuracy: 41.9%\n",
      "Validation accuracy: -2330.2%\n",
      "Loss at step 98000: 1.636995\n",
      "Training accuracy: 59.5%\n",
      "Validation accuracy: -2317.2%\n",
      "Loss at step 99000: 1.617837\n",
      "Training accuracy: 69.3%\n",
      "Validation accuracy: -2304.2%\n",
      "Loss at step 100000: 1.599680\n",
      "Training accuracy: 68.3%\n",
      "Validation accuracy: -2291.1%\n"
     ]
    }
   ],
   "source": [
    "num_steps = 100001\n",
    "\n",
    "def accuracy(prediction, price):\n",
    "  return np.mean(100 - 100*np.abs((prediction - price) / price))\n",
    "\n",
    "with tf.Session(graph=graph) as session:\n",
    "  # This is a one-time operation which ensures the parameters get initialized as\n",
    "  # we described in the graph: random weights for the matrix, zeros for the\n",
    "  # biases. \n",
    "  tf.global_variables_initializer().run()\n",
    "  print('Initialized')\n",
    "  for step in range(num_steps):\n",
    "    offset = (step * batch_size) % (train_info.shape[0] - batch_size)\n",
    "    batch_data = train_info[offset:(offset+batch_size),:]\n",
    "    batch_labels = train_prices_labels[offset:(offset+batch_size),:]\n",
    "    feed_dict = {tf_train_info: batch_data,tf_train_price:batch_labels,tf_valid_info:valid_info}\n",
    "    \n",
    "    # Run the computations. We tell .run() that we want to run the optimizer,\n",
    "    # and get the loss value and the training predictions returned as numpy\n",
    "    # arrays.\n",
    "    _, l, predictions, valid_predictions, weight, bias = session.run([optimizer, loss, train_prediction, valid_prediction]\n",
    "                                        , feed_dict=feed_dict)\n",
    "    \n",
    "    if (step % 1000 == 0):\n",
    "      print('Loss at step %d: %f' % (step, l))\n",
    "      print('Training accuracy: %.1f%%' % accuracy(\n",
    "        predictions, batch_labels))\n",
    "      # Calling .eval() on valid_prediction is basically like calling run(), but\n",
    "      # just to get that one numpy array. Note that it recomputes all its graph\n",
    "      # dependencies.\n",
    "      print('Validation accuracy: %.1f%%' % accuracy(\n",
    "        valid_predictions, valid_prices_labels))\n",
    "\n",
    "        "
   ]
  },
  {
   "cell_type": "code",
   "execution_count": 90,
   "metadata": {
    "collapsed": false
   },
   "outputs": [
    {
     "name": "stdout",
     "output_type": "stream",
     "text": [
      "('weight', array([ 0.1439344]))\n",
      "('bias', array([ 0.20662068]))\n"
     ]
    },
    {
     "data": {
      "image/png": "[encoded data removed]",
      "text/plain": [
       "<matplotlib.figure.Figure at 0x12b29f6d0>"
      ]
     },
     "metadata": {},
     "output_type": "display_data"
    },
    {
     "data": {
      "text/plain": [
       "array([[ -2.64249921e+00],\n",
       "       [  1.32533312e-01],\n",
       "       [  6.03118896e-01],\n",
       "       [  4.68913937e+00],\n",
       "       [  2.38447070e-01],\n",
       "       [  9.76549268e-01],\n",
       "       [  8.47297668e+00],\n",
       "       [  1.56049585e+01],\n",
       "       [  4.72682858e+00],\n",
       "       [  1.32533312e-01],\n",
       "       [  1.32533312e-01],\n",
       "       [  2.30585337e-02],\n",
       "       [ -1.41770887e+00],\n",
       "       [  1.32533312e-01],\n",
       "       [  1.32533312e-01],\n",
       "       [  1.11884475e-02],\n",
       "       [  1.61203131e-01],\n",
       "       [  1.95953286e+00],\n",
       "       [  5.58227158e+00],\n",
       "       [ -2.45247030e+00],\n",
       "       [  1.59420535e-01],\n",
       "       [  1.32533312e-01],\n",
       "       [  3.02880907e+00],\n",
       "       [  1.32494473e+00],\n",
       "       [  5.84327698e-01],\n",
       "       [  1.32533312e-01],\n",
       "       [  4.71539116e+00],\n",
       "       [ -8.54591250e-01],\n",
       "       [  3.05763268e+00],\n",
       "       [  1.74740434e+00],\n",
       "       [  2.91971445e-01],\n",
       "       [ -6.19256496e-01],\n",
       "       [  3.60223365e+00],\n",
       "       [ -8.66928339e-01],\n",
       "       [  4.68066335e-03],\n",
       "       [  3.44066620e-02],\n",
       "       [  1.32533312e-01],\n",
       "       [ -1.39381862e+00],\n",
       "       [  1.32533312e-01],\n",
       "       [ -7.36553478e+00],\n",
       "       [ -6.90944195e-01],\n",
       "       [  4.22884226e-01],\n",
       "       [  1.32533312e-01],\n",
       "       [ -4.92127299e-01],\n",
       "       [  8.07396317e+00],\n",
       "       [  1.32533312e-01],\n",
       "       [  3.14487576e+00],\n",
       "       [  7.13290024e+00],\n",
       "       [  3.54411244e+00],\n",
       "       [ -7.05006123e-02],\n",
       "       [  2.30070502e-01],\n",
       "       [ -9.04073715e-01],\n",
       "       [  4.22072983e+00],\n",
       "       [  1.43871307e-01],\n",
       "       [  1.09752941e+00],\n",
       "       [  1.19612443e+00],\n",
       "       [  1.32533312e-01],\n",
       "       [  6.37722015e-03],\n",
       "       [ -1.28833795e+00],\n",
       "       [ -7.44044721e-01],\n",
       "       [ -6.44139290e-01],\n",
       "       [  1.32533312e-01],\n",
       "       [  1.75481510e+00],\n",
       "       [ -1.44426298e+00],\n",
       "       [  4.55268860e-01],\n",
       "       [  4.51723862e+00],\n",
       "       [ -7.34876394e-02],\n",
       "       [  1.32533312e-01],\n",
       "       [  1.32533312e-01],\n",
       "       [  1.32533312e-01],\n",
       "       [  8.24474430e+00],\n",
       "       [ -2.09684372e-01],\n",
       "       [  1.32533312e-01],\n",
       "       [ -5.77231050e-01],\n",
       "       [  3.20039749e-01],\n",
       "       [  1.32533312e-01],\n",
       "       [ -1.68108237e+00],\n",
       "       [  1.32533312e-01],\n",
       "       [  3.72279119e+00],\n",
       "       [  1.32533312e-01],\n",
       "       [  5.83790016e+00],\n",
       "       [ -1.65307283e+00],\n",
       "       [ -6.57875657e-01],\n",
       "       [ -4.54241931e-02],\n",
       "       [  1.32533312e-01],\n",
       "       [  1.32533312e-01],\n",
       "       [ -9.96414948e+00],\n",
       "       [  1.32533312e-01],\n",
       "       [  2.10440693e+01],\n",
       "       [  3.23787332e-02],\n",
       "       [ -2.97723150e+00],\n",
       "       [  1.92124116e+00],\n",
       "       [  7.90394115e+00],\n",
       "       [  1.32533312e-01],\n",
       "       [  1.32533312e-01],\n",
       "       [  5.11459923e+00],\n",
       "       [  1.32533312e-01],\n",
       "       [  1.32533312e-01],\n",
       "       [ -1.90819025e-01],\n",
       "       [ -7.52071285e+00],\n",
       "       [  2.71772099e+01],\n",
       "       [ -6.51755929e-01],\n",
       "       [ -3.23141003e+00],\n",
       "       [  1.12575841e+00],\n",
       "       [  3.24910045e-01],\n",
       "       [  4.39945507e+00],\n",
       "       [ -1.55431151e+00],\n",
       "       [  1.21577406e+00],\n",
       "       [  5.09423256e+00],\n",
       "       [  2.24386334e-01],\n",
       "       [  2.18486762e+00],\n",
       "       [  6.93560410e+00],\n",
       "       [  1.32533312e-01],\n",
       "       [  1.16727009e+01],\n",
       "       [ -9.95055556e-01],\n",
       "       [ -2.72318363e+00],\n",
       "       [  6.28343964e+00],\n",
       "       [  1.32533312e-01],\n",
       "       [  1.32533312e-01],\n",
       "       [  7.25962639e+00],\n",
       "       [  1.32533312e-01],\n",
       "       [ -4.49939728e-01],\n",
       "       [  1.47515059e-01],\n",
       "       [ -1.68354511e-01],\n",
       "       [ -1.79752243e+00],\n",
       "       [  2.48513684e-01],\n",
       "       [  1.32533312e-01],\n",
       "       [  3.04670572e-01],\n",
       "       [  1.32533312e-01],\n",
       "       [  1.01172991e+01],\n",
       "       [  2.72065282e-01],\n",
       "       [  1.32533312e-01],\n",
       "       [  1.32533312e-01],\n",
       "       [ -4.47440720e+00],\n",
       "       [  1.01690140e+01],\n",
       "       [  1.99359837e+01],\n",
       "       [ -8.71981740e-01],\n",
       "       [ -7.93539238e+00],\n",
       "       [  1.22215462e+00],\n",
       "       [  6.25694275e+00],\n",
       "       [ -7.42709517e-01],\n",
       "       [  1.32533312e-01],\n",
       "       [  1.27534795e+00],\n",
       "       [  1.32533312e-01],\n",
       "       [  7.75604486e-01],\n",
       "       [  5.91553926e-01],\n",
       "       [  3.01223922e+00],\n",
       "       [ -3.30939412e+00],\n",
       "       [  1.85446930e+00],\n",
       "       [  2.15651453e-01],\n",
       "       [  1.32533312e-01],\n",
       "       [  1.32533312e-01],\n",
       "       [ -5.61468184e-01],\n",
       "       [  3.33570647e+00],\n",
       "       [  1.32533312e-01],\n",
       "       [ -1.43649602e+00],\n",
       "       [  1.52160335e+00],\n",
       "       [  2.76472020e+00],\n",
       "       [  1.32533312e-01],\n",
       "       [  3.87942791e-02],\n",
       "       [  1.79181886e+00],\n",
       "       [  2.57564306e-01],\n",
       "       [  1.26447344e+00],\n",
       "       [  1.32533312e-01],\n",
       "       [  2.48827755e-01],\n",
       "       [  2.62400925e-01],\n",
       "       [  5.90704727e+00],\n",
       "       [ -3.31894159e-01],\n",
       "       [ -3.92644477e+00],\n",
       "       [ -2.30043745e+00],\n",
       "       [  1.32533312e-01],\n",
       "       [  1.32533312e-01],\n",
       "       [  1.79525137e-01]], dtype=float32)"
      ]
     },
     "execution_count": 90,
     "metadata": {},
     "output_type": "execute_result"
    }
   ],
   "source": [
    "from sklearn import linear_model\n",
    "import matplotlib.pyplot as plt\n",
    "from pylab import *\n",
    "\n",
    "x = []\n",
    "\n",
    "for i in range(valid_info.shape[0]):\n",
    "    x.append(valid_info[i][1])\n",
    "\n",
    "# Create linear regression object\n",
    "regr = linear_model.LinearRegression()\n",
    "\n",
    "# Train the model using the training sets\n",
    "result_lr = regr.fit(train_info, train_prices_labels)\n",
    "\n",
    "prices_estimation = result_lr.predict(valid_info)\n",
    "\n",
    "w,b = polyfit(x, valid_prices_labels, 1)\n",
    "\n",
    "print('weight', w)\n",
    "print('bias', b)\n",
    "\n",
    "#pred_w = weight\n",
    "#pred_b = bias\n",
    "\n",
    "#pred_y = w*x + b\n",
    "\n",
    "plt.scatter(x,valid_predictions,color=\"r\")\n",
    "\n",
    "#plt.plot(x, pred_y,color=\"g\")\n",
    "\n",
    "plt.scatter(x, valid_prices_labels)\n",
    "plt.ylim(range(0,2))\n",
    "\n",
    "plt.show()\n",
    "\n",
    "\n",
    "valid_predictions\n"
   ]
  },
  {
   "cell_type": "code",
   "execution_count": 87,
   "metadata": {
    "collapsed": false,
    "scrolled": false
   },
   "outputs": [
    {
     "data": {
      "image/png": "[encoded data removed]",
      "text/plain": [
       "<matplotlib.figure.Figure at 0x11d5c7950>"
      ]
     },
     "metadata": {},
     "output_type": "display_data"
    },
    {
     "name": "stdout",
     "output_type": "stream",
     "text": [
      "Rsquared on train:  0.995638471081\n",
      "Rsquared on validation:  -9.12467925506e+18\n"
     ]
    }
   ],
   "source": [
    "\n",
    "x = []\n",
    "y = []\n",
    "\n",
    "for i in range(batch_data.shape[0]):\n",
    "    x.append(batch_data[i][1])\n",
    "    y.append(predictions[i][0])\n",
    "\n",
    "# Create linear regression object\n",
    "regr = linear_model.LinearRegression()\n",
    "\n",
    "# Train the model using the training sets\n",
    "result_lr = regr.fit(train_info, train_prices_labels)\n",
    "\n",
    "prices_estimation = result_lr.predict(valid_info)\n",
    "\n",
    "#w,b = polyfit(x, train_prices_labels, 1)\n",
    "\n",
    "#print('weight', w)\n",
    "#print('bias', b)\n",
    "\n",
    "#pred_w = weight\n",
    "#pred_b = bias\n",
    "\n",
    "#pred_y = w*x + b\n",
    "\n",
    "plt.scatter(x, y,color=\"r\")\n",
    "\n",
    "#plt.plot(x, pred_y,color=\"g\")\n",
    "\n",
    "plt.scatter(x, batch_labels)\n",
    "\n",
    "plt.show()\n",
    "\n",
    "print 'Rsquared on train: ', result_lr.score(train_info, train_prices_labels)\n",
    "print 'Rsquared on validation: ', result_lr.score(valid_info, valid_prices_labels)\n",
    "\n",
    "\n"
   ]
  },
  {
   "cell_type": "code",
   "execution_count": 86,
   "metadata": {
    "collapsed": false
   },
   "outputs": [
    {
     "data": {
      "text/plain": [
       "array([[ 0.15850049],\n",
       "       [ 0.13253134],\n",
       "       [ 0.13253134],\n",
       "       [ 0.06085721],\n",
       "       [ 0.08048528],\n",
       "       [ 0.13253134],\n",
       "       [ 0.13253134],\n",
       "       [ 0.06042022],\n",
       "       [ 0.13253134],\n",
       "       [ 0.13253134],\n",
       "       [ 0.08658713],\n",
       "       [ 0.28805846],\n",
       "       [ 0.13189173],\n",
       "       [ 0.06332296],\n",
       "       [ 0.08351272],\n",
       "       [ 0.13253134],\n",
       "       [ 0.06278592],\n",
       "       [ 0.70007318],\n",
       "       [ 0.12207216],\n",
       "       [ 0.13253134],\n",
       "       [ 0.10990824],\n",
       "       [ 0.07787436],\n",
       "       [ 0.12951511],\n",
       "       [ 0.20543975],\n",
       "       [ 0.13253134],\n",
       "       [ 0.13589737],\n",
       "       [ 0.13253134],\n",
       "       [ 0.35544038],\n",
       "       [ 0.42107791],\n",
       "       [ 0.10548256],\n",
       "       [ 0.20023328],\n",
       "       [ 0.13253134],\n",
       "       [ 0.13253134],\n",
       "       [ 0.07456464],\n",
       "       [ 0.15588158],\n",
       "       [ 0.08145398],\n",
       "       [ 0.13253134],\n",
       "       [ 0.18025655],\n",
       "       [ 0.07574743],\n",
       "       [ 0.08678383]], dtype=float32)"
      ]
     },
     "execution_count": 86,
     "metadata": {},
     "output_type": "execute_result"
    }
   ],
   "source": [
    "predictions"
   ]
  },
  {
   "cell_type": "code",
   "execution_count": 85,
   "metadata": {
    "collapsed": false
   },
   "outputs": [
    {
     "data": {
      "text/plain": [
       "[-0.41699999999999998,\n",
       " -0.43510000000000004,\n",
       " -0.46625,\n",
       " -0.43730000000000002,\n",
       " -0.436,\n",
       " -0.439,\n",
       " -0.39500000000000002,\n",
       " -0.043999999999999997,\n",
       " -0.40089999999999998,\n",
       " -0.46200000000000002,\n",
       " -0.42299999999999999,\n",
       " -0.41899999999999998,\n",
       " -0.40500000000000003,\n",
       " -0.46600000000000003,\n",
       " -0.435,\n",
       " -0.46400000000000002,\n",
       " -0.438,\n",
       " 0.5,\n",
       " -0.41299999999999998,\n",
       " -0.40300000000000002,\n",
       " -0.44,\n",
       " -0.47599999999999998,\n",
       " -0.41699999999999998,\n",
       " -0.45824999999999999,\n",
       " -0.16,\n",
       " -0.40500000000000003,\n",
       " -0.44,\n",
       " -0.35999999999999999,\n",
       " -0.29099999999999998,\n",
       " -0.42499999999999999,\n",
       " -0.39100000000000001,\n",
       " -0.42399999999999999,\n",
       " -0.47499999999999998,\n",
       " -0.45000000000000001,\n",
       " 0.0,\n",
       " -0.44400000000000001,\n",
       " -0.45569999999999999,\n",
       " -0.38400000000000001,\n",
       " -0.44700000000000001,\n",
       " -0.087999999999999995]"
      ]
     },
     "execution_count": 85,
     "metadata": {},
     "output_type": "execute_result"
    }
   ],
   "source": [
    "x"
   ]
  },
  {
   "cell_type": "code",
   "execution_count": 84,
   "metadata": {
    "collapsed": false
   },
   "outputs": [
    {
     "data": {
      "text/plain": [
       "array([[-0.28571429, -0.417     , -0.5       , ...,  0.        ,\n",
       "         0.        ,  0.        ],\n",
       "       [-0.42857143, -0.4351    , -0.5       , ...,  0.        ,\n",
       "         0.        ,  0.        ],\n",
       "       [-0.42857143, -0.46625   , -0.5       , ...,  0.        ,\n",
       "         0.        ,  0.        ],\n",
       "       ..., \n",
       "       [-0.21428571, -0.384     , -0.48627923, ...,  0.        ,\n",
       "         0.        ,  0.        ],\n",
       "       [-0.42857143, -0.447     , -0.5       , ...,  0.        ,\n",
       "         0.        ,  0.        ],\n",
       "       [-0.42857143, -0.088     , -0.48520168, ...,  0.        ,\n",
       "         0.        ,  0.        ]])"
      ]
     },
     "execution_count": 84,
     "metadata": {},
     "output_type": "execute_result"
    }
   ],
   "source": [
    "batch_data"
   ]
  },
  {
   "cell_type": "code",
   "execution_count": 130,
   "metadata": {
    "collapsed": false
   },
   "outputs": [
    {
     "data": {
      "text/plain": [
       "43"
      ]
     },
     "execution_count": 130,
     "metadata": {},
     "output_type": "execute_result"
    }
   ],
   "source": [
    "count = 0\n",
    "for surface in train_surfaceHouse_labels:\n",
    "    if surface[0] == float(0):\n",
    "        count += 1\n",
    "count"
   ]
  },
  {
   "cell_type": "code",
   "execution_count": 131,
   "metadata": {
    "collapsed": false
   },
   "outputs": [
    {
     "data": {
      "text/plain": [
       "442"
      ]
     },
     "execution_count": 131,
     "metadata": {},
     "output_type": "execute_result"
    }
   ],
   "source": [
    "len(train_surfaceHouse_labels)"
   ]
  },
  {
   "cell_type": "code",
   "execution_count": 132,
   "metadata": {
    "collapsed": false
   },
   "outputs": [
    {
     "data": {
      "text/plain": [
       "21"
      ]
     },
     "execution_count": 132,
     "metadata": {},
     "output_type": "execute_result"
    }
   ],
   "source": [
    "count = 0\n",
    "for surface in valid_surfaceHouse_labels:\n",
    "    if surface[0] == float(0):\n",
    "        count += 1\n",
    "count"
   ]
  },
  {
   "cell_type": "code",
   "execution_count": 78,
   "metadata": {
    "collapsed": false
   },
   "outputs": [
    {
     "data": {
      "text/plain": [
       "array([-0.42857143, -0.462     , -0.5       , -0.3       ])"
      ]
     },
     "execution_count": 78,
     "metadata": {},
     "output_type": "execute_result"
    }
   ],
   "source": [
    "train_info[2]"
   ]
  },
  {
   "cell_type": "code",
   "execution_count": 79,
   "metadata": {
    "collapsed": false
   },
   "outputs": [
    {
     "data": {
      "text/plain": [
       "(40, 3141)"
      ]
     },
     "execution_count": 79,
     "metadata": {},
     "output_type": "execute_result"
    }
   ],
   "source": [
    "batch_data.shape"
   ]
  },
  {
   "cell_type": "code",
   "execution_count": 47,
   "metadata": {
    "collapsed": false
   },
   "outputs": [
    {
     "data": {
      "text/plain": [
       "array([[-0.28571429, -0.41116   , -0.5       , -0.4       ],\n",
       "       [-0.42857143, -0.458     , -0.5       , -0.3       ],\n",
       "       [-0.42857143, -0.462     , -0.5       , -0.3       ],\n",
       "       ..., \n",
       "       [-0.42857143, -0.449     , -0.5       , -0.2       ],\n",
       "       [-0.14285714, -0.2       , -0.29526597, -0.25      ],\n",
       "       [-0.28571429, -0.368     , -0.5       , -0.1       ]])"
      ]
     },
     "execution_count": 47,
     "metadata": {},
     "output_type": "execute_result"
    }
   ],
   "source": [
    "train_info"
   ]
  },
  {
   "cell_type": "code",
   "execution_count": 64,
   "metadata": {
    "collapsed": false
   },
   "outputs": [],
   "source": [
    "comp_array_valid = np.zeros((valid_predictions.shape[0],2))\n",
    "\n",
    "for i in range(valid_predictions.shape[0]):\n",
    "    comp_array_valid[i][0] = valid_predictions[i][0]\n",
    "    comp_array_valid[i][1] = valid_prices_labels[i][0]\n",
    "    \n",
    "comp_array_train = np.zeros((predictions.shape[0],2))\n",
    "\n",
    "for i in range(predictions.shape[0]):\n",
    "    comp_array_train[i][0] = predictions[i][0]\n",
    "    comp_array_train[i][1] = train_prices_labels[i][0]    "
   ]
  },
  {
   "cell_type": "code",
   "execution_count": 7,
   "metadata": {
    "collapsed": false
   },
   "outputs": [],
   "source": [
    "# reformat images to 2d array 56*56\n",
    "train_images = train_images_surface_clean.reshape((-1, image_size * image_size)).astype(np.float32)\n",
    "valid_images = valid_images_surface_clean.reshape((-1, image_size * image_size)).astype(np.float32)\n",
    "\n"
   ]
  },
  {
   "cell_type": "code",
   "execution_count": 43,
   "metadata": {
    "collapsed": false
   },
   "outputs": [
    {
     "data": {
      "text/plain": [
       "399"
      ]
     },
     "execution_count": 43,
     "metadata": {},
     "output_type": "execute_result"
    }
   ],
   "source": [
    "train_prices_labels.shape[0]"
   ]
  },
  {
   "cell_type": "code",
   "execution_count": 66,
   "metadata": {
    "collapsed": false
   },
   "outputs": [
    {
     "data": {
      "text/plain": [
       "(173, 1)"
      ]
     },
     "execution_count": 66,
     "metadata": {},
     "output_type": "execute_result"
    }
   ],
   "source": [
    "valid_predictions.shape"
   ]
  },
  {
   "cell_type": "code",
   "execution_count": 67,
   "metadata": {
    "collapsed": false
   },
   "outputs": [
    {
     "data": {
      "text/plain": [
       "(173, 3141)"
      ]
     },
     "execution_count": 67,
     "metadata": {},
     "output_type": "execute_result"
    }
   ],
   "source": [
    "valid_info.shape"
   ]
  },
  {
   "cell_type": "code",
   "execution_count": null,
   "metadata": {
    "collapsed": false
   },
   "outputs": [],
   "source": []
  },
  {
   "cell_type": "code",
   "execution_count": 116,
   "metadata": {
    "collapsed": true
   },
   "outputs": [],
   "source": []
  },
  {
   "cell_type": "code",
   "execution_count": null,
   "metadata": {
    "collapsed": true
   },
   "outputs": [],
   "source": []
  }
 ],
 "metadata": {
  "anaconda-cloud": {},
  "kernelspec": {
   "display_name": "Python [conda root]",
   "language": "python",
   "name": "conda-root-py"
  },
  "language_info": {
   "codemirror_mode": {
    "name": "ipython",
    "version": 2
   },
   "file_extension": ".py",
   "mimetype": "text/x-python",
   "name": "python",
   "nbconvert_exporter": "python",
   "pygments_lexer": "ipython2",
   "version": "2.7.12"
  }
 },
 "nbformat": 4,
 "nbformat_minor": 1
}
