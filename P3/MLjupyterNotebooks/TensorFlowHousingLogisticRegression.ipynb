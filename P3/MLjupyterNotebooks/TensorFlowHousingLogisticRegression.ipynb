{
 "cells": [
  {
   "cell_type": "code",
   "execution_count": 3,
   "metadata": {
    "collapsed": false
   },
   "outputs": [
    {
     "name": "stdout",
     "output_type": "stream",
     "text": [
      "('Training set', (457, 56, 56), (457, 1))\n",
      "('Validation set', (196, 56, 56), (196, 1))\n"
     ]
    }
   ],
   "source": [
    "# logistic Regression \n",
    "\n",
    "import numpy as np\n",
    "import tensorflow as tf\n",
    "from six.moves import cPickle as pickle\n",
    "from six.moves import range\n",
    "\n",
    "pickle_file = 'housingNantes.pickle'\n",
    "\n",
    "with open(pickle_file, 'rb') as f:\n",
    "  save = pickle.load(f)\n",
    "  train_dataset = save['train_dataset']\n",
    "  train_labels = save['train_labels']\n",
    "  valid_dataset = save['valid_dataset']\n",
    "  valid_labels = save['valid_labels']\n",
    "\n",
    "  del save  # hint to help gc free up memory\n",
    "  print('Training set', train_dataset.shape, train_labels.shape)\n",
    "  print('Validation set', valid_dataset.shape, valid_labels.shape)\n",
    "\n",
    "image_size = train_dataset.shape[1]"
   ]
  },
  {
   "cell_type": "code",
   "execution_count": 4,
   "metadata": {
    "collapsed": false
   },
   "outputs": [
    {
     "name": "stdout",
     "output_type": "stream",
     "text": [
      "11\n",
      "6\n"
     ]
    }
   ],
   "source": [
    "# clean prices == 0\n",
    "\n",
    "price_equals_zero_list = []\n",
    "\n",
    "for i,price in enumerate(train_labels):\n",
    "    if price == 0:\n",
    "        price_equals_zero_list.append(i)  \n",
    "\n",
    "print len(price_equals_zero_list)   \n",
    "\n",
    "new_dim = train_labels.shape[0]-len(price_equals_zero_list)\n",
    "\n",
    "train_labels_no_zeros = np.zeros((new_dim, 1))\n",
    "train_images_no_zeros = np.zeros((new_dim, image_size,image_size))\n",
    "\n",
    "j = 0\n",
    "for i,price in enumerate(train_labels):\n",
    "    if price != 0:\n",
    "        train_labels_no_zeros[j][0] = price  \n",
    "        j += 1\n",
    "\n",
    "j = 0\n",
    "for i,image in enumerate(train_dataset):\n",
    "    if i not in price_equals_zero_list:\n",
    "        train_images_no_zeros[j,:,:] = image  \n",
    "        j += 1\n",
    "\n",
    "        \n",
    "        \n",
    "# for validation:\n",
    "\n",
    "price_equals_zero_list = []\n",
    "\n",
    "for i,price in enumerate(valid_labels):\n",
    "    if price == 0:\n",
    "        price_equals_zero_list.append(i)  \n",
    "\n",
    "print len(price_equals_zero_list)   \n",
    "\n",
    "new_dim = valid_labels.shape[0]-len(price_equals_zero_list) \n",
    "\n",
    "valid_labels_no_zeros = np.zeros((new_dim, 1))\n",
    "valid_images_no_zeros = np.zeros((new_dim, image_size,image_size))\n",
    "\n",
    "j = 0\n",
    "for i,price in enumerate(valid_labels):\n",
    "    if price != 0:\n",
    "        valid_labels_no_zeros[j][0] = price  \n",
    "        j += 1\n",
    "\n",
    "j = 0\n",
    "for i,image in enumerate(valid_dataset):\n",
    "    if i not in price_equals_zero_list:\n",
    "        valid_images_no_zeros[j,:,:] = image  \n",
    "        j += 1        "
   ]
  },
  {
   "cell_type": "code",
   "execution_count": 5,
   "metadata": {
    "collapsed": true
   },
   "outputs": [],
   "source": [
    "train_labels = train_labels_no_zeros\n",
    "valid_labels = valid_labels_no_zeros"
   ]
  },
  {
   "cell_type": "code",
   "execution_count": 6,
   "metadata": {
    "collapsed": true
   },
   "outputs": [],
   "source": [
    "# reformat \n",
    "train_images = train_images_no_zeros.reshape((-1, image_size * image_size)).astype(np.float32)\n",
    "valid_images = valid_images_no_zeros.reshape((-1, image_size * image_size)).astype(np.float32)\n",
    "\n",
    "num_labels= 1\n",
    "\n",
    "dtype = np.float32"
   ]
  },
  {
   "cell_type": "code",
   "execution_count": 76,
   "metadata": {
    "collapsed": false
   },
   "outputs": [],
   "source": [
    "\n",
    "graph = tf.Graph()\n",
    "with graph.as_default():\n",
    "\n",
    "  # Input data.\n",
    "  # Load the training, validation into constants that are\n",
    "  # attached to the graph.\n",
    "    tf_train_images = tf.placeholder(dtype, shape=[None,image_size * image_size])\n",
    "    tf_train_price = tf.placeholder(dtype, shape=[None,train_labels_cat.shape[1],train_labels_cat.shape[2]])\n",
    "    tf_valid_images = tf.placeholder(dtype, shape=[None,image_size * image_size])\n",
    "  \n",
    "  # Variables.\n",
    "  # These are the parameters that we are going to be training. The weight\n",
    "  # matrix will be initialized using random values following a (truncated)\n",
    "  # normal distribution. The biases get initialized to zero.\n",
    "    weights = tf.Variable(\n",
    "        tf.truncated_normal([image_size * image_size, num_labels]))\n",
    "    biases = tf.Variable(tf.zeros([num_labels]))\n",
    "  \n",
    "  # Training computation.\n",
    "  # We multiply the inputs with the weight matrix, and add biases. We compute\n",
    "  # the loss as the difference between price estimated and real prices.\n",
    "    \n",
    "    price_estimation = tf.matmul(tf_train_images, weights) + biases\n",
    "       \n",
    "    loss = tf.reduce_mean(tf.nn.softmax_cross_entropy_with_logits(labels=tf_train_price, logits=price_estimation))\n",
    "    \n",
    "  # Optimizer.\n",
    "  # We are going to find the minimum of this loss using AdagradOptimizer.\n",
    "  #  AdagradOptimizer\n",
    "    optimizer = tf.train.GradientDescentOptimizer(0.5).minimize(loss)\n",
    "  \n",
    "  # Predictions for the training and validation.\n",
    "    train_prediction = price_estimation\n",
    "    valid_prediction = tf.matmul(tf_valid_images, weights) + biases"
   ]
  },
  {
   "cell_type": "code",
   "execution_count": 124,
   "metadata": {
    "collapsed": false
   },
   "outputs": [
    {
     "name": "stdout",
     "output_type": "stream",
     "text": [
      "Initialized\n",
      "Loss at step 0: 20.478220\n",
      "Training accuracy: 9.2%\n",
      "Validation accuracy: 7.9%\n",
      "Loss at step 100: 2.619740\n",
      "Training accuracy: 46.6%\n",
      "Validation accuracy: 12.6%\n",
      "Loss at step 200: 0.943517\n",
      "Training accuracy: 72.4%\n",
      "Validation accuracy: 10.5%\n",
      "Loss at step 300: 0.644522\n",
      "Training accuracy: 80.0%\n",
      "Validation accuracy: 9.5%\n",
      "Loss at step 400: 0.501004\n",
      "Training accuracy: 82.1%\n",
      "Validation accuracy: 10.5%\n",
      "Loss at step 500: 0.465240\n",
      "Training accuracy: 82.5%\n",
      "Validation accuracy: 9.5%\n",
      "Loss at step 600: 0.387563\n",
      "Training accuracy: 84.1%\n",
      "Validation accuracy: 10.0%\n",
      "Loss at step 700: 0.438957\n",
      "Training accuracy: 83.6%\n",
      "Validation accuracy: 8.4%\n",
      "Loss at step 800: 0.366373\n",
      "Training accuracy: 84.1%\n",
      "Validation accuracy: 9.5%\n",
      "Loss at step 900: 0.430977\n",
      "Training accuracy: 84.3%\n",
      "Validation accuracy: 10.5%\n",
      "Loss at step 1000: 0.397396\n",
      "Training accuracy: 84.8%\n",
      "Validation accuracy: 10.5%\n",
      "Loss at step 1100: 0.361153\n",
      "Training accuracy: 84.8%\n",
      "Validation accuracy: 11.1%\n",
      "Loss at step 1200: 0.335105\n",
      "Training accuracy: 85.4%\n",
      "Validation accuracy: 10.0%\n",
      "Loss at step 1300: 0.406762\n",
      "Training accuracy: 85.2%\n",
      "Validation accuracy: 10.5%\n",
      "Loss at step 1400: 0.392684\n",
      "Training accuracy: 85.4%\n",
      "Validation accuracy: 11.1%\n",
      "Loss at step 1500: 0.389271\n",
      "Training accuracy: 85.4%\n",
      "Validation accuracy: 11.1%\n",
      "Loss at step 1600: 0.384333\n",
      "Training accuracy: 85.2%\n",
      "Validation accuracy: 11.1%\n",
      "Loss at step 1700: 0.378334\n",
      "Training accuracy: 85.2%\n",
      "Validation accuracy: 11.1%\n",
      "Loss at step 1800: 0.375163\n",
      "Training accuracy: 85.2%\n",
      "Validation accuracy: 11.1%\n",
      "Loss at step 1900: 0.372482\n",
      "Training accuracy: 85.2%\n",
      "Validation accuracy: 11.1%\n",
      "Loss at step 2000: 0.370027\n",
      "Training accuracy: 85.2%\n",
      "Validation accuracy: 11.1%\n",
      "Loss at step 2100: 0.367768\n",
      "Training accuracy: 85.4%\n",
      "Validation accuracy: 11.6%\n",
      "Loss at step 2200: 0.365685\n",
      "Training accuracy: 85.4%\n",
      "Validation accuracy: 11.6%\n",
      "Loss at step 2300: 0.363761\n",
      "Training accuracy: 85.4%\n",
      "Validation accuracy: 11.6%\n",
      "Loss at step 2400: 0.361979\n",
      "Training accuracy: 85.4%\n",
      "Validation accuracy: 11.6%\n",
      "Loss at step 2500: 0.360325\n",
      "Training accuracy: 85.4%\n",
      "Validation accuracy: 11.6%\n",
      "Loss at step 2600: 0.358782\n",
      "Training accuracy: 85.4%\n",
      "Validation accuracy: 11.6%\n",
      "Loss at step 2700: 0.357339\n",
      "Training accuracy: 85.9%\n",
      "Validation accuracy: 11.6%\n",
      "Loss at step 2800: 0.355983\n",
      "Training accuracy: 85.9%\n",
      "Validation accuracy: 11.6%\n",
      "Loss at step 2900: 0.354705\n",
      "Training accuracy: 85.9%\n",
      "Validation accuracy: 11.6%\n",
      "Loss at step 3000: 0.353496\n",
      "Training accuracy: 86.1%\n",
      "Validation accuracy: 12.1%\n"
     ]
    }
   ],
   "source": [
    "num_steps = 3001\n",
    "\n",
    "def accuracy(predictions, labels):\n",
    "  return (100.0 * np.sum(np.argmax(predictions, 1) == labels)\n",
    "          / predictions.shape[0])\n",
    "\n",
    "with tf.Session(graph=graph) as session:\n",
    "  # This is a one-time operation which ensures the parameters get initialized as\n",
    "  # we described in the graph: random weights for the matrix, zeros for the\n",
    "  # biases. \n",
    "  tf.global_variables_initializer().run()\n",
    "  print('Initialized')\n",
    "  for step in range(num_steps):\n",
    "    # Run the computations. We tell .run() that we want to run the optimizer,\n",
    "    # and get the loss value and the training predictions returned as numpy\n",
    "    # arrays.\n",
    "    _, l, predictions,valid_predictions = session.run([optimizer, loss, train_prediction,valid_prediction]\n",
    "                                        , feed_dict={tf_train_images: train_images,tf_train_price: train_labels_cat,tf_valid_images: valid_images })\n",
    "    if (step % 100 == 0):\n",
    "      print('Loss at step %d: %f' % (step, l))\n",
    "      print('Training accuracy: %.1f%%' % accuracy(\n",
    "        predictions, precision_train_labels))\n",
    "      # Calling .eval() on valid_prediction is basically like calling run(), but\n",
    "      # just to get that one numpy array. Note that it recomputes all its graph\n",
    "      # dependencies.\n",
    "      print('Validation accuracy: %.1f%%' % accuracy(\n",
    "        valid_predictions, precision_valid_labels))"
   ]
  },
  {
   "cell_type": "code",
   "execution_count": 116,
   "metadata": {
    "collapsed": false
   },
   "outputs": [
    {
     "data": {
      "text/plain": [
       "DescribeResult(nobs=446, minmax=(array([ 12000.]), array([ 1860000.])), mean=array([ 269818.29147982]), variance=array([  5.09068459e+10]), skewness=array([ 2.84060569]), kurtosis=array([ 11.9724932]))"
      ]
     },
     "execution_count": 116,
     "metadata": {},
     "output_type": "execute_result"
    }
   ],
   "source": [
    "# make categories of prices\n",
    "\n",
    "from scipy import stats\n",
    "\n",
    "stats.describe(train_labels)"
   ]
  },
  {
   "cell_type": "code",
   "execution_count": 15,
   "metadata": {
    "collapsed": false
   },
   "outputs": [
    {
     "data": {
      "text/plain": [
       "DescribeResult(nobs=190, minmax=(array([ 29074.]), array([ 1860000.])), mean=array([ 303723.85263158]), variance=array([  8.97267923e+10]), skewness=array([ 2.60833285]), kurtosis=array([ 7.75341929]))"
      ]
     },
     "execution_count": 15,
     "metadata": {},
     "output_type": "execute_result"
    }
   ],
   "source": [
    "stats.describe(valid_labels)"
   ]
  },
  {
   "cell_type": "code",
   "execution_count": 23,
   "metadata": {
    "collapsed": false
   },
   "outputs": [
    {
     "data": {
      "text/plain": [
       "12000.0"
      ]
     },
     "execution_count": 23,
     "metadata": {},
     "output_type": "execute_result"
    }
   ],
   "source": [
    "np.min([np.min(train_labels),np.min(valid_labels)])"
   ]
  },
  {
   "cell_type": "code",
   "execution_count": 31,
   "metadata": {
    "collapsed": false
   },
   "outputs": [
    {
     "data": {
      "image/png": "[encoded data removed]",
      "text/plain": [
       "<matplotlib.figure.Figure at 0x123e00210>"
      ]
     },
     "metadata": {},
     "output_type": "display_data"
    }
   ],
   "source": [
    "import matplotlib.pyplot as plt\n",
    "import seaborn as sns\n",
    "\n",
    "sns.distplot(train_labels)\n",
    "sns.distplot(valid_labels)\n",
    "plt.show()\n",
    "\n"
   ]
  },
  {
   "cell_type": "code",
   "execution_count": 34,
   "metadata": {
    "collapsed": false
   },
   "outputs": [
    {
     "data": {
      "text/plain": [
       "120000.0"
      ]
     },
     "execution_count": 34,
     "metadata": {},
     "output_type": "execute_result"
    }
   ],
   "source": [
    "# a majority of prices are between 0 and 500000 euros\n",
    "# so better use quartiles than fixed sizes for categories of price\n",
    "\n",
    "quartiles = \n",
    "\n",
    "upper_limit = np.percentile(train_labels, 10)\n",
    "\n",
    "\n"
   ]
  },
  {
   "cell_type": "code",
   "execution_count": 58,
   "metadata": {
    "collapsed": false
   },
   "outputs": [],
   "source": [
    "train_categories = np.zeros((train_labels.shape[0],train_labels.shape[1]))\n",
    "valid_categories = np.zeros((valid_labels.shape[0],valid_labels.shape[1]))\n",
    "\n",
    "\n",
    "for quartile in xrange(0, 100, 10):\n",
    "    #print i\n",
    "    for i in range(len(train_labels)):\n",
    "        #print quartile\n",
    "        if train_labels[i] > np.percentile(train_labels, quartile) and train_labels[i] < np.percentile(train_labels, quartile+10):\n",
    "            train_categories[i] = quartile / 10 \n",
    "            \n",
    "\n",
    "for quartile in xrange(0, 100, 10):\n",
    "    #print i\n",
    "    for i in range(len(valid_labels)):\n",
    "        #print quartile\n",
    "        if valid_labels[i] > np.percentile(train_labels, quartile) and valid_labels[i] < np.percentile(train_labels, quartile+10):\n",
    "            valid_categories[i] = quartile / 10     "
   ]
  },
  {
   "cell_type": "code",
   "execution_count": 66,
   "metadata": {
    "collapsed": false
   },
   "outputs": [],
   "source": [
    "# reformat one-hot encoding\n",
    "\n",
    "num_labels = 10\n",
    "\n",
    "train_labels_cat = (np.arange(num_labels) == train_categories[:,None]).astype(np.float32)\n",
    "valid_labels_cat = (np.arange(num_labels) == valid_categories[:,None]).astype(np.float32)"
   ]
  },
  {
   "cell_type": "code",
   "execution_count": 70,
   "metadata": {
    "collapsed": false
   },
   "outputs": [
    {
     "data": {
      "text/plain": [
       "array([[ 0.,  0.,  0.,  0.,  0.,  0.,  0.,  0.,  1.,  0.]], dtype=float32)"
      ]
     },
     "execution_count": 70,
     "metadata": {},
     "output_type": "execute_result"
    }
   ],
   "source": [
    "train_labels_cat[2]"
   ]
  },
  {
   "cell_type": "code",
   "execution_count": 78,
   "metadata": {
    "collapsed": false
   },
   "outputs": [
    {
     "data": {
      "text/plain": [
       "array([[  7.33135033,  -1.62427831,  -7.09939718, ...,  10.11676121,\n",
       "         -4.41688347,   2.99096274],\n",
       "       [  5.57628822,   4.23776436,  -2.28838444, ...,  -8.19786358,\n",
       "          4.79853678,   4.83172941],\n",
       "       [  9.36857224,  -5.36765289,   3.34917283, ...,  -0.98330379,\n",
       "         14.83210754,  -2.34350634],\n",
       "       ..., \n",
       "       [ -5.68732834,  -1.69615912,  -9.56957054, ...,   7.11015034,\n",
       "         -5.91413498,   4.21804523],\n",
       "       [ 13.71513748,   1.89317203,   6.15576982, ...,  -6.05473423,\n",
       "         12.35378933,  14.72682762],\n",
       "       [  1.01138186,  14.04428577,   8.33904648, ...,   2.27134752,\n",
       "         -4.29599619,  -5.76207495]], dtype=float32)"
      ]
     },
     "execution_count": 78,
     "metadata": {},
     "output_type": "execute_result"
    }
   ],
   "source": [
    "predictions"
   ]
  },
  {
   "cell_type": "code",
   "execution_count": 75,
   "metadata": {
    "collapsed": false
   },
   "outputs": [
    {
     "data": {
      "text/plain": [
       "array([[[ 0.,  0.,  0., ...,  0.,  0.,  0.]],\n",
       "\n",
       "       [[ 0.,  0.,  0., ...,  0.,  1.,  0.]],\n",
       "\n",
       "       [[ 0.,  0.,  0., ...,  0.,  1.,  0.]],\n",
       "\n",
       "       ..., \n",
       "       [[ 0.,  0.,  0., ...,  0.,  0.,  0.]],\n",
       "\n",
       "       [[ 0.,  0.,  0., ...,  0.,  0.,  0.]],\n",
       "\n",
       "       [[ 0.,  0.,  0., ...,  0.,  0.,  0.]]], dtype=float32)"
      ]
     },
     "execution_count": 75,
     "metadata": {},
     "output_type": "execute_result"
    }
   ],
   "source": [
    "train_labels_cat"
   ]
  },
  {
   "cell_type": "code",
   "execution_count": 80,
   "metadata": {
    "collapsed": false
   },
   "outputs": [
    {
     "name": "stderr",
     "output_type": "stream",
     "text": [
      "/Users/alex/anaconda2/lib/python2.7/site-packages/ipykernel/__main__.py:1: DeprecationWarning: elementwise == comparison failed; this will raise an error in the future.\n",
      "  if __name__ == '__main__':\n"
     ]
    },
    {
     "data": {
      "text/plain": [
       "0.0"
      ]
     },
     "execution_count": 80,
     "metadata": {},
     "output_type": "execute_result"
    }
   ],
   "source": [
    "100.0 * np.sum(np.argmax(predictions, 1) == np.argmax(train_labels_cat, 1) / predictions.shape[0])"
   ]
  },
  {
   "cell_type": "code",
   "execution_count": 86,
   "metadata": {
    "collapsed": false
   },
   "outputs": [
    {
     "data": {
      "text/plain": [
       "(446, 1, 10)"
      ]
     },
     "execution_count": 86,
     "metadata": {},
     "output_type": "execute_result"
    }
   ],
   "source": [
    "predictions.shape\n",
    "train_labels_cat.shape"
   ]
  },
  {
   "cell_type": "code",
   "execution_count": 88,
   "metadata": {
    "collapsed": false
   },
   "outputs": [
    {
     "data": {
      "text/plain": [
       "array([[[ 0.,  0.,  0., ...,  0.,  0.,  0.]],\n",
       "\n",
       "       [[ 0.,  0.,  0., ...,  0.,  1.,  0.]],\n",
       "\n",
       "       [[ 0.,  0.,  0., ...,  0.,  1.,  0.]],\n",
       "\n",
       "       ..., \n",
       "       [[ 0.,  0.,  0., ...,  0.,  0.,  0.]],\n",
       "\n",
       "       [[ 0.,  0.,  0., ...,  0.,  0.,  0.]],\n",
       "\n",
       "       [[ 0.,  0.,  0., ...,  0.,  0.,  0.]]], dtype=float32)"
      ]
     },
     "execution_count": 88,
     "metadata": {},
     "output_type": "execute_result"
    }
   ],
   "source": [
    "train_labels_cat"
   ]
  },
  {
   "cell_type": "code",
   "execution_count": 95,
   "metadata": {
    "collapsed": false
   },
   "outputs": [
    {
     "data": {
      "text/plain": [
       "(446,)"
      ]
     },
     "execution_count": 95,
     "metadata": {},
     "output_type": "execute_result"
    }
   ],
   "source": [
    "np.argmax(predictions, 1).shape"
   ]
  },
  {
   "cell_type": "code",
   "execution_count": 98,
   "metadata": {
    "collapsed": false
   },
   "outputs": [
    {
     "data": {
      "text/plain": [
       "array([0, 0, 0, 0, 0, 0, 0, 0, 0, 0, 0, 0, 0, 0, 0, 0, 0, 0, 0, 0, 0, 0, 0,\n",
       "       0, 0, 0, 0, 0, 0, 0, 0, 0, 0, 0, 0, 0, 0, 0, 0, 0, 0, 0, 0, 0, 0, 0,\n",
       "       0, 0, 0, 0, 0, 0, 0, 0, 0, 0, 0, 0, 0, 0, 0, 0, 0, 0, 0, 0, 0, 0, 0,\n",
       "       0, 0, 0, 0, 0, 0, 0, 0, 0, 0, 0, 0, 0, 0, 0, 0, 0, 0, 0, 0, 0, 0, 0,\n",
       "       0, 0, 0, 0, 0, 0, 0, 0, 0, 0, 0, 0, 0, 0, 0, 0, 0, 0, 0, 0, 0, 0, 0,\n",
       "       0, 0, 0, 0, 0, 0, 0, 0, 0, 0, 0, 0, 0, 0, 0, 0, 0, 0, 0, 0, 0, 0, 0,\n",
       "       0, 0, 0, 0, 0, 0, 0, 0, 0, 0, 0, 0, 0, 0, 0, 0, 0, 0, 0, 0, 0, 0, 0,\n",
       "       0, 0, 0, 0, 0, 0, 0, 0, 0, 0, 0, 0, 0, 0, 0, 0, 0, 0, 0, 0, 0, 0, 0,\n",
       "       0, 0, 0, 0, 0, 0, 0, 0, 0, 0, 0, 0, 0, 0, 0, 0, 0, 0, 0, 0, 0, 0, 0,\n",
       "       0, 0, 0, 0, 0, 0, 0, 0, 0, 0, 0, 0, 0, 0, 0, 0, 0, 0, 0, 0, 0, 0, 0,\n",
       "       0, 0, 0, 0, 0, 0, 0, 0, 0, 0, 0, 0, 0, 0, 0, 0, 0, 0, 0, 0, 0, 0, 0,\n",
       "       0, 0, 0, 0, 0, 0, 0, 0, 0, 0, 0, 0, 0, 0, 0, 0, 0, 0, 0, 0, 0, 0, 0,\n",
       "       0, 0, 0, 0, 0, 0, 0, 0, 0, 0, 0, 0, 0, 0, 0, 0, 0, 0, 0, 0, 0, 0, 0,\n",
       "       0, 0, 0, 0, 0, 0, 0, 0, 0, 0, 0, 0, 0, 0, 0, 0, 0, 0, 0, 0, 0, 0, 0,\n",
       "       0, 0, 0, 0, 0, 0, 0, 0, 0, 0, 0, 0, 0, 0, 0, 0, 0, 0, 0, 0, 0, 0, 0,\n",
       "       0, 0, 0, 0, 0, 0, 0, 0, 0, 0, 0, 0, 0, 0, 0, 0, 0, 0, 0, 0, 0, 0, 0,\n",
       "       0, 0, 0, 0, 0, 0, 0, 0, 0, 0, 0, 0, 0, 0, 0, 0, 0, 0, 0, 0, 0, 0, 0,\n",
       "       0, 0, 0, 0, 0, 0, 0, 0, 0, 0, 0, 0, 0, 0, 0, 0, 0, 0, 0, 0, 0, 0, 0,\n",
       "       0, 0, 0, 0, 0, 0, 0, 0, 0, 0, 0, 0, 0, 0, 0, 0, 0, 0, 0, 0, 0, 0, 0,\n",
       "       0, 0, 0, 0, 0, 0, 0, 0, 0])"
      ]
     },
     "execution_count": 98,
     "metadata": {},
     "output_type": "execute_result"
    }
   ],
   "source": [
    "np.argmax(train_categories,1)"
   ]
  },
  {
   "cell_type": "code",
   "execution_count": 99,
   "metadata": {
    "collapsed": false
   },
   "outputs": [
    {
     "data": {
      "text/plain": [
       "(446, 10)"
      ]
     },
     "execution_count": 99,
     "metadata": {},
     "output_type": "execute_result"
    }
   ],
   "source": [
    "predictions.shape"
   ]
  },
  {
   "cell_type": "code",
   "execution_count": 102,
   "metadata": {
    "collapsed": false
   },
   "outputs": [
    {
     "data": {
      "text/plain": [
       "(446, 1, 10)"
      ]
     },
     "execution_count": 102,
     "metadata": {},
     "output_type": "execute_result"
    }
   ],
   "source": [
    "train_labels_cat.shape"
   ]
  },
  {
   "cell_type": "code",
   "execution_count": 121,
   "metadata": {
    "collapsed": true
   },
   "outputs": [],
   "source": [
    "precision_train_labels = np.zeros((train_labels_cat.shape[0]))\n",
    "\n",
    "precision_valid_labels = np.zeros((valid_labels_cat.shape[0]))"
   ]
  },
  {
   "cell_type": "code",
   "execution_count": 122,
   "metadata": {
    "collapsed": false
   },
   "outputs": [],
   "source": [
    "for i in range(len(precision_train_labels)):\n",
    "\n",
    "    precision_train_labels[i] = train_categories[i][0]\n",
    "    \n",
    "for i in range(len(precision_valid_labels)):\n",
    "\n",
    "    precision_valid_labels[i] = valid_categories[i][0]"
   ]
  },
  {
   "cell_type": "code",
   "execution_count": 107,
   "metadata": {
    "collapsed": false
   },
   "outputs": [
    {
     "data": {
      "text/plain": [
       "4.0"
      ]
     },
     "execution_count": 107,
     "metadata": {},
     "output_type": "execute_result"
    }
   ],
   "source": [
    "train_categories[0][0]"
   ]
  },
  {
   "cell_type": "code",
   "execution_count": 112,
   "metadata": {
    "collapsed": false
   },
   "outputs": [
    {
     "data": {
      "text/plain": [
       "8.0"
      ]
     },
     "execution_count": 112,
     "metadata": {},
     "output_type": "execute_result"
    }
   ],
   "source": [
    "train_categories[1][0]"
   ]
  },
  {
   "cell_type": "code",
   "execution_count": 114,
   "metadata": {
    "collapsed": false
   },
   "outputs": [
    {
     "data": {
      "text/plain": [
       "array([ 4.,  8.,  8.,  2.,  0.,  1.,  3.,  9.,  9.,  0.,  2.,  4.,  1.,\n",
       "        4.,  0.,  6.,  3.,  1.,  8.,  0.,  0.,  5.,  3.,  3.,  6.,  9.,\n",
       "        8.,  4.,  8.,  7.,  2.,  9.,  3.,  6.,  6.,  9.,  9.,  9.,  2.,\n",
       "        7.,  4.,  6.,  6.,  2.,  4.,  8.,  8.,  7.,  4.,  4.,  9.,  7.,\n",
       "        5.,  4.,  0.,  1.,  4.,  7.,  8.,  6.,  6.,  8.,  0.,  5.,  0.,\n",
       "        5.,  1.,  7.,  3.,  5.,  6.,  4.,  9.,  2.,  8.,  5.,  3.,  9.,\n",
       "        6.,  6.,  2.,  0.,  7.,  9.,  5.,  3.,  1.,  0.,  8.,  0.,  1.,\n",
       "        7.,  3.,  8.,  5.,  9.,  6.,  3.,  1.,  5.,  1.,  0.,  5.,  9.,\n",
       "        1.,  3.,  9.,  0.,  3.,  7.,  3.,  7.,  5.,  6.,  1.,  4.,  0.,\n",
       "        1.,  4.,  0.,  7.,  9.,  1.,  9.,  3.,  7.,  0.,  1.,  8.,  7.,\n",
       "        6.,  3.,  6.,  9.,  4.,  2.,  8.,  5.,  2.,  9.,  4.,  7.,  7.,\n",
       "        5.,  6.,  7.,  9.,  2.,  7.,  5.,  3.,  5.,  1.,  8.,  5.,  9.,\n",
       "        2.,  2.,  9.,  6.,  4.,  8.,  6.,  2.,  5.,  6.,  3.,  6.,  0.,\n",
       "        0.,  3.,  2.,  0.,  5.,  1.,  4.,  2.,  0.,  6.,  7.,  0.,  7.,\n",
       "        8.,  4.,  4.,  5.,  3.,  8.,  9.,  6.,  9.,  7.,  6.,  0.,  7.,\n",
       "        8.,  0.,  0.,  3.,  7.,  1.,  8.,  3.,  8.,  5.,  5.,  2.,  2.,\n",
       "        1.,  2.,  5.,  8.,  1.,  4.,  0.,  6.,  9.,  2.,  7.,  0.,  0.,\n",
       "        7.,  9.,  1.,  1.,  9.,  5.,  1.,  6.,  7.,  4.,  8.,  6.,  4.,\n",
       "        7.,  6.,  9.,  6.,  1.,  0.,  4.,  1.,  4.,  3.,  3.,  1.,  4.,\n",
       "        3.,  2.,  9.,  6.,  3.,  5.,  8.,  2.,  4.,  5.,  2.,  6.,  7.,\n",
       "        1.,  3.,  3.,  7.,  2.,  0.,  5.,  9.,  8.,  4.,  0.,  8.,  1.,\n",
       "        0.,  0.,  6.,  9.,  7.,  0.,  4.,  4.,  3.,  6.,  4.,  8.,  0.,\n",
       "        3.,  4.,  3.,  4.,  2.,  0.,  9.,  4.,  3.,  7.,  2.,  1.,  8.,\n",
       "        6.,  8.,  0.,  0.,  8.,  7.,  3.,  8.,  5.,  5.,  7.,  5.,  1.,\n",
       "        8.,  2.,  8.,  7.,  5.,  1.,  0.,  7.,  1.,  1.,  5.,  9.,  3.,\n",
       "        6.,  8.,  4.,  8.,  2.,  9.,  1.,  3.,  1.,  1.,  7.,  2.,  4.,\n",
       "        0.,  2.,  5.,  8.,  5.,  0.,  7.,  9.,  9.,  4.,  2.,  5.,  1.,\n",
       "        2.,  6.,  9.,  6.,  3.,  0.,  8.,  5.,  3.,  7.,  4.,  7.,  4.,\n",
       "        1.,  2.,  3.,  0.,  2.,  6.,  0.,  2.,  9.,  9.,  9.,  1.,  2.,\n",
       "        6.,  6.,  6.,  2.,  8.,  1.,  0.,  5.,  8.,  6.,  5.,  5.,  2.,\n",
       "        3.,  9.,  2.,  4.,  5.,  0.,  6.,  7.,  7.,  2.,  4.,  1.,  2.,\n",
       "        8.,  3.,  0.,  7.,  7.,  3.,  8.,  9.,  8.,  2.,  0.,  5.,  9.,\n",
       "        4.,  5.,  3.,  4.,  0.,  5.,  1.,  0.,  8.,  8.,  9.,  0.,  0.,\n",
       "        0.,  7.,  0.,  5.,  1.,  4.,  0.,  6.,  4.,  9.,  0.,  3.,  0.,\n",
       "        7.,  3.,  5.,  6.])"
      ]
     },
     "execution_count": 114,
     "metadata": {},
     "output_type": "execute_result"
    }
   ],
   "source": [
    "precision_train_labels"
   ]
  },
  {
   "cell_type": "code",
   "execution_count": 117,
   "metadata": {
    "collapsed": false
   },
   "outputs": [
    {
     "data": {
      "text/plain": [
       "0.0"
      ]
     },
     "execution_count": 117,
     "metadata": {},
     "output_type": "execute_result"
    }
   ],
   "source": [
    "100.0 * np.sum(np.argmax(predictions, 1) == precision_train_labels / predictions.shape[0])"
   ]
  },
  {
   "cell_type": "code",
   "execution_count": 123,
   "metadata": {
    "collapsed": false
   },
   "outputs": [
    {
     "data": {
      "text/plain": [
       "array([ 7.,  4.,  0.,  4.,  0.,  3.,  6.,  9.,  7.,  1.,  7.,  2.,  3.,\n",
       "        3.,  3.,  9.,  5.,  6.,  0.,  8.,  1.,  9.,  4.,  0.,  6.,  0.,\n",
       "        3.,  4.,  2.,  0.,  8.,  6.,  7.,  5.,  3.,  8.,  2.,  4.,  3.,\n",
       "        7.,  6.,  5.,  0.,  6.,  2.,  9.,  3.,  2.,  6.,  1.,  5.,  4.,\n",
       "        2.,  8.,  7.,  9.,  9.,  3.,  6.,  6.,  0.,  9.,  3.,  4.,  3.,\n",
       "        8.,  3.,  5.,  0.,  7.,  5.,  0.,  6.,  6.,  0.,  2.,  8.,  9.,\n",
       "        2.,  2.,  3.,  9.,  5.,  9.,  5.,  0.,  0.,  5.,  8.,  2.,  3.,\n",
       "        3.,  0.,  0.,  1.,  9.,  5.,  6.,  3.,  3.,  9.,  4.,  5.,  9.,\n",
       "        0.,  0.,  4.,  1.,  5.,  9.,  5.,  9.,  0.,  0.,  9.,  2.,  9.,\n",
       "        9.,  4.,  3.,  9.,  0.,  3.,  6.,  0.,  7.,  6.,  3.,  7.,  6.,\n",
       "        5.,  7.,  9.,  0.,  7.,  1.,  7.,  7.,  2.,  5.,  6.,  8.,  0.,\n",
       "        9.,  2.,  3.,  4.,  4.,  7.,  9.,  2.,  1.,  6.,  8.,  9.,  6.,\n",
       "        1.,  9.,  8.,  8.,  5.,  9.,  4.,  4.,  3.,  4.,  9.,  7.,  4.,\n",
       "        6.,  4.,  6.,  5.,  1.,  4.,  0.,  4.,  1.,  7.,  2.,  1.,  3.,\n",
       "        4.,  8.,  9.,  3.,  4.,  0.,  8.,  0.])"
      ]
     },
     "execution_count": 123,
     "metadata": {},
     "output_type": "execute_result"
    }
   ],
   "source": [
    "precision_valid_labels"
   ]
  },
  {
   "cell_type": "code",
   "execution_count": 125,
   "metadata": {
    "collapsed": false
   },
   "outputs": [
    {
     "data": {
      "text/plain": [
       "array([[ -8.85281181, -13.93787956, -11.11027813, ...,   0.48715883,\n",
       "          1.58398938,   2.55440116],\n",
       "       [  2.0066402 ,   0.59262478,  -6.14839315, ...,  -8.38653278,\n",
       "          1.16062999,   1.12383771],\n",
       "       [  2.63591337,  -5.67734957,   1.85741091, ..., -15.5220089 ,\n",
       "         13.78565407,   0.56766248],\n",
       "       ..., \n",
       "       [  0.72635114, -13.28945827,   0.01799798, ...,   9.48392677,\n",
       "         10.70045662,  10.81115055],\n",
       "       [  1.77655196,  -4.99360847,   0.12558502, ...,   0.20073444,\n",
       "        -11.31031036,   3.01576209],\n",
       "       [  4.22537327,  11.74582005,   3.19514561, ...,  -3.5390203 ,\n",
       "        -13.44187927,  -0.50579572]], dtype=float32)"
      ]
     },
     "execution_count": 125,
     "metadata": {},
     "output_type": "execute_result"
    }
   ],
   "source": []
  },
  {
   "cell_type": "code",
   "execution_count": null,
   "metadata": {
    "collapsed": true
   },
   "outputs": [],
   "source": []
  }
 ],
 "metadata": {
  "anaconda-cloud": {},
  "kernelspec": {
   "display_name": "Python [conda root]",
   "language": "python",
   "name": "conda-root-py"
  },
  "language_info": {
   "codemirror_mode": {
    "name": "ipython",
    "version": 2
   },
   "file_extension": ".py",
   "mimetype": "text/x-python",
   "name": "python",
   "nbconvert_exporter": "python",
   "pygments_lexer": "ipython2",
   "version": "2.7.12"
  }
 },
 "nbformat": 4,
 "nbformat_minor": 1
}
